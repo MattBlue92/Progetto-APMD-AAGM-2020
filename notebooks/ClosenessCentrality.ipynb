{
 "cells": [
  {
   "cell_type": "markdown",
   "metadata": {
    "collapsed": true,
    "pycharm": {
     "name": "#%% md\n"
    }
   },
   "source": [
    "# Closeness Centrality"
   ]
  },
  {
   "cell_type": "code",
   "execution_count": 1,
   "outputs": [],
   "source": [
    "def checkAsymptoticConvergence(expected, actual, epsilon):\n",
    "    result = True\n",
    "    for key in actual.keys():\n",
    "        abs_error = np.abs((1 / (actual[key]+0.5)) - (1 / (expected[key]+0.5)))\n",
    "        result = result and abs_error < epsilon\n",
    "    return result"
   ],
   "metadata": {
    "collapsed": false,
    "pycharm": {
     "name": "#%%\n",
     "is_executing": false
    }
   }
  },
  {
   "cell_type": "code",
   "execution_count": 2,
   "outputs": [],
   "source": [
    "import networkx as nx\n",
    "import numpy as np\n"
   ],
   "metadata": {
    "collapsed": false,
    "pycharm": {
     "name": "#%%\n",
     "is_executing": false
    }
   }
  },
  {
   "cell_type": "code",
   "execution_count": 3,
   "outputs": [],
   "source": [
    "import os\n",
    "from path import Path\n",
    "PROJ_DIR = Path().getcwd().parent\n",
    "DATA_DIR = PROJ_DIR / \"data\"\n",
    "os.chdir (PROJ_DIR)"
   ],
   "metadata": {
    "collapsed": false,
    "pycharm": {
     "name": "#%%\n",
     "is_executing": false
    }
   }
  },
  {
   "cell_type": "code",
   "execution_count": 4,
   "outputs": [],
   "source": [
    "from scripts.src.ClosenessCentrality import ClosenessCentrality\n"
   ],
   "metadata": {
    "collapsed": false,
    "pycharm": {
     "name": "#%%\n",
     "is_executing": false
    }
   }
  },
  {
   "cell_type": "code",
   "execution_count": 5,
   "outputs": [],
   "source": [
    "# import networks\n",
    "P=nx.read_adjlist(DATA_DIR/\"P.adjlist\", delimiter=\",\")\n",
    "R=nx.read_adjlist(DATA_DIR/\"R.adjlist\", delimiter=\",\")"
   ],
   "metadata": {
    "collapsed": false,
    "pycharm": {
     "name": "#%%\n",
     "is_executing": false
    }
   }
  },
  {
   "cell_type": "markdown",
   "source": [
    "## P network"
   ],
   "metadata": {
    "collapsed": false
   }
  },
  {
   "cell_type": "code",
   "execution_count": 6,
   "outputs": [],
   "source": [
    "cc = ClosenessCentrality()\n",
    "expected = nx.closeness_centrality(P, wf_improved=False)"
   ],
   "metadata": {
    "collapsed": false,
    "pycharm": {
     "name": "#%%\n",
     "is_executing": false
    }
   }
  },
  {
   "cell_type": "code",
   "execution_count": 7,
   "outputs": [],
   "source": [
    "actual = cc.closenessUsingBFS(P, networkx=True)\n",
    "assert expected == actual"
   ],
   "metadata": {
    "collapsed": false,
    "pycharm": {
     "name": "#%%\n",
     "is_executing": false
    }
   }
  },
  {
   "cell_type": "code",
   "execution_count": 8,
   "outputs": [
    {
     "name": "stdout",
     "text": [
      "Expected: {'Chieti': 0.16926070038910507, \"L'Aquila\": 0.17791411042944785, 'Pescara': 0.16353383458646617, 'Teramo': 0.18162839248434237, 'Ascoli Piceno': 0.1875, 'Campobasso': 0.1518324607329843, 'Isernia': 0.1518324607329843, 'Frosinone': 0.16893203883495145, 'Rieti': 0.19376391982182628, 'Terni': 0.19078947368421054, 'Fermo': 0.1746987951807229, 'Macerata': 0.19727891156462585, 'Matera': 0.10128055878928988, 'Potenza': 0.10081112398609501, 'Bari': 0.10116279069767442, 'Barletta-Andria-Trani': 0.11139564660691421, 'Taranto': 0.0925531914893617, 'Bolzano': 0.16171003717472118, 'Trento': 0.19247787610619468, 'Catanzaro': 0.3, 'Cosenza': 0.2926829268292683, 'Crotone': 0.23529411764705882, 'Vibo Valentia': 0.375, 'Reggio di Calabria': 0.42857142857142855, 'Catania': 0.46153846153846156, 'Messina': 0.42857142857142855, 'Avellino': 0.13657770800627944, 'Benevento': 0.13657770800627944, 'Caserta': 0.13488372093023257, 'Napoli': 0.13488372093023257, 'Salerno': 0.12219101123595505, 'Foggia': 0.12305516265912306, 'Bologna': 0.22422680412371135, 'Ferrara': 0.23641304347826086, 'ForlÃ¬-Cesena': 0.22422680412371135, 'Modena': 0.23138297872340424, \"Reggio nell'Emilia\": 0.21428571428571427, 'Mantova': 0.21641791044776118, 'Firenze': 0.21804511278195488, 'Pistoia': 0.21588089330024815, 'Prato': 0.22715404699738903, 'Rovigo': 0.22955145118733508, 'Ravenna': 0.2236503856041131, 'Padova': 0.20327102803738317, 'Venezia': 0.20232558139534884, 'Verona': 0.22774869109947643, 'Vicenza': 0.21588089330024815, 'Rimini': 0.2116788321167883, 'Arezzo': 0.22422680412371135, 'Parma': 0.21804511278195488, 'Massa Carrara': 0.20518867924528303, 'Piacenza': 0.1963882618510158, 'La Spezia': 0.1963882618510158, 'Brescia': 0.2106537530266344, 'Cremona': 0.20046082949308755, 'Genova': 0.17159763313609466, 'Bergamo': 0.1879049676025918, 'Como': 0.17296222664015903, 'Lodi': 0.18872017353579176, 'Milano': 0.174, 'Monza e della Brianza': 0.18012422360248448, 'Pavia': 0.174, 'Pesaro e Urbino': 0.2116788321167883, 'Gorizia': 0.12946428571428573, 'Trieste': 0.12946428571428573, 'Udine': 0.14821124361158433, 'Pordenone': 0.17227722772277226, 'Belluno': 0.18200836820083682, 'Treviso': 0.1963882618510158, 'Latina': 0.1457286432160804, 'Roma': 0.1638418079096045, 'Viterbo': 0.18354430379746836, 'Perugia': 0.20813397129186603, 'Savona': 0.15, 'Alessandria': 0.15875912408759124, 'Asti': 0.15236427320490367, 'Imperia': 0.13141993957703926, 'Cuneo': 0.1332312404287902, 'Livorno': 0.19954128440366972, 'Lucca': 0.20092378752886836, 'Pisa': 0.19954128440366972, 'Lecco': 0.17827868852459017, 'Sondrio': 0.1843220338983051, 'Varese': 0.16698656429942418, 'Novara': 0.1590493601462523, 'Verbano-Cusio-Ossola': 0.15732368896925858, 'Vercelli': 0.15343915343915343, 'Biella': 0.14770797962648557, 'Ancona': 0.19683257918552036, 'Torino': 0.13530326594090203, 'Aosta': 0.12946428571428573, 'Brindisi': 0.0849609375, 'Lecce': 0.07837837837837838, 'Cagliari': 0.5714285714285714, 'Oristano': 0.8, 'Sud Sardegna': 0.5714285714285714, 'Nuoro': 0.6666666666666666, 'Sassari': 0.4444444444444444, 'Agrigento': 0.2727272727272727, 'Caltanissetta': 0.35294117647058826, 'Enna': 0.34285714285714286, 'Palermo': 0.26666666666666666, 'Ragusa': 0.42857142857142855, 'Siracusa': 0.375, 'Trapani': 0.0, 'Grosseto': 0.1895424836601307, 'Siena': 0.20863309352517986} \n Actual: {'Chieti': 0.16926070038910507, \"L'Aquila\": 0.17791411042944785, 'Pescara': 0.16353383458646617, 'Teramo': 0.18162839248434237, 'Ascoli Piceno': 0.1875, 'Campobasso': 0.1518324607329843, 'Isernia': 0.1518324607329843, 'Frosinone': 0.16893203883495145, 'Rieti': 0.19376391982182628, 'Terni': 0.19078947368421054, 'Fermo': 0.1746987951807229, 'Macerata': 0.19727891156462585, 'Matera': 0.10128055878928988, 'Potenza': 0.10081112398609501, 'Bari': 0.10116279069767442, 'Barletta-Andria-Trani': 0.11139564660691421, 'Taranto': 0.0925531914893617, 'Bolzano': 0.16171003717472118, 'Trento': 0.19247787610619468, 'Catanzaro': 0.3, 'Cosenza': 0.2926829268292683, 'Crotone': 0.23529411764705882, 'Vibo Valentia': 0.375, 'Reggio di Calabria': 0.42857142857142855, 'Catania': 0.46153846153846156, 'Messina': 0.42857142857142855, 'Avellino': 0.13657770800627944, 'Benevento': 0.13657770800627944, 'Caserta': 0.13488372093023257, 'Napoli': 0.13488372093023257, 'Salerno': 0.12219101123595505, 'Foggia': 0.12305516265912306, 'Bologna': 0.22422680412371135, 'Ferrara': 0.23641304347826086, 'ForlÃ¬-Cesena': 0.22422680412371135, 'Modena': 0.23138297872340424, \"Reggio nell'Emilia\": 0.21428571428571427, 'Mantova': 0.21641791044776118, 'Firenze': 0.21804511278195488, 'Pistoia': 0.21588089330024815, 'Prato': 0.22715404699738903, 'Rovigo': 0.22955145118733508, 'Ravenna': 0.2236503856041131, 'Padova': 0.20327102803738317, 'Venezia': 0.20232558139534884, 'Verona': 0.22774869109947643, 'Vicenza': 0.21588089330024815, 'Rimini': 0.2116788321167883, 'Arezzo': 0.22422680412371135, 'Parma': 0.21804511278195488, 'Massa Carrara': 0.20518867924528303, 'Piacenza': 0.1963882618510158, 'La Spezia': 0.1963882618510158, 'Brescia': 0.2106537530266344, 'Cremona': 0.20046082949308755, 'Genova': 0.17159763313609466, 'Bergamo': 0.1879049676025918, 'Como': 0.17296222664015903, 'Lodi': 0.18872017353579176, 'Milano': 0.174, 'Monza e della Brianza': 0.18012422360248448, 'Pavia': 0.174, 'Pesaro e Urbino': 0.2116788321167883, 'Gorizia': 0.12946428571428573, 'Trieste': 0.12946428571428573, 'Udine': 0.14821124361158433, 'Pordenone': 0.17227722772277226, 'Belluno': 0.18200836820083682, 'Treviso': 0.1963882618510158, 'Latina': 0.1457286432160804, 'Roma': 0.1638418079096045, 'Viterbo': 0.18354430379746836, 'Perugia': 0.20813397129186603, 'Savona': 0.15, 'Alessandria': 0.15875912408759124, 'Asti': 0.15236427320490367, 'Imperia': 0.13141993957703926, 'Cuneo': 0.1332312404287902, 'Livorno': 0.19954128440366972, 'Lucca': 0.20092378752886836, 'Pisa': 0.19954128440366972, 'Lecco': 0.17827868852459017, 'Sondrio': 0.1843220338983051, 'Varese': 0.16698656429942418, 'Novara': 0.1590493601462523, 'Verbano-Cusio-Ossola': 0.15732368896925858, 'Vercelli': 0.15343915343915343, 'Biella': 0.14770797962648557, 'Ancona': 0.19683257918552036, 'Torino': 0.13530326594090203, 'Aosta': 0.12946428571428573, 'Brindisi': 0.0849609375, 'Lecce': 0.07837837837837838, 'Cagliari': 0.5714285714285714, 'Oristano': 0.8, 'Sud Sardegna': 0.5714285714285714, 'Nuoro': 0.6666666666666666, 'Sassari': 0.4444444444444444, 'Agrigento': 0.2727272727272727, 'Caltanissetta': 0.35294117647058826, 'Enna': 0.34285714285714286, 'Palermo': 0.26666666666666666, 'Ragusa': 0.42857142857142855, 'Siracusa': 0.375, 'Trapani': 0, 'Grosseto': 0.1895424836601307, 'Siena': 0.20863309352517986}\n"
     ],
     "output_type": "stream"
    }
   ],
   "source": [
    "print(\"Expected: {} \\n Actual: {}\".format(expected, actual))"
   ],
   "metadata": {
    "collapsed": false,
    "pycharm": {
     "name": "#%%\n",
     "is_executing": false
    }
   }
  },
  {
   "cell_type": "code",
   "execution_count": 9,
   "outputs": [
    {
     "traceback": [
      "\u001b[1;31m---------------------------------------------------------------------------\u001b[0m",
      "\u001b[1;31mAssertionError\u001b[0m                            Traceback (most recent call last)",
      "\u001b[1;32m<ipython-input-9-d1fd723f589e>\u001b[0m in \u001b[0;36m<module>\u001b[1;34m\u001b[0m\n\u001b[0;32m      1\u001b[0m \u001b[0mactual\u001b[0m \u001b[1;33m=\u001b[0m \u001b[0mcc\u001b[0m\u001b[1;33m.\u001b[0m\u001b[0mclosenessUsingEWAlgorithm\u001b[0m\u001b[1;33m(\u001b[0m\u001b[0mP\u001b[0m\u001b[1;33m,\u001b[0m \u001b[0mepsilon\u001b[0m\u001b[1;33m=\u001b[0m \u001b[1;36m0.5\u001b[0m\u001b[1;33m)\u001b[0m\u001b[1;33m\u001b[0m\u001b[1;33m\u001b[0m\u001b[0m\n\u001b[1;32m----> 2\u001b[1;33m \u001b[1;32massert\u001b[0m \u001b[0mcheckAsymptoticConvergence\u001b[0m\u001b[1;33m(\u001b[0m\u001b[0mactual\u001b[0m\u001b[1;33m,\u001b[0m \u001b[0mcc\u001b[0m\u001b[1;33m.\u001b[0m\u001b[0mclosenessUsingUtilities\u001b[0m\u001b[1;33m(\u001b[0m\u001b[0mP\u001b[0m\u001b[1;33m)\u001b[0m\u001b[1;33m,\u001b[0m \u001b[1;36m0.5\u001b[0m\u001b[1;33m)\u001b[0m\u001b[1;33m\u001b[0m\u001b[1;33m\u001b[0m\u001b[0m\n\u001b[0m\u001b[0;32m      3\u001b[0m \u001b[1;33m\u001b[0m\u001b[0m\n\u001b[0;32m      4\u001b[0m \u001b[1;33m\u001b[0m\u001b[0m\n",
      "\u001b[1;31mAssertionError\u001b[0m: "
     ],
     "ename": "AssertionError",
     "evalue": "",
     "output_type": "error"
    }
   ],
   "source": [
    "actual = cc.closenessUsingEWAlgorithm(P, epsilon= 0.5)\n",
    "assert checkAsymptoticConvergence(actual, cc.closenessUsingUtilities(P), 0.5)\n"
   ],
   "metadata": {
    "collapsed": false,
    "pycharm": {
     "name": "#%%\n",
     "is_executing": false
    }
   }
  },
  {
   "cell_type": "code",
   "execution_count": null,
   "outputs": [],
   "source": [
    "actual = cc.armonicCloseness(P)\n",
    "expected = nx.harmonic_centrality(P)\n",
    "assert expected == actual"
   ],
   "metadata": {
    "collapsed": false,
    "pycharm": {
     "name": "#%%\n",
     "is_executing": false
    }
   }
  },
  {
   "cell_type": "code",
   "execution_count": 10,
   "outputs": [
    {
     "name": "stdout",
     "text": [
      "Expected: {'Chieti': 0.16926070038910507, \"L'Aquila\": 0.17791411042944785, 'Pescara': 0.16353383458646617, 'Teramo': 0.18162839248434237, 'Ascoli Piceno': 0.1875, 'Campobasso': 0.1518324607329843, 'Isernia': 0.1518324607329843, 'Frosinone': 0.16893203883495145, 'Rieti': 0.19376391982182628, 'Terni': 0.19078947368421054, 'Fermo': 0.1746987951807229, 'Macerata': 0.19727891156462585, 'Matera': 0.10128055878928988, 'Potenza': 0.10081112398609501, 'Bari': 0.10116279069767442, 'Barletta-Andria-Trani': 0.11139564660691421, 'Taranto': 0.0925531914893617, 'Bolzano': 0.16171003717472118, 'Trento': 0.19247787610619468, 'Catanzaro': 0.3, 'Cosenza': 0.2926829268292683, 'Crotone': 0.23529411764705882, 'Vibo Valentia': 0.375, 'Reggio di Calabria': 0.42857142857142855, 'Catania': 0.46153846153846156, 'Messina': 0.42857142857142855, 'Avellino': 0.13657770800627944, 'Benevento': 0.13657770800627944, 'Caserta': 0.13488372093023257, 'Napoli': 0.13488372093023257, 'Salerno': 0.12219101123595505, 'Foggia': 0.12305516265912306, 'Bologna': 0.22422680412371135, 'Ferrara': 0.23641304347826086, 'ForlÃ¬-Cesena': 0.22422680412371135, 'Modena': 0.23138297872340424, \"Reggio nell'Emilia\": 0.21428571428571427, 'Mantova': 0.21641791044776118, 'Firenze': 0.21804511278195488, 'Pistoia': 0.21588089330024815, 'Prato': 0.22715404699738903, 'Rovigo': 0.22955145118733508, 'Ravenna': 0.2236503856041131, 'Padova': 0.20327102803738317, 'Venezia': 0.20232558139534884, 'Verona': 0.22774869109947643, 'Vicenza': 0.21588089330024815, 'Rimini': 0.2116788321167883, 'Arezzo': 0.22422680412371135, 'Parma': 0.21804511278195488, 'Massa Carrara': 0.20518867924528303, 'Piacenza': 0.1963882618510158, 'La Spezia': 0.1963882618510158, 'Brescia': 0.2106537530266344, 'Cremona': 0.20046082949308755, 'Genova': 0.17159763313609466, 'Bergamo': 0.1879049676025918, 'Como': 0.17296222664015903, 'Lodi': 0.18872017353579176, 'Milano': 0.174, 'Monza e della Brianza': 0.18012422360248448, 'Pavia': 0.174, 'Pesaro e Urbino': 0.2116788321167883, 'Gorizia': 0.12946428571428573, 'Trieste': 0.12946428571428573, 'Udine': 0.14821124361158433, 'Pordenone': 0.17227722772277226, 'Belluno': 0.18200836820083682, 'Treviso': 0.1963882618510158, 'Latina': 0.1457286432160804, 'Roma': 0.1638418079096045, 'Viterbo': 0.18354430379746836, 'Perugia': 0.20813397129186603, 'Savona': 0.15, 'Alessandria': 0.15875912408759124, 'Asti': 0.15236427320490367, 'Imperia': 0.13141993957703926, 'Cuneo': 0.1332312404287902, 'Livorno': 0.19954128440366972, 'Lucca': 0.20092378752886836, 'Pisa': 0.19954128440366972, 'Lecco': 0.17827868852459017, 'Sondrio': 0.1843220338983051, 'Varese': 0.16698656429942418, 'Novara': 0.1590493601462523, 'Verbano-Cusio-Ossola': 0.15732368896925858, 'Vercelli': 0.15343915343915343, 'Biella': 0.14770797962648557, 'Ancona': 0.19683257918552036, 'Torino': 0.13530326594090203, 'Aosta': 0.12946428571428573, 'Brindisi': 0.0849609375, 'Lecce': 0.07837837837837838, 'Cagliari': 0.5714285714285714, 'Oristano': 0.8, 'Sud Sardegna': 0.5714285714285714, 'Nuoro': 0.6666666666666666, 'Sassari': 0.4444444444444444, 'Agrigento': 0.2727272727272727, 'Caltanissetta': 0.35294117647058826, 'Enna': 0.34285714285714286, 'Palermo': 0.26666666666666666, 'Ragusa': 0.42857142857142855, 'Siracusa': 0.375, 'Trapani': 0.0, 'Grosseto': 0.1895424836601307, 'Siena': 0.20863309352517986} \n Actual: {'Chieti': 0.24015859529878222, \"L'Aquila\": 0.22014537902388367, 'Pescara': 0.20855878012788978, 'Teramo': 0.22643524699599465, 'Ascoli Piceno': 0.2330951072017592, 'Campobasso': 0.15240833932422715, 'Isernia': 0.15850467289719627, 'Frosinone': 0.2556526982212843, 'Rieti': 0.24015859529878222, 'Terni': 0.18869603916332886, 'Fermo': 0.1467635860159225, 'Macerata': 0.3170093457943925, 'Matera': 0.12192667145938173, 'Potenza': 0.14409515717926932, 'Bari': 0.12782634911064214, 'Barletta-Andria-Trani': 0.10160555954948475, 'Taranto': 0.09323804288070367, 'Bolzano': 0.1651090342679128, 'Trento': 0.18011894647408666, 'Catanzaro': 0, 'Cosenza': 0.5660881174899867, 'Crotone': 0, 'Vibo Valentia': 0, 'Reggio di Calabria': 0, 'Catania': 0, 'Messina': 7.925233644859812, 'Avellino': 0.1343259939806748, 'Benevento': 0.13903918675192656, 'Caserta': 0.15240833932422715, 'Napoli': 0.13903918675192653, 'Salerno': 0.30481667864845435, 'Foggia': 0.18011894647408663, 'Bologna': 0.2935271720318449, 'Ferrara': 0.3170093457943925, 'ForlÃ¬-Cesena': 0.4171175602557796, 'Modena': 0.44029075804776735, \"Reggio nell'Emilia\": 0.6096333572969086, 'Mantova': 0.1981308411214953, 'Firenze': 0.30481667864845435, 'Pistoia': 0.3170093457943925, 'Prato': 0.5660881174899867, 'Rovigo': 0.2330951072017592, 'Ravenna': 0.3773920783266577, 'Padova': 0.34457537586347015, 'Venezia': 0.3445753758634701, 'Verona': 0.22643524699599463, 'Vicenza': 0.3773920783266577, 'Rimini': 0.2556526982212843, 'Arezzo': 0.2641744548286605, 'Parma': 0.22643524699599465, 'Massa Carrara': 0.2641744548286604, 'Piacenza': 0.5283489096573208, 'La Spezia': 0.3445753758634701, 'Brescia': 0.4171175602557796, 'Cremona': 0.3170093457943925, 'Genova': 0.22643524699599463, 'Bergamo': 0.24766355140186913, 'Como': 0.44029075804776735, 'Lodi': 0.19329838158194665, 'Milano': 0.19813084112149532, 'Monza e della Brianza': 0.20321111909896955, 'Pavia': 0.18430775918278633, 'Pesaro e Urbino': 0.3773920783266578, 'Gorizia': 0.14676358601592243, 'Trieste': 0.1981308411214953, 'Udine': 0.2085587801278898, 'Pordenone': 0.18869603916332892, 'Belluno': 0.15240833932422718, 'Treviso': 0.8805815160955347, 'Latina': 0.24015859529878222, 'Roma': 0.2085587801278898, 'Viterbo': 0.24766355140186913, 'Perugia': 0.2732839187882694, 'Savona': 0.17611630321910696, 'Alessandria': 0.2641744548286604, 'Asti': 0.15850467289719625, 'Imperia': 0.15850467289719625, 'Cuneo': 0.15850467289719625, 'Livorno': 0.2330951072017592, 'Lucca': 0.2556526982212843, 'Pisa': 0.30481667864845435, 'Lecco': 0.22643524699599463, 'Sondrio': 0.1843077591827863, 'Varese': 0.1843077591827863, 'Novara': 0.12992186303048875, 'Verbano-Cusio-Ossola': 0.1651090342679128, 'Vercelli': 0.1390391867519265, 'Biella': 0.17611630321910696, 'Ancona': 0.18430775918278633, 'Torino': 0.13903918675192653, 'Aosta': 0.14953271028037382, 'Brindisi': 0.10160555954948478, 'Lecce': 0.07338179300796123, 'Cagliari': 0, 'Oristano': 0, 'Sud Sardegna': 0, 'Nuoro': 0, 'Sassari': 1.5850467289719625, 'Agrigento': 0, 'Caltanissetta': 7.925233644859812, 'Enna': 2.641744548286604, 'Palermo': 0.9906542056074765, 'Ragusa': 0, 'Siracusa': 0, 'Trapani': 0, 'Grosseto': 0.3048166786484543, 'Siena': 0.3302180685358255}\n"
     ],
     "output_type": "stream"
    }
   ],
   "source": [
    "print(\"Expected: {} \\n Actual: {}\".format(expected, actual))"
   ],
   "metadata": {
    "collapsed": false,
    "pycharm": {
     "name": "#%%\n",
     "is_executing": false
    }
   }
  },
  {
   "cell_type": "code",
   "execution_count": null,
   "outputs": [],
   "source": [
    "%timeit cc.closenessUsingBFS(P, networkx=True)"
   ],
   "metadata": {
    "collapsed": false,
    "pycharm": {
     "name": "#%%\n",
     "is_executing": false
    }
   }
  },
  {
   "cell_type": "code",
   "execution_count": null,
   "outputs": [],
   "source": [
    "%timeit cc.closenessUsingEWAlgorithm(P, epsilon= 0.5)"
   ],
   "metadata": {
    "collapsed": false,
    "pycharm": {
     "name": "#%%\n",
     "is_executing": false
    }
   }
  },
  {
   "cell_type": "code",
   "execution_count": null,
   "outputs": [],
   "source": [
    "%timeit cc.armonicCloseness(P)"
   ],
   "metadata": {
    "collapsed": false,
    "pycharm": {
     "name": "#%%\n",
     "is_executing": false
    }
   }
  },
  {
   "cell_type": "markdown",
   "source": [
    "## R network\n"
   ],
   "metadata": {
    "collapsed": false,
    "pycharm": {
     "name": "#%% md\n"
    }
   }
  },
  {
   "cell_type": "code",
   "execution_count": null,
   "outputs": [],
   "source": [
    "cc = ClosenessCentrality()\n",
    "expected = nx.closeness_centrality(R, wf_improved=False)"
   ],
   "metadata": {
    "collapsed": false,
    "pycharm": {
     "name": "#%%\n",
     "is_executing": false
    }
   }
  },
  {
   "cell_type": "code",
   "execution_count": null,
   "outputs": [],
   "source": [
    "actual = cc.closenessUsingBFS(R, networkx=True)\n",
    "assert expected == actual"
   ],
   "metadata": {
    "collapsed": false,
    "pycharm": {
     "name": "#%%\n",
     "is_executing": false
    }
   }
  },
  {
   "cell_type": "code",
   "execution_count": null,
   "outputs": [],
   "source": [
    "print(\"Expected: {} \\n Actual: {}\".format(expected, actual))"
   ],
   "metadata": {
    "collapsed": false,
    "pycharm": {
     "name": "#%%\n",
     "is_executing": false
    }
   }
  },
  {
   "cell_type": "code",
   "execution_count": null,
   "outputs": [],
   "source": [
    "actual = cc.closenessUsingEWAlgorithm(R, epsilon= 0.5)\n",
    "assert checkAsymptoticConvergence(actual, cc.closenessUsingUtilities(R), 0.5)"
   ],
   "metadata": {
    "collapsed": false,
    "pycharm": {
     "name": "#%%\n",
     "is_executing": false
    }
   }
  },
  {
   "cell_type": "code",
   "execution_count": null,
   "outputs": [],
   "source": [
    "actual = cc.armonicCloseness(R)\n",
    "expected = nx.harmonic_centrality(R)\n",
    "assert expected == actual"
   ],
   "metadata": {
    "collapsed": false,
    "pycharm": {
     "name": "#%%\n",
     "is_executing": false
    }
   }
  },
  {
   "cell_type": "code",
   "execution_count": null,
   "outputs": [],
   "source": [
    "print(\"Expected: {} \\n Actual: {}\".format(expected, actual))"
   ],
   "metadata": {
    "collapsed": false,
    "pycharm": {
     "name": "#%%\n",
     "is_executing": false
    }
   }
  },
  {
   "cell_type": "code",
   "execution_count": null,
   "outputs": [],
   "source": [
    "%timeit cc.closenessUsingBFS(R, networkx=True)"
   ],
   "metadata": {
    "collapsed": false,
    "pycharm": {
     "name": "#%%\n",
     "is_executing": false
    }
   }
  },
  {
   "cell_type": "code",
   "execution_count": null,
   "outputs": [],
   "source": [
    "%timeit cc.closenessUsingEWAlgorithm(R, epsilon= 0.5)"
   ],
   "metadata": {
    "collapsed": false,
    "pycharm": {
     "name": "#%%\n",
     "is_executing": false
    }
   }
  },
  {
   "cell_type": "code",
   "execution_count": null,
   "outputs": [],
   "source": [
    "%timeit cc.armonicCloseness(R)\n"
   ],
   "metadata": {
    "collapsed": false,
    "pycharm": {
     "name": "#%%\n",
     "is_executing": false
    }
   }
  }
 ],
 "metadata": {
  "kernelspec": {
   "display_name": "Python 3",
   "language": "python",
   "name": "python3"
  },
  "language_info": {
   "codemirror_mode": {
    "name": "ipython",
    "version": 2
   },
   "file_extension": ".py",
   "mimetype": "text/x-python",
   "name": "python",
   "nbconvert_exporter": "python",
   "pygments_lexer": "ipython2",
   "version": "2.7.6"
  },
  "pycharm": {
   "stem_cell": {
    "cell_type": "raw",
    "source": [],
    "metadata": {
     "collapsed": false
    }
   }
  }
 },
 "nbformat": 4,
 "nbformat_minor": 0
}