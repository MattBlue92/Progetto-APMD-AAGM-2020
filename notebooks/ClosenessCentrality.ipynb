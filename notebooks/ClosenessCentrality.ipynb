{
 "cells": [
  {
   "cell_type": "markdown",
   "metadata": {
    "collapsed": true,
    "pycharm": {
     "name": "#%% md\n"
    }
   },
   "source": [
    "# Closeness Centrality"
   ]
  },
  {
   "cell_type": "code",
   "execution_count": 1,
   "outputs": [],
   "source": [
    "def checkAsymptoticConvergence(expected, actual, epsilon):\n",
    "    result = True\n",
    "    for key in actual.keys():\n",
    "        c_hat=1/actual[key]\n",
    "        c=1/expected[key]\n",
    "        abs_error = abs(c_hat - c)\n",
    "        if abs_error>epsilon:\n",
    "            print(\"actual: {}, expected: {}, error: {}\".format(c_hat, c, abs_error))\n",
    "        result = result and abs_error< epsilon\n",
    "    return result"
   ],
   "metadata": {
    "collapsed": false,
    "pycharm": {
     "name": "#%%\n"
    }
   }
  },
  {
   "cell_type": "code",
   "execution_count": 2,
   "outputs": [],
   "source": [
    "import networkx as nx\n",
    "\n"
   ],
   "metadata": {
    "collapsed": false,
    "pycharm": {
     "name": "#%%\n"
    }
   }
  },
  {
   "cell_type": "code",
   "execution_count": 3,
   "outputs": [],
   "source": [
    "import os\n",
    "from path import Path\n",
    "PROJ_DIR = Path().getcwd().parent\n",
    "DATA_DIR = PROJ_DIR / \"data\"\n",
    "os.chdir (PROJ_DIR)"
   ],
   "metadata": {
    "collapsed": false,
    "pycharm": {
     "name": "#%%\n"
    }
   }
  },
  {
   "cell_type": "code",
   "execution_count": 4,
   "outputs": [],
   "source": [
    "from scripts.src.ClosenessCentrality import ClosenessCentrality\n"
   ],
   "metadata": {
    "collapsed": false,
    "pycharm": {
     "name": "#%%\n"
    }
   }
  },
  {
   "cell_type": "code",
   "execution_count": 5,
   "outputs": [
    {
     "data": {
      "text/plain": "2000"
     },
     "execution_count": 5,
     "metadata": {},
     "output_type": "execute_result"
    }
   ],
   "source": [
    "# import networks\n",
    "P=nx.read_adjlist(DATA_DIR/\"P.adjlist\", delimiter=\",\")\n",
    "R=nx.read_adjlist(DATA_DIR/\"R.adjlist\", delimiter=\",\")\n",
    "len(R)"
   ],
   "metadata": {
    "collapsed": false,
    "pycharm": {
     "name": "#%%\n"
    }
   }
  },
  {
   "cell_type": "markdown",
   "source": [
    "## P network"
   ],
   "metadata": {
    "collapsed": false
   }
  },
  {
   "cell_type": "code",
   "execution_count": 6,
   "outputs": [],
   "source": [
    "cc = ClosenessCentrality()\n",
    "largest_cc = max(nx.connected_components(P), key=len)\n",
    "P=P.subgraph(largest_cc)\n",
    "expected = nx.closeness_centrality(P, wf_improved=False)"
   ],
   "metadata": {
    "collapsed": false,
    "pycharm": {
     "name": "#%%\n"
    }
   }
  },
  {
   "cell_type": "code",
   "execution_count": 7,
   "outputs": [],
   "source": [
    "actual = cc.closenessUsingBFS(P, networkx=True)\n",
    "assert expected == actual"
   ],
   "metadata": {
    "collapsed": false,
    "pycharm": {
     "name": "#%%\n"
    }
   }
  },
  {
   "cell_type": "code",
   "execution_count": 8,
   "outputs": [
    {
     "name": "stdout",
     "output_type": "stream",
     "text": [
      "Expected: {'Chieti': 0.16926070038910507, \"L'Aquila\": 0.17791411042944785, 'Pescara': 0.16353383458646617, 'Teramo': 0.18162839248434237, 'Ascoli Piceno': 0.1875, 'Campobasso': 0.1518324607329843, 'Isernia': 0.1518324607329843, 'Frosinone': 0.16893203883495145, 'Rieti': 0.19376391982182628, 'Terni': 0.19078947368421054, 'Fermo': 0.1746987951807229, 'Macerata': 0.19727891156462585, 'Matera': 0.10128055878928988, 'Potenza': 0.10081112398609501, 'Bari': 0.10116279069767442, 'Barletta-Andria-Trani': 0.11139564660691421, 'Taranto': 0.0925531914893617, 'Bolzano': 0.16171003717472118, 'Trento': 0.19247787610619468, 'Avellino': 0.13657770800627944, 'Benevento': 0.13657770800627944, 'Caserta': 0.13488372093023257, 'Napoli': 0.13488372093023257, 'Salerno': 0.12219101123595505, 'Foggia': 0.12305516265912306, 'Bologna': 0.22422680412371135, 'Ferrara': 0.23641304347826086, 'Forlì-Cesena': 0.22422680412371135, 'Modena': 0.23138297872340424, \"Reggio nell'Emilia\": 0.21428571428571427, 'Mantova': 0.21641791044776118, 'Firenze': 0.21804511278195488, 'Pistoia': 0.21588089330024815, 'Prato': 0.22715404699738903, 'Rovigo': 0.22955145118733508, 'Ravenna': 0.2236503856041131, 'Padova': 0.20327102803738317, 'Venezia': 0.20232558139534884, 'Verona': 0.22774869109947643, 'Vicenza': 0.21588089330024815, 'Rimini': 0.2116788321167883, 'Arezzo': 0.22422680412371135, 'Parma': 0.21804511278195488, 'Massa Carrara': 0.20518867924528303, 'Piacenza': 0.1963882618510158, 'La Spezia': 0.1963882618510158, 'Brescia': 0.2106537530266344, 'Cremona': 0.20046082949308755, 'Genova': 0.17159763313609466, 'Bergamo': 0.1879049676025918, 'Como': 0.17296222664015903, 'Lodi': 0.18872017353579176, 'Milano': 0.174, 'Monza e della Brianza': 0.18012422360248448, 'Pavia': 0.174, 'Pesaro e Urbino': 0.2116788321167883, 'Gorizia': 0.12946428571428573, 'Trieste': 0.12946428571428573, 'Udine': 0.14821124361158433, 'Pordenone': 0.17227722772277226, 'Belluno': 0.18200836820083682, 'Treviso': 0.1963882618510158, 'Latina': 0.1457286432160804, 'Roma': 0.1638418079096045, 'Viterbo': 0.18354430379746836, 'Perugia': 0.20813397129186603, 'Savona': 0.15, 'Alessandria': 0.15875912408759124, 'Asti': 0.15236427320490367, 'Imperia': 0.13141993957703926, 'Cuneo': 0.1332312404287902, 'Livorno': 0.19954128440366972, 'Lucca': 0.20092378752886836, 'Pisa': 0.19954128440366972, 'Lecco': 0.17827868852459017, 'Sondrio': 0.1843220338983051, 'Varese': 0.16698656429942418, 'Novara': 0.1590493601462523, 'Verbano-Cusio-Ossola': 0.15732368896925858, 'Vercelli': 0.15343915343915343, 'Biella': 0.14770797962648557, 'Ancona': 0.19683257918552036, 'Torino': 0.13530326594090203, 'Aosta': 0.12946428571428573, 'Brindisi': 0.0849609375, 'Lecce': 0.07837837837837838, 'Grosseto': 0.1895424836601307, 'Siena': 0.20863309352517986} \n",
      " Actual: {'Chieti': 0.16926070038910507, \"L'Aquila\": 0.17791411042944785, 'Pescara': 0.16353383458646617, 'Teramo': 0.18162839248434237, 'Ascoli Piceno': 0.1875, 'Campobasso': 0.1518324607329843, 'Isernia': 0.1518324607329843, 'Frosinone': 0.16893203883495145, 'Rieti': 0.19376391982182628, 'Terni': 0.19078947368421054, 'Fermo': 0.1746987951807229, 'Macerata': 0.19727891156462585, 'Matera': 0.10128055878928988, 'Potenza': 0.10081112398609501, 'Bari': 0.10116279069767442, 'Barletta-Andria-Trani': 0.11139564660691421, 'Taranto': 0.0925531914893617, 'Bolzano': 0.16171003717472118, 'Trento': 0.19247787610619468, 'Avellino': 0.13657770800627944, 'Benevento': 0.13657770800627944, 'Caserta': 0.13488372093023257, 'Napoli': 0.13488372093023257, 'Salerno': 0.12219101123595505, 'Foggia': 0.12305516265912306, 'Bologna': 0.22422680412371135, 'Ferrara': 0.23641304347826086, 'Forlì-Cesena': 0.22422680412371135, 'Modena': 0.23138297872340424, \"Reggio nell'Emilia\": 0.21428571428571427, 'Mantova': 0.21641791044776118, 'Firenze': 0.21804511278195488, 'Pistoia': 0.21588089330024815, 'Prato': 0.22715404699738903, 'Rovigo': 0.22955145118733508, 'Ravenna': 0.2236503856041131, 'Padova': 0.20327102803738317, 'Venezia': 0.20232558139534884, 'Verona': 0.22774869109947643, 'Vicenza': 0.21588089330024815, 'Rimini': 0.2116788321167883, 'Arezzo': 0.22422680412371135, 'Parma': 0.21804511278195488, 'Massa Carrara': 0.20518867924528303, 'Piacenza': 0.1963882618510158, 'La Spezia': 0.1963882618510158, 'Brescia': 0.2106537530266344, 'Cremona': 0.20046082949308755, 'Genova': 0.17159763313609466, 'Bergamo': 0.1879049676025918, 'Como': 0.17296222664015903, 'Lodi': 0.18872017353579176, 'Milano': 0.174, 'Monza e della Brianza': 0.18012422360248448, 'Pavia': 0.174, 'Pesaro e Urbino': 0.2116788321167883, 'Gorizia': 0.12946428571428573, 'Trieste': 0.12946428571428573, 'Udine': 0.14821124361158433, 'Pordenone': 0.17227722772277226, 'Belluno': 0.18200836820083682, 'Treviso': 0.1963882618510158, 'Latina': 0.1457286432160804, 'Roma': 0.1638418079096045, 'Viterbo': 0.18354430379746836, 'Perugia': 0.20813397129186603, 'Savona': 0.15, 'Alessandria': 0.15875912408759124, 'Asti': 0.15236427320490367, 'Imperia': 0.13141993957703926, 'Cuneo': 0.1332312404287902, 'Livorno': 0.19954128440366972, 'Lucca': 0.20092378752886836, 'Pisa': 0.19954128440366972, 'Lecco': 0.17827868852459017, 'Sondrio': 0.1843220338983051, 'Varese': 0.16698656429942418, 'Novara': 0.1590493601462523, 'Verbano-Cusio-Ossola': 0.15732368896925858, 'Vercelli': 0.15343915343915343, 'Biella': 0.14770797962648557, 'Ancona': 0.19683257918552036, 'Torino': 0.13530326594090203, 'Aosta': 0.12946428571428573, 'Brindisi': 0.0849609375, 'Lecce': 0.07837837837837838, 'Grosseto': 0.1895424836601307, 'Siena': 0.20863309352517986}\n"
     ]
    }
   ],
   "source": [
    "print(\"Expected: {} \\n Actual: {}\".format(expected, actual))"
   ],
   "metadata": {
    "collapsed": false,
    "pycharm": {
     "name": "#%%\n"
    }
   }
  },
  {
   "cell_type": "code",
   "execution_count": 9,
   "outputs": [],
   "source": [
    "epsilon=0.165\n",
    "actual = cc.closenessUsingEWAlgorithm(P,epsilon)\n",
    "expected = nx.closeness_centrality(P, wf_improved=False)\n",
    "assert checkAsymptoticConvergence(actual, expected, epsilon)"
   ],
   "metadata": {
    "collapsed": false,
    "pycharm": {
     "name": "#%%\n"
    }
   }
  },
  {
   "cell_type": "code",
   "execution_count": 10,
   "outputs": [
    {
     "name": "stdout",
     "output_type": "stream",
     "text": [
      "5.68 s ± 67.4 ms per loop (mean ± std. dev. of 7 runs, 1 loop each)\n"
     ]
    }
   ],
   "source": [
    "%timeit cc.closenessUsingBFS(P, networkx=True)"
   ],
   "metadata": {
    "collapsed": false,
    "pycharm": {
     "name": "#%%\n"
    }
   }
  },
  {
   "cell_type": "code",
   "execution_count": 11,
   "outputs": [
    {
     "name": "stdout",
     "output_type": "stream",
     "text": [
      "92.9 ms ± 2.08 ms per loop (mean ± std. dev. of 7 runs, 10 loops each)\n"
     ]
    }
   ],
   "source": [
    "%timeit cc.closenessUsingEWAlgorithm(P, epsilon= 0.165)"
   ],
   "metadata": {
    "collapsed": false,
    "pycharm": {
     "name": "#%%\n"
    }
   }
  },
  {
   "cell_type": "markdown",
   "source": [
    "## R network"
   ],
   "metadata": {
    "collapsed": false,
    "pycharm": {
     "name": "#%% md\n"
    }
   }
  },
  {
   "cell_type": "code",
   "execution_count": 12,
   "outputs": [
    {
     "data": {
      "text/plain": "2000"
     },
     "execution_count": 12,
     "metadata": {},
     "output_type": "execute_result"
    }
   ],
   "source": [
    "epsilon=0.2\n",
    "largest_cc = max(nx.connected_components(R), key=len)\n",
    "R=R.subgraph(largest_cc)\n",
    "len(R)"
   ],
   "metadata": {
    "collapsed": false,
    "pycharm": {
     "name": "#%%\n"
    }
   }
  },
  {
   "cell_type": "code",
   "execution_count": 14,
   "outputs": [
    {
     "ename": "KeyboardInterrupt",
     "evalue": "",
     "output_type": "error",
     "traceback": [
      "\u001B[0;31m---------------------------------------------------------------------------\u001B[0m",
      "\u001B[0;31mKeyboardInterrupt\u001B[0m                         Traceback (most recent call last)",
      "\u001B[0;32m<ipython-input-14-786cd42ab2fd>\u001B[0m in \u001B[0;36m<module>\u001B[0;34m\u001B[0m\n\u001B[0;32m----> 1\u001B[0;31m \u001B[0mexpected\u001B[0m \u001B[0;34m=\u001B[0m \u001B[0mnx\u001B[0m\u001B[0;34m.\u001B[0m\u001B[0mcloseness_centrality\u001B[0m\u001B[0;34m(\u001B[0m\u001B[0mR\u001B[0m\u001B[0;34m,\u001B[0m \u001B[0mwf_improved\u001B[0m\u001B[0;34m=\u001B[0m\u001B[0;32mFalse\u001B[0m\u001B[0;34m)\u001B[0m\u001B[0;34m\u001B[0m\u001B[0;34m\u001B[0m\u001B[0m\n\u001B[0m",
      "\u001B[0;32m~/anaconda3/envs/ProgettoAPMD-AAGM-2019-2020/lib/python3.8/site-packages/networkx/algorithms/centrality/closeness.py\u001B[0m in \u001B[0;36mcloseness_centrality\u001B[0;34m(G, u, distance, wf_improved)\u001B[0m\n\u001B[1;32m    122\u001B[0m     \u001B[0mcloseness_centrality\u001B[0m \u001B[0;34m=\u001B[0m \u001B[0;34m{\u001B[0m\u001B[0;34m}\u001B[0m\u001B[0;34m\u001B[0m\u001B[0;34m\u001B[0m\u001B[0m\n\u001B[1;32m    123\u001B[0m     \u001B[0;32mfor\u001B[0m \u001B[0mn\u001B[0m \u001B[0;32min\u001B[0m \u001B[0mnodes\u001B[0m\u001B[0;34m:\u001B[0m\u001B[0;34m\u001B[0m\u001B[0;34m\u001B[0m\u001B[0m\n\u001B[0;32m--> 124\u001B[0;31m         \u001B[0msp\u001B[0m \u001B[0;34m=\u001B[0m \u001B[0mpath_length\u001B[0m\u001B[0;34m(\u001B[0m\u001B[0mG\u001B[0m\u001B[0;34m,\u001B[0m \u001B[0mn\u001B[0m\u001B[0;34m)\u001B[0m\u001B[0;34m\u001B[0m\u001B[0;34m\u001B[0m\u001B[0m\n\u001B[0m\u001B[1;32m    125\u001B[0m         \u001B[0mtotsp\u001B[0m \u001B[0;34m=\u001B[0m \u001B[0msum\u001B[0m\u001B[0;34m(\u001B[0m\u001B[0msp\u001B[0m\u001B[0;34m.\u001B[0m\u001B[0mvalues\u001B[0m\u001B[0;34m(\u001B[0m\u001B[0;34m)\u001B[0m\u001B[0;34m)\u001B[0m\u001B[0;34m\u001B[0m\u001B[0;34m\u001B[0m\u001B[0m\n\u001B[1;32m    126\u001B[0m         \u001B[0mlen_G\u001B[0m \u001B[0;34m=\u001B[0m \u001B[0mlen\u001B[0m\u001B[0;34m(\u001B[0m\u001B[0mG\u001B[0m\u001B[0;34m)\u001B[0m\u001B[0;34m\u001B[0m\u001B[0;34m\u001B[0m\u001B[0m\n",
      "\u001B[0;32m~/anaconda3/envs/ProgettoAPMD-AAGM-2019-2020/lib/python3.8/site-packages/networkx/algorithms/shortest_paths/unweighted.py\u001B[0m in \u001B[0;36msingle_source_shortest_path_length\u001B[0;34m(G, source, cutoff)\u001B[0m\n\u001B[1;32m     64\u001B[0m         \u001B[0mcutoff\u001B[0m \u001B[0;34m=\u001B[0m \u001B[0mfloat\u001B[0m\u001B[0;34m(\u001B[0m\u001B[0;34m'inf'\u001B[0m\u001B[0;34m)\u001B[0m\u001B[0;34m\u001B[0m\u001B[0;34m\u001B[0m\u001B[0m\n\u001B[1;32m     65\u001B[0m     \u001B[0mnextlevel\u001B[0m \u001B[0;34m=\u001B[0m \u001B[0;34m{\u001B[0m\u001B[0msource\u001B[0m\u001B[0;34m:\u001B[0m \u001B[0;36m1\u001B[0m\u001B[0;34m}\u001B[0m\u001B[0;34m\u001B[0m\u001B[0;34m\u001B[0m\u001B[0m\n\u001B[0;32m---> 66\u001B[0;31m     \u001B[0;32mreturn\u001B[0m \u001B[0mdict\u001B[0m\u001B[0;34m(\u001B[0m\u001B[0m_single_shortest_path_length\u001B[0m\u001B[0;34m(\u001B[0m\u001B[0mG\u001B[0m\u001B[0;34m.\u001B[0m\u001B[0madj\u001B[0m\u001B[0;34m,\u001B[0m \u001B[0mnextlevel\u001B[0m\u001B[0;34m,\u001B[0m \u001B[0mcutoff\u001B[0m\u001B[0;34m)\u001B[0m\u001B[0;34m)\u001B[0m\u001B[0;34m\u001B[0m\u001B[0;34m\u001B[0m\u001B[0m\n\u001B[0m\u001B[1;32m     67\u001B[0m \u001B[0;34m\u001B[0m\u001B[0m\n\u001B[1;32m     68\u001B[0m \u001B[0;34m\u001B[0m\u001B[0m\n",
      "\u001B[0;32m~/anaconda3/envs/ProgettoAPMD-AAGM-2019-2020/lib/python3.8/site-packages/networkx/algorithms/shortest_paths/unweighted.py\u001B[0m in \u001B[0;36m_single_shortest_path_length\u001B[0;34m(adj, firstlevel, cutoff)\u001B[0m\n\u001B[1;32m     90\u001B[0m             \u001B[0;32mif\u001B[0m \u001B[0mv\u001B[0m \u001B[0;32mnot\u001B[0m \u001B[0;32min\u001B[0m \u001B[0mseen\u001B[0m\u001B[0;34m:\u001B[0m\u001B[0;34m\u001B[0m\u001B[0;34m\u001B[0m\u001B[0m\n\u001B[1;32m     91\u001B[0m                 \u001B[0mseen\u001B[0m\u001B[0;34m[\u001B[0m\u001B[0mv\u001B[0m\u001B[0;34m]\u001B[0m \u001B[0;34m=\u001B[0m \u001B[0mlevel\u001B[0m  \u001B[0;31m# set the level of vertex v\u001B[0m\u001B[0;34m\u001B[0m\u001B[0;34m\u001B[0m\u001B[0m\n\u001B[0;32m---> 92\u001B[0;31m                 \u001B[0mnextlevel\u001B[0m\u001B[0;34m.\u001B[0m\u001B[0mupdate\u001B[0m\u001B[0;34m(\u001B[0m\u001B[0madj\u001B[0m\u001B[0;34m[\u001B[0m\u001B[0mv\u001B[0m\u001B[0;34m]\u001B[0m\u001B[0;34m)\u001B[0m  \u001B[0;31m# add neighbors of v\u001B[0m\u001B[0;34m\u001B[0m\u001B[0;34m\u001B[0m\u001B[0m\n\u001B[0m\u001B[1;32m     93\u001B[0m                 \u001B[0;32myield\u001B[0m \u001B[0;34m(\u001B[0m\u001B[0mv\u001B[0m\u001B[0;34m,\u001B[0m \u001B[0mlevel\u001B[0m\u001B[0;34m)\u001B[0m\u001B[0;34m\u001B[0m\u001B[0;34m\u001B[0m\u001B[0m\n\u001B[1;32m     94\u001B[0m         \u001B[0mlevel\u001B[0m \u001B[0;34m+=\u001B[0m \u001B[0;36m1\u001B[0m\u001B[0;34m\u001B[0m\u001B[0;34m\u001B[0m\u001B[0m\n",
      "\u001B[0;31mKeyboardInterrupt\u001B[0m: "
     ]
    }
   ],
   "source": [
    "expected = nx.closeness_centrality(R, wf_improved=False)"
   ],
   "metadata": {
    "collapsed": false,
    "pycharm": {
     "name": "#%%\n"
    }
   }
  },
  {
   "cell_type": "code",
   "execution_count": null,
   "outputs": [],
   "source": [
    "actual = cc.closenessUsingEWAlgorithm(R, epsilon= epsilon)\n",
    "assert checkAsymptoticConvergence(actual,expected, epsilon)"
   ],
   "metadata": {
    "collapsed": false,
    "pycharm": {
     "name": "#%%\n"
    }
   }
  },
  {
   "cell_type": "code",
   "execution_count": 16,
   "outputs": [
    {
     "ename": "KeyboardInterrupt",
     "evalue": "",
     "output_type": "error",
     "traceback": [
      "\u001B[0;31m---------------------------------------------------------------------------\u001B[0m",
      "\u001B[0;31mKeyboardInterrupt\u001B[0m                         Traceback (most recent call last)",
      "\u001B[0;32m<ipython-input-16-2eb56583fcfa>\u001B[0m in \u001B[0;36m<module>\u001B[0;34m\u001B[0m\n\u001B[0;32m----> 1\u001B[0;31m \u001B[0mget_ipython\u001B[0m\u001B[0;34m(\u001B[0m\u001B[0;34m)\u001B[0m\u001B[0;34m.\u001B[0m\u001B[0mrun_line_magic\u001B[0m\u001B[0;34m(\u001B[0m\u001B[0;34m'timeit'\u001B[0m\u001B[0;34m,\u001B[0m \u001B[0;34m'cc.closenessUsingEWAlgorithm(R, epsilon= 0.2)'\u001B[0m\u001B[0;34m)\u001B[0m\u001B[0;34m\u001B[0m\u001B[0;34m\u001B[0m\u001B[0m\n\u001B[0m\u001B[1;32m      2\u001B[0m \u001B[0;34m\u001B[0m\u001B[0m\n\u001B[1;32m      3\u001B[0m \u001B[0;34m\u001B[0m\u001B[0m\n",
      "\u001B[0;32m~/anaconda3/envs/ProgettoAPMD-AAGM-2019-2020/lib/python3.8/site-packages/IPython/core/interactiveshell.py\u001B[0m in \u001B[0;36mrun_line_magic\u001B[0;34m(self, magic_name, line, _stack_depth)\u001B[0m\n\u001B[1;32m   2315\u001B[0m                 \u001B[0mkwargs\u001B[0m\u001B[0;34m[\u001B[0m\u001B[0;34m'local_ns'\u001B[0m\u001B[0;34m]\u001B[0m \u001B[0;34m=\u001B[0m \u001B[0msys\u001B[0m\u001B[0;34m.\u001B[0m\u001B[0m_getframe\u001B[0m\u001B[0;34m(\u001B[0m\u001B[0mstack_depth\u001B[0m\u001B[0;34m)\u001B[0m\u001B[0;34m.\u001B[0m\u001B[0mf_locals\u001B[0m\u001B[0;34m\u001B[0m\u001B[0;34m\u001B[0m\u001B[0m\n\u001B[1;32m   2316\u001B[0m             \u001B[0;32mwith\u001B[0m \u001B[0mself\u001B[0m\u001B[0;34m.\u001B[0m\u001B[0mbuiltin_trap\u001B[0m\u001B[0;34m:\u001B[0m\u001B[0;34m\u001B[0m\u001B[0;34m\u001B[0m\u001B[0m\n\u001B[0;32m-> 2317\u001B[0;31m                 \u001B[0mresult\u001B[0m \u001B[0;34m=\u001B[0m \u001B[0mfn\u001B[0m\u001B[0;34m(\u001B[0m\u001B[0;34m*\u001B[0m\u001B[0margs\u001B[0m\u001B[0;34m,\u001B[0m \u001B[0;34m**\u001B[0m\u001B[0mkwargs\u001B[0m\u001B[0;34m)\u001B[0m\u001B[0;34m\u001B[0m\u001B[0;34m\u001B[0m\u001B[0m\n\u001B[0m\u001B[1;32m   2318\u001B[0m             \u001B[0;32mreturn\u001B[0m \u001B[0mresult\u001B[0m\u001B[0;34m\u001B[0m\u001B[0;34m\u001B[0m\u001B[0m\n\u001B[1;32m   2319\u001B[0m \u001B[0;34m\u001B[0m\u001B[0m\n",
      "\u001B[0;32m<decorator-gen-60>\u001B[0m in \u001B[0;36mtimeit\u001B[0;34m(self, line, cell, local_ns)\u001B[0m\n",
      "\u001B[0;32m~/anaconda3/envs/ProgettoAPMD-AAGM-2019-2020/lib/python3.8/site-packages/IPython/core/magic.py\u001B[0m in \u001B[0;36m<lambda>\u001B[0;34m(f, *a, **k)\u001B[0m\n\u001B[1;32m    185\u001B[0m     \u001B[0;31m# but it's overkill for just that one bit of state.\u001B[0m\u001B[0;34m\u001B[0m\u001B[0;34m\u001B[0m\u001B[0;34m\u001B[0m\u001B[0m\n\u001B[1;32m    186\u001B[0m     \u001B[0;32mdef\u001B[0m \u001B[0mmagic_deco\u001B[0m\u001B[0;34m(\u001B[0m\u001B[0marg\u001B[0m\u001B[0;34m)\u001B[0m\u001B[0;34m:\u001B[0m\u001B[0;34m\u001B[0m\u001B[0;34m\u001B[0m\u001B[0m\n\u001B[0;32m--> 187\u001B[0;31m         \u001B[0mcall\u001B[0m \u001B[0;34m=\u001B[0m \u001B[0;32mlambda\u001B[0m \u001B[0mf\u001B[0m\u001B[0;34m,\u001B[0m \u001B[0;34m*\u001B[0m\u001B[0ma\u001B[0m\u001B[0;34m,\u001B[0m \u001B[0;34m**\u001B[0m\u001B[0mk\u001B[0m\u001B[0;34m:\u001B[0m \u001B[0mf\u001B[0m\u001B[0;34m(\u001B[0m\u001B[0;34m*\u001B[0m\u001B[0ma\u001B[0m\u001B[0;34m,\u001B[0m \u001B[0;34m**\u001B[0m\u001B[0mk\u001B[0m\u001B[0;34m)\u001B[0m\u001B[0;34m\u001B[0m\u001B[0;34m\u001B[0m\u001B[0m\n\u001B[0m\u001B[1;32m    188\u001B[0m \u001B[0;34m\u001B[0m\u001B[0m\n\u001B[1;32m    189\u001B[0m         \u001B[0;32mif\u001B[0m \u001B[0mcallable\u001B[0m\u001B[0;34m(\u001B[0m\u001B[0marg\u001B[0m\u001B[0;34m)\u001B[0m\u001B[0;34m:\u001B[0m\u001B[0;34m\u001B[0m\u001B[0;34m\u001B[0m\u001B[0m\n",
      "\u001B[0;32m~/anaconda3/envs/ProgettoAPMD-AAGM-2019-2020/lib/python3.8/site-packages/IPython/core/magics/execution.py\u001B[0m in \u001B[0;36mtimeit\u001B[0;34m(self, line, cell, local_ns)\u001B[0m\n\u001B[1;32m   1162\u001B[0m                     \u001B[0;32mbreak\u001B[0m\u001B[0;34m\u001B[0m\u001B[0;34m\u001B[0m\u001B[0m\n\u001B[1;32m   1163\u001B[0m \u001B[0;34m\u001B[0m\u001B[0m\n\u001B[0;32m-> 1164\u001B[0;31m         \u001B[0mall_runs\u001B[0m \u001B[0;34m=\u001B[0m \u001B[0mtimer\u001B[0m\u001B[0;34m.\u001B[0m\u001B[0mrepeat\u001B[0m\u001B[0;34m(\u001B[0m\u001B[0mrepeat\u001B[0m\u001B[0;34m,\u001B[0m \u001B[0mnumber\u001B[0m\u001B[0;34m)\u001B[0m\u001B[0;34m\u001B[0m\u001B[0;34m\u001B[0m\u001B[0m\n\u001B[0m\u001B[1;32m   1165\u001B[0m         \u001B[0mbest\u001B[0m \u001B[0;34m=\u001B[0m \u001B[0mmin\u001B[0m\u001B[0;34m(\u001B[0m\u001B[0mall_runs\u001B[0m\u001B[0;34m)\u001B[0m \u001B[0;34m/\u001B[0m \u001B[0mnumber\u001B[0m\u001B[0;34m\u001B[0m\u001B[0;34m\u001B[0m\u001B[0m\n\u001B[1;32m   1166\u001B[0m         \u001B[0mworst\u001B[0m \u001B[0;34m=\u001B[0m \u001B[0mmax\u001B[0m\u001B[0;34m(\u001B[0m\u001B[0mall_runs\u001B[0m\u001B[0;34m)\u001B[0m \u001B[0;34m/\u001B[0m \u001B[0mnumber\u001B[0m\u001B[0;34m\u001B[0m\u001B[0;34m\u001B[0m\u001B[0m\n",
      "\u001B[0;32m~/anaconda3/envs/ProgettoAPMD-AAGM-2019-2020/lib/python3.8/timeit.py\u001B[0m in \u001B[0;36mrepeat\u001B[0;34m(self, repeat, number)\u001B[0m\n\u001B[1;32m    202\u001B[0m         \u001B[0mr\u001B[0m \u001B[0;34m=\u001B[0m \u001B[0;34m[\u001B[0m\u001B[0;34m]\u001B[0m\u001B[0;34m\u001B[0m\u001B[0;34m\u001B[0m\u001B[0m\n\u001B[1;32m    203\u001B[0m         \u001B[0;32mfor\u001B[0m \u001B[0mi\u001B[0m \u001B[0;32min\u001B[0m \u001B[0mrange\u001B[0m\u001B[0;34m(\u001B[0m\u001B[0mrepeat\u001B[0m\u001B[0;34m)\u001B[0m\u001B[0;34m:\u001B[0m\u001B[0;34m\u001B[0m\u001B[0;34m\u001B[0m\u001B[0m\n\u001B[0;32m--> 204\u001B[0;31m             \u001B[0mt\u001B[0m \u001B[0;34m=\u001B[0m \u001B[0mself\u001B[0m\u001B[0;34m.\u001B[0m\u001B[0mtimeit\u001B[0m\u001B[0;34m(\u001B[0m\u001B[0mnumber\u001B[0m\u001B[0;34m)\u001B[0m\u001B[0;34m\u001B[0m\u001B[0;34m\u001B[0m\u001B[0m\n\u001B[0m\u001B[1;32m    205\u001B[0m             \u001B[0mr\u001B[0m\u001B[0;34m.\u001B[0m\u001B[0mappend\u001B[0m\u001B[0;34m(\u001B[0m\u001B[0mt\u001B[0m\u001B[0;34m)\u001B[0m\u001B[0;34m\u001B[0m\u001B[0;34m\u001B[0m\u001B[0m\n\u001B[1;32m    206\u001B[0m         \u001B[0;32mreturn\u001B[0m \u001B[0mr\u001B[0m\u001B[0;34m\u001B[0m\u001B[0;34m\u001B[0m\u001B[0m\n",
      "\u001B[0;32m~/anaconda3/envs/ProgettoAPMD-AAGM-2019-2020/lib/python3.8/site-packages/IPython/core/magics/execution.py\u001B[0m in \u001B[0;36mtimeit\u001B[0;34m(self, number)\u001B[0m\n\u001B[1;32m    167\u001B[0m         \u001B[0mgc\u001B[0m\u001B[0;34m.\u001B[0m\u001B[0mdisable\u001B[0m\u001B[0;34m(\u001B[0m\u001B[0;34m)\u001B[0m\u001B[0;34m\u001B[0m\u001B[0;34m\u001B[0m\u001B[0m\n\u001B[1;32m    168\u001B[0m         \u001B[0;32mtry\u001B[0m\u001B[0;34m:\u001B[0m\u001B[0;34m\u001B[0m\u001B[0;34m\u001B[0m\u001B[0m\n\u001B[0;32m--> 169\u001B[0;31m             \u001B[0mtiming\u001B[0m \u001B[0;34m=\u001B[0m \u001B[0mself\u001B[0m\u001B[0;34m.\u001B[0m\u001B[0minner\u001B[0m\u001B[0;34m(\u001B[0m\u001B[0mit\u001B[0m\u001B[0;34m,\u001B[0m \u001B[0mself\u001B[0m\u001B[0;34m.\u001B[0m\u001B[0mtimer\u001B[0m\u001B[0;34m)\u001B[0m\u001B[0;34m\u001B[0m\u001B[0;34m\u001B[0m\u001B[0m\n\u001B[0m\u001B[1;32m    170\u001B[0m         \u001B[0;32mfinally\u001B[0m\u001B[0;34m:\u001B[0m\u001B[0;34m\u001B[0m\u001B[0;34m\u001B[0m\u001B[0m\n\u001B[1;32m    171\u001B[0m             \u001B[0;32mif\u001B[0m \u001B[0mgcold\u001B[0m\u001B[0;34m:\u001B[0m\u001B[0;34m\u001B[0m\u001B[0;34m\u001B[0m\u001B[0m\n",
      "\u001B[0;32m<magic-timeit>\u001B[0m in \u001B[0;36minner\u001B[0;34m(_it, _timer)\u001B[0m\n",
      "\u001B[0;32m~/PycharmProjects/Progetto-APMD-AAGM-2020/scripts/src/ClosenessCentrality.py\u001B[0m in \u001B[0;36mclosenessUsingEWAlgorithm\u001B[0;34m(self, graph, epsilon)\u001B[0m\n\u001B[1;32m     38\u001B[0m \u001B[0;34m\u001B[0m\u001B[0m\n\u001B[1;32m     39\u001B[0m         \u001B[0msample_nodes\u001B[0m \u001B[0;34m=\u001B[0m \u001B[0mnp\u001B[0m\u001B[0;34m.\u001B[0m\u001B[0mrandom\u001B[0m\u001B[0;34m.\u001B[0m\u001B[0mchoice\u001B[0m\u001B[0;34m(\u001B[0m\u001B[0mlist\u001B[0m\u001B[0;34m(\u001B[0m\u001B[0mnodes\u001B[0m\u001B[0;34m)\u001B[0m\u001B[0;34m,\u001B[0m \u001B[0msize\u001B[0m\u001B[0;34m=\u001B[0m\u001B[0mk\u001B[0m\u001B[0;34m,\u001B[0m \u001B[0mreplace\u001B[0m\u001B[0;34m=\u001B[0m\u001B[0;32mFalse\u001B[0m\u001B[0;34m)\u001B[0m\u001B[0;34m\u001B[0m\u001B[0;34m\u001B[0m\u001B[0m\n\u001B[0;32m---> 40\u001B[0;31m         \u001B[0mdict_distance\u001B[0m \u001B[0;34m=\u001B[0m \u001B[0mdict\u001B[0m\u001B[0;34m(\u001B[0m\u001B[0mmap\u001B[0m\u001B[0;34m(\u001B[0m\u001B[0;32mlambda\u001B[0m \u001B[0mw\u001B[0m\u001B[0;34m:\u001B[0m \u001B[0;34m(\u001B[0m\u001B[0mw\u001B[0m\u001B[0;34m,\u001B[0m \u001B[0mself\u001B[0m\u001B[0;34m.\u001B[0m\u001B[0mdistance_dict_bfs\u001B[0m\u001B[0;34m(\u001B[0m\u001B[0mgraph\u001B[0m\u001B[0;34m,\u001B[0m \u001B[0mw\u001B[0m\u001B[0;34m)\u001B[0m\u001B[0;34m)\u001B[0m\u001B[0;34m,\u001B[0m \u001B[0msample_nodes\u001B[0m\u001B[0;34m)\u001B[0m\u001B[0;34m)\u001B[0m\u001B[0;34m\u001B[0m\u001B[0;34m\u001B[0m\u001B[0m\n\u001B[0m\u001B[1;32m     41\u001B[0m \u001B[0;34m\u001B[0m\u001B[0m\n\u001B[1;32m     42\u001B[0m         \u001B[0;32mfor\u001B[0m \u001B[0mu\u001B[0m \u001B[0;32min\u001B[0m \u001B[0mnodes\u001B[0m\u001B[0;34m:\u001B[0m\u001B[0;34m\u001B[0m\u001B[0;34m\u001B[0m\u001B[0m\n",
      "\u001B[0;32m~/PycharmProjects/Progetto-APMD-AAGM-2020/scripts/src/ClosenessCentrality.py\u001B[0m in \u001B[0;36m<lambda>\u001B[0;34m(w)\u001B[0m\n\u001B[1;32m     38\u001B[0m \u001B[0;34m\u001B[0m\u001B[0m\n\u001B[1;32m     39\u001B[0m         \u001B[0msample_nodes\u001B[0m \u001B[0;34m=\u001B[0m \u001B[0mnp\u001B[0m\u001B[0;34m.\u001B[0m\u001B[0mrandom\u001B[0m\u001B[0;34m.\u001B[0m\u001B[0mchoice\u001B[0m\u001B[0;34m(\u001B[0m\u001B[0mlist\u001B[0m\u001B[0;34m(\u001B[0m\u001B[0mnodes\u001B[0m\u001B[0;34m)\u001B[0m\u001B[0;34m,\u001B[0m \u001B[0msize\u001B[0m\u001B[0;34m=\u001B[0m\u001B[0mk\u001B[0m\u001B[0;34m,\u001B[0m \u001B[0mreplace\u001B[0m\u001B[0;34m=\u001B[0m\u001B[0;32mFalse\u001B[0m\u001B[0;34m)\u001B[0m\u001B[0;34m\u001B[0m\u001B[0;34m\u001B[0m\u001B[0m\n\u001B[0;32m---> 40\u001B[0;31m         \u001B[0mdict_distance\u001B[0m \u001B[0;34m=\u001B[0m \u001B[0mdict\u001B[0m\u001B[0;34m(\u001B[0m\u001B[0mmap\u001B[0m\u001B[0;34m(\u001B[0m\u001B[0;32mlambda\u001B[0m \u001B[0mw\u001B[0m\u001B[0;34m:\u001B[0m \u001B[0;34m(\u001B[0m\u001B[0mw\u001B[0m\u001B[0;34m,\u001B[0m \u001B[0mself\u001B[0m\u001B[0;34m.\u001B[0m\u001B[0mdistance_dict_bfs\u001B[0m\u001B[0;34m(\u001B[0m\u001B[0mgraph\u001B[0m\u001B[0;34m,\u001B[0m \u001B[0mw\u001B[0m\u001B[0;34m)\u001B[0m\u001B[0;34m)\u001B[0m\u001B[0;34m,\u001B[0m \u001B[0msample_nodes\u001B[0m\u001B[0;34m)\u001B[0m\u001B[0;34m)\u001B[0m\u001B[0;34m\u001B[0m\u001B[0;34m\u001B[0m\u001B[0m\n\u001B[0m\u001B[1;32m     41\u001B[0m \u001B[0;34m\u001B[0m\u001B[0m\n\u001B[1;32m     42\u001B[0m         \u001B[0;32mfor\u001B[0m \u001B[0mu\u001B[0m \u001B[0;32min\u001B[0m \u001B[0mnodes\u001B[0m\u001B[0;34m:\u001B[0m\u001B[0;34m\u001B[0m\u001B[0;34m\u001B[0m\u001B[0m\n",
      "\u001B[0;32m~/PycharmProjects/Progetto-APMD-AAGM-2020/scripts/src/ClosenessCentrality.py\u001B[0m in \u001B[0;36mdistance_dict_bfs\u001B[0;34m(self, graph, w)\u001B[0m\n\u001B[1;32m     57\u001B[0m             \u001B[0mv\u001B[0m \u001B[0;34m=\u001B[0m \u001B[0mqueue\u001B[0m\u001B[0;34m.\u001B[0m\u001B[0mpop\u001B[0m\u001B[0;34m(\u001B[0m\u001B[0;36m0\u001B[0m\u001B[0;34m)\u001B[0m\u001B[0;34m\u001B[0m\u001B[0;34m\u001B[0m\u001B[0m\n\u001B[1;32m     58\u001B[0m             \u001B[0;32mfor\u001B[0m \u001B[0mu\u001B[0m \u001B[0;32min\u001B[0m \u001B[0mgraph\u001B[0m\u001B[0;34m[\u001B[0m\u001B[0mv\u001B[0m\u001B[0;34m]\u001B[0m\u001B[0;34m:\u001B[0m\u001B[0;34m\u001B[0m\u001B[0;34m\u001B[0m\u001B[0m\n\u001B[0;32m---> 59\u001B[0;31m                 \u001B[0;32mif\u001B[0m \u001B[0;32mnot\u001B[0m \u001B[0mu\u001B[0m \u001B[0;32min\u001B[0m \u001B[0mmarked\u001B[0m\u001B[0;34m:\u001B[0m\u001B[0;34m\u001B[0m\u001B[0;34m\u001B[0m\u001B[0m\n\u001B[0m\u001B[1;32m     60\u001B[0m                     \u001B[0mmarked\u001B[0m\u001B[0;34m.\u001B[0m\u001B[0mappend\u001B[0m\u001B[0;34m(\u001B[0m\u001B[0mu\u001B[0m\u001B[0;34m)\u001B[0m\u001B[0;34m\u001B[0m\u001B[0;34m\u001B[0m\u001B[0m\n\u001B[1;32m     61\u001B[0m                     \u001B[0mqueue\u001B[0m\u001B[0;34m.\u001B[0m\u001B[0mappend\u001B[0m\u001B[0;34m(\u001B[0m\u001B[0mu\u001B[0m\u001B[0;34m)\u001B[0m\u001B[0;34m\u001B[0m\u001B[0;34m\u001B[0m\u001B[0m\n",
      "\u001B[0;31mKeyboardInterrupt\u001B[0m: "
     ]
    }
   ],
   "source": [
    "%timeit cc.closenessUsingEWAlgorithm(R, epsilon= 0.2)\n"
   ],
   "metadata": {
    "collapsed": false,
    "pycharm": {
     "name": "#%%\n"
    }
   }
  },
  {
   "cell_type": "code",
   "execution_count": 17,
   "outputs": [
    {
     "data": {
      "text/plain": "{'0': 0.1006867321867322,\n '69': 0.10031701346389231,\n '197': 0.10105918618988904,\n '330': 0.0949698725376593,\n '337': 0.10118395061728397,\n '357': 0.09982825822168089,\n '367': 0.10575354838709676,\n '835': 0.10671744791666665,\n '840': 0.09687825059101655,\n '1008': 0.10270551378446115,\n '1285': 0.10534575835475576,\n '1312': 0.1006867321867322,\n '1417': 0.10335308953341737,\n '1462': 0.10414104193138499,\n '1474': 0.10130902348578492,\n '1481': 0.09687825059101655,\n '1570': 0.1023208489388265,\n '1629': 0.10727617801047118,\n '1862': 0.10105918618988902,\n '1874': 0.10699608355091383,\n '1': 0.10257697121401757,\n '43': 0.09934424242424246,\n '46': 0.09791995221027483,\n '231': 0.10056319018404912,\n '250': 0.10561726804123714,\n '279': 0.09653592461719673,\n '355': 0.09768653158522055,\n '389': 0.09982825822168089,\n '390': 0.10685658409387225,\n '438': 0.10081057810578105,\n '589': 0.09757023809523815,\n '622': 0.09699289940828407,\n '797': 0.10244875000000005,\n '937': 0.10219326683291774,\n '997': 0.09687825059101658,\n '1035': 0.0982721822541967,\n '1110': 0.10507564102564107,\n '1317': 0.10068673218673217,\n '1446': 0.09722301304863587,\n '1483': 0.10206600249066006,\n '1535': 0.10440636942675162,\n '1562': 0.10244875000000005,\n '1636': 0.10232084893882651,\n '1655': 0.1009347290640394,\n '1661': 0.09850841346153853,\n '1710': 0.09676387249114525,\n '1729': 0.10374556962025316,\n '1856': 0.1038770595690748,\n '1869': 0.09791995221027484,\n '1945': 0.09815449101796413,\n '2': 0.08245372233400401,\n '7': 0.08600104931794335,\n '294': 0.07888257940327234,\n '301': 0.08237085427135675,\n '310': 0.0871904255319149,\n '416': 0.08130853174603171,\n '433': 0.0815512437810945,\n '626': 0.07739282341831914,\n '648': 0.08187712287712284,\n '700': 0.08354638124362895,\n '796': 0.07768625592417056,\n '860': 0.07995999999999996,\n '904': 0.08253675730110772,\n '923': 0.07964917395529639,\n '992': 0.07768625592417057,\n '1055': 0.08187712287712286,\n '1371': 0.08609138655462185,\n '1586': 0.08245372233400401,\n '1666': 0.08484368530020704,\n '1677': 0.08287057633973709,\n '1762': 0.08295445344129553,\n '1794': 0.08050982318271119,\n '1884': 0.08187712287712283,\n '1974': 0.08636354056902001,\n '3': 0.07444050862851952,\n '21': 0.07077633851468047,\n '82': 0.0793407550822846,\n '95': 0.07790779467680609,\n '218': 0.0773198113207547,\n '236': 0.07227425044091708,\n '264': 0.07444050862851952,\n '305': 0.0733085867620751,\n '397': 0.07047205503009457,\n '468': 0.06957470288624787,\n '558': 0.07813060057197331,\n '597': 0.07324307417336906,\n '650': 0.06969302721088433,\n '655': 0.07652567693744164,\n '727': 0.06969302721088433,\n '760': 0.07298219056099729,\n '799': 0.07753926206244087,\n '803': 0.07553824884792625,\n '827': 0.07595829471733086,\n '890': 0.07221057268722463,\n '985': 0.07089878892733563,\n '1032': 0.07567774699907662,\n '1059': 0.07746597353497164,\n '1123': 0.07567774699907662,\n '1125': 0.07761268939393941,\n '1255': 0.0741710407239819,\n '1390': 0.07337421665174572,\n '1442': 0.07350582959641254,\n '1645': 0.07444050862851952,\n '1692': 0.07221057268722464,\n '1975': 0.07089878892733563,\n '4': 0.11242661179698211,\n '240': 0.11075540540540536,\n '323': 0.11478851540616242,\n '326': 0.11181309686221005,\n '419': 0.11641903409090909,\n '475': 0.11335961272475792,\n '577': 0.11001208053691268,\n '640': 0.11045687331536384,\n '646': 0.11430822873082286,\n '649': 0.10942456608811743,\n '681': 0.11181309686221005,\n '699': 0.11030820995962311,\n '735': 0.11227260273972602,\n '747': 0.11166076294277927,\n '754': 0.11001208053691272,\n '844': 0.11075540540540536,\n '854': 0.11166076294277927,\n '911': 0.10727617801047117,\n '916': 0.11196584699453546,\n '941': 0.1076990801576872,\n '976': 0.11181309686221005,\n '979': 0.10685658409387218,\n '1048': 0.11641903409090909,\n '1132': 0.11150884353741494,\n '1133': 0.11258104395604389,\n '1166': 0.1112062415196743,\n '1315': 0.11060593792172733,\n '1372': 0.1075577427821522,\n '1407': 0.11242661179698221,\n '1465': 0.11446787709497204,\n '1634': 0.11105555555555552,\n '1665': 0.1095708556149732,\n '1669': 0.11414902506963784,\n '1736': 0.11045687331536384,\n '1783': 0.11462797202797202,\n '1850': 0.1121190150478796,\n '1896': 0.11227260273972597,\n '1963': 0.11150884353741493,\n '5': 0.06887310924369744,\n '122': 0.06847034252297406,\n '156': 0.06945677966101692,\n '235': 0.06756718878812858,\n '550': 0.07278774422735343,\n '713': 0.06762293729372934,\n '857': 0.0708987889273356,\n '913': 0.07145510026155183,\n '1106': 0.06881528127623843,\n '1264': 0.06695996732026141,\n '1366': 0.0728524444444444,\n '1533': 0.06756718878812858,\n '1956': 0.06756718878812858,\n '6': 0.08466838842975206,\n '58': 0.08663742071881607,\n '154': 0.08996597145993415,\n '189': 0.08803329752953819,\n '268': 0.08270332996972753,\n '340': 0.0870977683315622,\n '387': 0.08636354056902004,\n '442': 0.0875630341880342,\n '555': 0.08537395833333335,\n '647': 0.08841316073354911,\n '661': 0.08027326150832516,\n '722': 0.0793407550822846,\n '935': 0.08537395833333335,\n '946': 0.08850863930885533,\n '1108': 0.08709776833156221,\n '1262': 0.08908586956521744,\n '1392': 0.08237085427135676,\n '1430': 0.08278686868686869,\n '1461': 0.08475594622543949,\n '1680': 0.08879631635969668,\n '1734': 0.08287057633973711,\n '1772': 0.07903471552555447,\n '1775': 0.08546298227320125,\n '1803': 0.08737633262260132,\n '1809': 0.08746958377801496,\n '1826': 0.08270332996972755,\n '1833': 0.08245372233400403,\n '1914': 0.08329166666666667,\n '159': 0.08537395833333335,\n '364': 0.08793884120171674,\n '427': 0.0870977683315622,\n '548': 0.08996597145993415,\n '684': 0.08775053533190579,\n '705': 0.08573117154811716,\n '910': 0.08591090146750525,\n '1033': 0.09106555555555557,\n '1252': 0.08546298227320125,\n '1802': 0.08957267759562842,\n '8': 0.10884329349269589,\n '23': 0.11045687331536386,\n '32': 0.10741677588466582,\n '51': 0.1074167758846658,\n '144': 0.10884329349269589,\n '348': 0.10898803191489363,\n '463': 0.10769908015768731,\n '470': 0.10727617801047125,\n '496': 0.10713594771241836,\n '631': 0.10869893899204247,\n '642': 0.11335961272475792,\n '679': 0.10769908015768728,\n '710': 0.1112062415196743,\n '851': 0.1079828722002635,\n '939': 0.10798287220026354,\n '986': 0.10812532981530346,\n '1113': 0.10826816380449142,\n '1181': 0.10826816380449142,\n '1192': 0.11242661179698214,\n '1286': 0.11045687331536384,\n '1298': 0.10812532981530347,\n '1470': 0.104141041931385,\n '1581': 0.10812532981530343,\n '1720': 0.11273590096286103,\n '1774': 0.10869893899204247,\n '1778': 0.10812532981530347,\n '1785': 0.11030820995962312,\n '1828': 0.11320303867403311,\n '1967': 0.11196584699453549,\n '9': 0.11166076294277925,\n '65': 0.10784078947368414,\n '164': 0.10927866666666662,\n '247': 0.11527285513361459,\n '263': 0.10913315579227688,\n '370': 0.11399026425591094,\n '613': 0.10927866666666662,\n '698': 0.10927866666666662,\n '1012': 0.10798287220026344,\n '1073': 0.11658463726884778,\n '1168': 0.11741977077363894,\n '1201': 0.1115088435374149,\n '1222': 0.1110555555555555,\n '1282': 0.11060593792172738,\n '1362': 0.11090527740189442,\n '1459': 0.1130468965517241,\n '1490': 0.10869893899204239,\n '1523': 0.11462797202797205,\n '1524': 0.10898803191489356,\n '1792': 0.11181309686221005,\n '1816': 0.11658463726884778,\n '1859': 0.10898803191489355,\n '1890': 0.11181309686221005,\n '1903': 0.11367406380027739,\n '1917': 0.11399026425591094,\n '10': 0.09982825822168083,\n '15': 0.10168610421836222,\n '87': 0.10206600249065999,\n '100': 0.09475028901734103,\n '119': 0.10193905472636812,\n '149': 0.09530116279069765,\n '216': 0.09780310262529832,\n '248': 0.0966497641509434,\n '306': 0.09563477246207697,\n '543': 0.10093472906403937,\n '785': 0.10270551378446109,\n '853': 0.10400888324873092,\n '948': 0.10244874999999999,\n '964': 0.09409758897818597,\n '996': 0.09958566221142161,\n '1063': 0.1011839506172839,\n '1083': 0.09768653158522046,\n '1124': 0.09886489746682746,\n '1139': 0.09398967889908252,\n '1227': 0.10156009913258977,\n '1232': 0.10400888324873095,\n '1373': 0.10156009913258977,\n '1439': 0.10521052631578946,\n '1528': 0.09676387249114517,\n '1626': 0.09946480582524268,\n '1648': 0.0946408775981524,\n '1671': 0.09827218225419658,\n '11': 0.1049411011523688,\n '42': 0.10671744791666665,\n '125': 0.10548133848133849,\n '208': 0.10270551378446117,\n '319': 0.10374556962025319,\n '328': 0.10348358585858587,\n '345': 0.10826816380449142,\n '454': 0.10270551378446115,\n '482': 0.10507564102564104,\n '742': 0.10671744791666664,\n '763': 0.10244875000000002,\n '826': 0.10257697121401751,\n '974': 0.10927866666666666,\n '988': 0.1038770595690748,\n '1114': 0.10219326683291773,\n '1129': 0.10869893899204244,\n '1140': 0.10206600249066002,\n '1158': 0.10467305236270755,\n '1261': 0.10616450777202079,\n '1376': 0.10043995098039216,\n '1434': 0.10283437892095361,\n '1454': 0.1038770595690748,\n '1506': 0.10727617801047121,\n '1510': 0.10657867360208065,\n '1526': 0.10093472906403943,\n '1552': 0.1038770595690748,\n '1572': 0.10335308953341743,\n '1766': 0.10589018087855297,\n '1768': 0.10206600249066002,\n '12': 0.11335961272475797,\n '313': 0.11741977077363894,\n '402': 0.11708428571428575,\n '532': 0.11527285513361465,\n '602': 0.11625390070921986,\n '676': 0.1151109550561798,\n '794': 0.1160892351274788,\n '880': 0.11135733695652175,\n '885': 0.11335961272475797,\n '957': 0.11708428571428575,\n '994': 0.11462797202797206,\n '1003': 0.11494950911640954,\n '1072': 0.11105555555555552,\n '1074': 0.11242661179698218,\n '1079': 0.11641903409090912,\n '1098': 0.10841137566137571,\n '1189': 0.11351662049861495,\n '1243': 0.11090527740189446,\n '1404': 0.11543521126760561,\n '1672': 0.11576129943502822,\n '1782': 0.11543521126760564,\n '1790': 0.11242661179698218,\n '1793': 0.11478851540616249,\n '1879': 0.11196584699453553,\n '13': 0.09850841346153848,\n '127': 0.0932411831626849,\n '415': 0.09898429951690822,\n '451': 0.09552331002331005,\n '500': 0.09541210710128059,\n '508': 0.09574649532710283,\n '556': 0.09970681265206813,\n '628': 0.09803708133971294,\n '696': 0.09271380090497741,\n '769': 0.09508004640371233,\n '804': 0.10322292191435768,\n '813': 0.09733847980997626,\n '845': 0.09240022547914321,\n '931': 0.0932411831626849,\n '942': 0.09240022547914319,\n '1015': 0.0976865315852205,\n '1038': 0.10322292191435768,\n '1046': 0.09803708133971292,\n '1134': 0.1033530895334174,\n '1146': 0.09827218225419664,\n '1525': 0.09803708133971294,\n '1541': 0.0979199522102748,\n '1630': 0.09803708133971292,\n '1760': 0.10257697121401751,\n '1788': 0.09733847980997627,\n '1798': 0.10257697121401751,\n '1899': 0.0932411831626849,\n '14': 0.09630904817861338,\n '102': 0.09271380090497737,\n '129': 0.1011839506172839,\n '142': 0.09733847980997623,\n '429': 0.09780310262529833,\n '488': 0.09585847953216371,\n '641': 0.09541210710128056,\n '950': 0.09608323563892147,\n '1174': 0.09453171856978088,\n '1182': 0.09710781990521326,\n '1300': 0.094750289017341,\n '1724': 0.09630904817861338,\n '292': 0.10440636942675156,\n '331': 0.1065786736020806,\n '1411': 0.1046730523627075,\n '1555': 0.10548133848133845,\n '1575': 0.1061645077720207,\n '1805': 0.10206600249065996,\n '1966': 0.10467305236270753,\n '16': 0.07330858676207512,\n '34': 0.07272315882874886,\n '200': 0.07842966507177032,\n '220': 0.07498536139066787,\n '352': 0.07233804060017648,\n '423': 0.074848401826484,\n '592': 0.07753926206244086,\n '907': 0.0745081818181818,\n '1277': 0.07330858676207512,\n '1529': 0.07330858676207512,\n '17': 0.07005042735042731,\n '25': 0.07096017316017313,\n '56': 0.07363791554357588,\n '124': 0.07120677671589917,\n '162': 0.07164248251748252,\n '223': 0.06875755033557045,\n '256': 0.0733742166517457,\n '261': 0.06993088737201363,\n '339': 0.06975234042553188,\n '405': 0.06835613010842365,\n '526': 0.07377047704770473,\n '832': 0.06773471074380161,\n '877': 0.06957470288624786,\n '900': 0.07164248251748252,\n '1039': 0.06881528127623841,\n '1230': 0.06706955810147297,\n '1318': 0.07108326105810926,\n '1367': 0.07370413669064745,\n '1391': 0.06945677966101692,\n '1564': 0.07133072236727585,\n '1598': 0.0725300884955752,\n '1756': 0.06922212837837835,\n '1763': 0.07108326105810926,\n '1852': 0.07108326105810925,\n '18': 0.09431415420023015,\n '41': 0.09324118316268486,\n '55': 0.09608323563892147,\n '61': 0.09530116279069764,\n '72': 0.08831788793103452,\n '90': 0.0973384798099762,\n '118': 0.08831788793103452,\n '193': 0.09699289940828404,\n '351': 0.09934424242424239,\n '559': 0.09229617117117116,\n '706': 0.08918280739934714,\n '798': 0.08976889375684557,\n '861': 0.09442281105990784,\n '906': 0.0873763326226013,\n '954': 0.09946480582524268,\n '984': 0.09302951191827467,\n '1075': 0.10181242236024844,\n '1200': 0.09541210710128052,\n '1299': 0.09496987253765936,\n '1307': 0.09530116279069764,\n '1320': 0.09431415420023015,\n '1342': 0.09292403628117912,\n '1530': 0.0937745995423341,\n '1627': 0.09982825822168083,\n '1730': 0.09313522727272729,\n '1755': 0.0949698725376593,\n '1761': 0.09096448390677025,\n '1858': 0.09541210710128052,\n '1983': 0.0908636363636364,\n '19': 0.10630220492866406,\n '88': 0.10453954081632653,\n '493': 0.10548133848133849,\n '565': 0.10219326683291774,\n '603': 0.1061645077720207,\n '617': 0.10841137566137563,\n '627': 0.10467305236270755,\n '664': 0.10957085561497325,\n '702': 0.10942456608811744,\n '721': 0.10602716688227683,\n '793': 0.10467305236270753,\n '888': 0.10548133848133849,\n '1089': 0.1074167758846658,\n '1173': 0.10480690537084399,\n '1186': 0.10480690537084399,\n '1335': 0.10942456608811747,\n '1476': 0.10244875000000005,\n '1576': 0.1014344059405941,\n '1678': 0.10453954081632653,\n '1717': 0.10193905472636818,\n '1726': 0.10507564102564103,\n '1873': 0.1084113756613756,\n '1905': 0.10575354838709679,\n '1946': 0.105075641025641,\n '20': 0.08746958377801495,\n '76': 0.08996597145993415,\n '131': 0.08775053533190581,\n '147': 0.08775053533190579,\n '211': 0.08245372233400404,\n '227': 0.08510799584631361,\n '302': 0.0875630341880342,\n '317': 0.08466838842975208,\n '325': 0.08261995967741938,\n '349': 0.09006483516483518,\n '639': 0.08976889375684559,\n '814': 0.08253675730110775,\n '879': 0.08501970954356851,\n '881': 0.08261995967741936,\n '1097': 0.08510799584631361,\n '1169': 0.08700530785562631,\n '1183': 0.08728328008519702,\n '1272': 0.08270332996972755,\n '1339': 0.08449381443298971,\n '1427': 0.0844938144329897,\n '1740': 0.08996597145993417,\n '1773': 0.08245372233400403,\n '1779': 0.08228815261044177,\n '1800': 0.08976889375684559,\n '1817': 0.08261995967741936,\n '1993': 0.08261995967741936,\n '1813': 0.06858493723849372,\n '22': 0.10414104193138499,\n '79': 0.10019437652811736,\n '92': 0.1046730523627075,\n '271': 0.09982825822168087,\n '354': 0.10143440594059402,\n '388': 0.09862695547533093,\n '440': 0.09970681265206811,\n '1014': 0.10322292191435764,\n '1088': 0.10699608355091386,\n '1287': 0.09970681265206816,\n '1294': 0.10068673218673216,\n '1306': 0.10019437652811734,\n '1405': 0.10309308176100625,\n '1457': 0.09982825822168087,\n '1471': 0.10727617801047122,\n '1501': 0.10348358585858584,\n '1534': 0.10143440594059402,\n '1686': 0.10414104193138499,\n '1718': 0.10219326683291768,\n '1906': 0.10019437652811737,\n '1986': 0.10494110115236875,\n '282': 0.11430822873082283,\n '24': 0.10534575835475575,\n '86': 0.10855496688741723,\n '94': 0.11075540540540543,\n '318': 0.11150884353741498,\n '346': 0.10898803191489363,\n '771': 0.10971753681392232,\n '875': 0.10657867360208059,\n '1021': 0.09982825822168089,\n '1179': 0.10335308953341739,\n '1219': 0.10494110115236871,\n '1383': 0.11075540540540543,\n '1396': 0.10971753681392232,\n '1544': 0.10630220492866403,\n '1610': 0.10561726804123714,\n '1625': 0.10168610421836226,\n '1939': 0.10841137566137563,\n '1999': 0.10348358585858584,\n '128': 0.07519174311926603,\n '254': 0.07195697980684809,\n '1319': 0.07324307417336907,\n '26': 0.07214700704225348,\n '91': 0.07478010948905107,\n '120': 0.06993088737201363,\n '183': 0.07017037671232874,\n '244': 0.07108326105810925,\n '253': 0.07617007434944235,\n '403': 0.07240194346289751,\n '511': 0.07272315882874887,\n '598': 0.06807225913621262,\n '1116': 0.07681255857544514,\n '1401': 0.06928064243448855,\n '1421': 0.07370413669064746,\n '1719': 0.07246595932802827,\n '1804': 0.0713928571428571,\n '1870': 0.07739282341831916,\n '27': 0.10219326683291767,\n '57': 0.10348358585858583,\n '130': 0.09780310262529832,\n '191': 0.10156009913258982,\n '242': 0.10507564102564104,\n '585': 0.09803708133971291,\n '591': 0.09791995221027476,\n '704': 0.10507564102564104,\n '811': 0.10130902348578492,\n '1121': 0.09862695547533092,\n '1175': 0.0997068126520681,\n '1176': 0.10427353689567428,\n '1248': 0.10755774278215226,\n '1251': 0.10156009913258984,\n '1257': 0.0992239709443099,\n '1537': 0.10427353689567428,\n '1715': 0.0987457831325301,\n '1824': 0.09664976415094338,\n '1829': 0.10374556962025314,\n '1926': 0.10232084893882643,\n '28': 0.07695680751173706,\n '229': 0.07157991266375542,\n '293': 0.07272315882874886,\n '332': 0.07681255857544514,\n '444': 0.07717419962335216,\n '566': 0.07688461538461537,\n '975': 0.07739282341831914,\n '1018': 0.07695680751173706,\n '1077': 0.07842966507177032,\n '1111': 0.07717419962335216,\n '1119': 0.07702913533834585,\n '1353': 0.081959,\n '1363': 0.0741039783001808,\n '1385': 0.07702913533834584,\n '1587': 0.07324307417336905,\n '1614': 0.07835468451242826,\n '1759': 0.07617007434944235,\n '1995': 0.07695680751173707,\n '29': 0.07602875695732837,\n '74': 0.07595829471733086,\n '187': 0.07761268939393938,\n '243': 0.07450818181818179,\n '308': 0.07631191806331471,\n '314': 0.0722742504409171,\n '320': 0.07227425044091712,\n '409': 0.07617007434944238,\n '487': 0.07253008849557523,\n '519': 0.07746597353497164,\n '584': 0.07120677671589923,\n '601': 0.07259433126660761,\n '751': 0.0733085867620751,\n '825': 0.07324307417336907,\n '838': 0.0816324701195219,\n '873': 0.07145510026155188,\n '943': 0.07089878892733563,\n '970': 0.07617007434944238,\n '999': 0.07595829471733086,\n '1091': 0.07330858676207513,\n '1171': 0.07995999999999998,\n '1209': 0.07464389799635701,\n '1224': 0.07624093023255814,\n '1303': 0.07450818181818179,\n '1322': 0.07645429104477612,\n '1341': 0.07221057268722467,\n '1354': 0.07164248251748252,\n '1409': 0.07176795096322242,\n '1512': 0.07695680751173707,\n '1691': 0.07246595932802828,\n '1706': 0.07259433126660762,\n '1758': 0.08171385842472581,\n '1955': 0.07317767857142855,\n '1971': 0.08171385842472581,\n '30': 0.10957085561497325,\n '134': 0.10812532981530341,\n '435': 0.10798287220026345,\n '534': 0.10812532981530341,\n '564': 0.10561726804123708,\n '780': 0.10521052631578942,\n '901': 0.10841137566137564,\n '1203': 0.10480690537084396,\n '1218': 0.11227260273972604,\n '1308': 0.10798287220026345,\n '1370': 0.10616450777202069,\n '1617': 0.10855496688741718,\n '1931': 0.10561726804123708,\n '31': 0.08822282023681383,\n '126': 0.08380265848670755,\n '146': 0.0887002164502165,\n '198': 0.08636354056902006,\n '446': 0.08775053533190583,\n '453': 0.08812795698924736,\n '570': 0.08822282023681381,\n '739': 0.09345381984036494,\n '782': 0.0888926247288504,\n '837': 0.09016391639163919,\n '914': 0.08947489082969434,\n '981': 0.08784458735262599,\n '1044': 0.0887002164502165,\n '1049': 0.09219235095613051,\n '1052': 0.09157430167597767,\n '1309': 0.08564158829676073,\n '1579': 0.08737633262260132,\n '1839': 0.09240022547914321,\n '1911': 0.09056243093922653,\n '1916': 0.0887002164502165,\n '504': 0.10257697121401753,\n '765': 0.11075540540540542,\n '1364': 0.10309308176100627,\n '1693': 0.10270551378446115,\n '1699': 0.10374556962025316,\n '1867': 0.10322292191435768,\n '1907': 0.10374556962025316,\n '33': 0.08458101135190918,\n '215': 0.0873763326226013,\n '359': 0.08555219206680585,\n '363': 0.08458101135190918,\n '365': 0.08831788793103451,\n '377': 0.08458101135190918,\n '385': 0.08130853174603174,\n '465': 0.08397438524590162,\n '479': 0.09026321585903088,\n '578': 0.08466838842975209,\n '582': 0.0873763326226013,\n '606': 0.0871904255319149,\n '823': 0.08371705822267621,\n '834': 0.08212324649298598,\n '842': 0.08261995967741936,\n '895': 0.08831788793103451,\n '934': 0.08555219206680585,\n '1086': 0.08700530785562637,\n '1238': 0.08431995884773662,\n '1239': 0.08346130346232179,\n '1297': 0.08682097457627119,\n '1447': 0.08475594622543953,\n '1450': 0.0847559462254395,\n '1495': 0.08957267759562845,\n '1497': 0.08261995967741936,\n '1880': 0.08329166666666667,\n '1936': 0.0856415882967607,\n '1938': 0.08618191377497374,\n '1948': 0.08537395833333335,\n '35': 0.09137012263099221,\n '148': 0.09167673378076065,\n '344': 0.09046247240618102,\n '459': 0.0905624309392265,\n '486': 0.09552331002330999,\n '599': 0.09026321585903081,\n '682': 0.09096448390677025,\n '693': 0.08793884120171676,\n '781': 0.09126837416481072,\n '874': 0.0905624309392265,\n '952': 0.09420574712643681,\n '995': 0.09016391639163918,\n '1268': 0.09147209821428572,\n '1403': 0.09106555555555554,\n '1423': 0.0901639163916392,\n '1688': 0.0914720982142857,\n '1815': 0.09036273428886438,\n '1822': 0.09076301218161682,\n '1840': 0.09026321585903081,\n '1841': 0.09066261061946905,\n '1846': 0.09026321585903087,\n '1853': 0.09563477246207704,\n '1961': 0.09076301218161685,\n '36': 0.06939796782387805,\n '701': 0.07403703703703701,\n '1735': 0.07126869565217389,\n '1891': 0.06957470288624787,\n '1982': 0.07023050556983716,\n '37': 0.10244874999999995,\n '78': 0.1054813384813384,\n '133': 0.10296356783919594,\n '139': 0.10007203907203907,\n '192': 0.09574649532710282,\n '209': 0.10602716688227676,\n '576': 0.10374556962025314,\n '653': 0.09910399032648129,\n '728': 0.10480690537084393,\n '967': 0.10361441213653598,\n '1194': 0.10309308176100625,\n '1259': 0.10206600249065996,\n '1500': 0.1034835858585858,\n '1522': 0.09862695547533093,\n '1542': 0.10414104193138499,\n '1568': 0.09803708133971291,\n '1609': 0.0995856622114216,\n '1959': 0.1034835858585858,\n '38': 0.08528511966701359,\n '410': 0.07911100386100386,\n '540': 0.08484368530020708,\n '588': 0.08627263157894742,\n '600': 0.08414681724846002,\n '636': 0.08245372233400405,\n '871': 0.08195900000000002,\n '951': 0.08627263157894742,\n '962': 0.08493160621761663,\n '1115': 0.08746958377801499,\n '1120': 0.08179540918163673,\n '1170': 0.08737633262260133,\n '1472': 0.0882228202368138,\n '1516': 0.08793884120171677,\n '1558': 0.08600104931794339,\n '1632': 0.08406051282051286,\n '1711': 0.08627263157894742,\n '1871': 0.08709776833156221,\n '1892': 0.08519646569646572,\n '1996': 0.08737633262260133,\n '39': 0.09898429951690818,\n '83': 0.10031701346389225,\n '141': 0.09898429951690818,\n '214': 0.09722301304863576,\n '224': 0.09874578313253009,\n '497': 0.09653592461719666,\n '645': 0.09898429951690817,\n '761': 0.09710781990521321,\n '847': 0.09630904817861335,\n '1195': 0.10309308176100627,\n '1208': 0.09597072599531616,\n '1233': 0.09699289940828403,\n '1275': 0.09722301304863576,\n '1326': 0.09281879954699884,\n '1338': 0.09475028901734102,\n '1485': 0.10257697121401751,\n '1653': 0.09874578313253009,\n '1743': 0.09398967889908257,\n '1807': 0.09630904817861335,\n '1935': 0.10427353689567427,\n '40': 0.08337639877924721,\n '96': 0.07911100386100386,\n '114': 0.08090720631786773,\n '157': 0.08728328008519705,\n '474': 0.08303850050658561,\n '522': 0.08155124378109452,\n '675': 0.08380265848670758,\n '726': 0.08397438524590164,\n '805': 0.08312271805273833,\n '924': 0.08138927507447866,\n '958': 0.08204104104104104,\n '1020': 0.08691304347826091,\n '1027': 0.08591090146750525,\n '1127': 0.08320710659898477,\n '1271': 0.08784458735262597,\n '1475': 0.08746958377801498,\n '1482': 0.08431995884773665,\n '1573': 0.08074778325123154,\n '1624': 0.08303850050658561,\n '1670': 0.08195899999999999,\n '1712': 0.08784458735262597,\n '1714': 0.08380265848670758,\n '1752': 0.07911100386100386,\n '1266': 0.08947489082969436,\n '1847': 0.09292403628117912,\n '97': 0.10898803191489362,\n '411': 0.1086989389920424,\n '413': 0.11015994623655914,\n '673': 0.1098646112600536,\n '1356': 0.1098646112600536,\n '1517': 0.10093472906403943,\n '1536': 0.10387705956907475,\n '1591': 0.101059186189889,\n '1683': 0.10494110115236874,\n '1910': 0.1098646112600536,\n '1998': 0.10927866666666665,\n '44': 0.08155124378109452,\n '59': 0.08147017892644134,\n '277': 0.08320710659898477,\n '297': 0.08138927507447864,\n '407': 0.08414681724845997,\n '460': 0.08397438524590164,\n '525': 0.0833763987792472,\n '568': 0.08654593453009507,\n '618': 0.08380265848670757,\n '678': 0.07911100386100385,\n '686': 0.08663742071881608,\n '736': 0.08329166666666667,\n '831': 0.07865547024952017,\n '843': 0.07666884939195508,\n '1050': 0.07850478927203067,\n '1064': 0.08329166666666667,\n '1122': 0.08636354056902006,\n '1131': 0.08171385842472581,\n '1191': 0.07858005752636625,\n '1253': 0.08636354056902006,\n '1436': 0.0816324701195219,\n '1551': 0.07858005752636625,\n '1676': 0.07941763565891473,\n '1978': 0.07710159924741296,\n '45': 0.08397438524590164,\n '103': 0.08312271805273835,\n '186': 0.08106726013847676,\n '190': 0.0844938144329897,\n '217': 0.07926402321083172,\n '230': 0.08414681724845997,\n '273': 0.0844938144329897,\n '295': 0.08831788793103448,\n '608': 0.07972665369649805,\n '731': 0.08406051282051284,\n '822': 0.08098715415019762,\n '1043': 0.08406051282051284,\n '1051': 0.08889262472885033,\n '1313': 0.08106726013847676,\n '1333': 0.0876566844919786,\n '1550': 0.08098715415019762,\n '1664': 0.08822282023681378,\n '1689': 0.08074778325123153,\n '47': 0.09803708133971298,\n '115': 0.09302951191827476,\n '225': 0.09630904817861348,\n '324': 0.09345381984036495,\n '371': 0.09839015606242503,\n '492': 0.10206600249066004,\n '625': 0.09356050228310508,\n '972': 0.09313522727272734,\n '993': 0.10206600249066004,\n '1130': 0.09574649532710289,\n '1138': 0.10118395061728401,\n '1355': 0.09699289940828408,\n '1468': 0.09676387249114528,\n '1707': 0.09608323563892152,\n '1789': 0.10056319018404912,\n '1814': 0.09281879954699891,\n '414': 0.09780310262529841,\n '430': 0.09597072599531623,\n '531': 0.09608323563892152,\n '672': 0.098626955475331,\n '764': 0.0929240362811792,\n '773': 0.09334738041002286,\n '856': 0.09585847953216382,\n '883': 0.1005631901840491,\n '928': 0.09745422116527949,\n '1031': 0.09324118316268494,\n '1060': 0.09313522727272736,\n '1150': 0.09271380090497744,\n '1211': 0.09745422116527949,\n '1327': 0.09733847980997631,\n '1361': 0.09530116279069774,\n '1365': 0.09722301304863588,\n '1386': 0.09324118316268494,\n '1437': 0.09608323563892154,\n '1574': 0.09313522727272734,\n '1663': 0.09260903954802267,\n '1716': 0.0974542211652795,\n '48': 0.11559802538787023,\n '137': 0.1198230994152047,\n '170': 0.11895355587808416,\n '417': 0.11658463726884781,\n '431': 0.11608923512747878,\n '457': 0.11792661870503601,\n '750': 0.11708428571428574,\n '866': 0.11708428571428574,\n '1007': 0.11576129943502829,\n '1042': 0.11758823529411767,\n '1099': 0.11462797202797206,\n '1128': 0.11559802538787023,\n '1229': 0.11658463726884781,\n '1247': 0.1198230994152047,\n '1291': 0.11625390070921986,\n '1314': 0.11741977077363897,\n '1344': 0.11658463726884781,\n '1387': 0.11741977077363899,\n '1443': 0.11608923512747878,\n '1496': 0.11383194444444447,\n '1600': 0.11826695526695531,\n '1623': 0.11658463726884781,\n '1739': 0.11641903409090909,\n '1823': 0.11708428571428571,\n '1830': 0.11895355587808419,\n '1832': 0.11792661870503601,\n '1997': 0.11878115942028983,\n '49': 0.06812884455527846,\n '104': 0.06767877786952932,\n '145': 0.06712448812448814,\n '166': 0.06706955810147298,\n '167': 0.06852759197324415,\n '437': 0.06875755033557045,\n '441': 0.06740049342105263,\n '449': 0.06706955810147298,\n '632': 0.06695996732026144,\n '644': 0.06835613010842366,\n '708': 0.06864237855946397,\n '711': 0.07164248251748248,\n '848': 0.06869991617770325,\n '897': 0.06898905723905722,\n '933': 0.07176795096322239,\n '1005': 0.06790306545153274,\n '1040': 0.0676229372937294,\n '1281': 0.06898905723905722,\n '1316': 0.06812884455527846,\n '1388': 0.07183085013146359,\n '1429': 0.07108326105810925,\n '1831': 0.06773471074380166,\n '1863': 0.07157991266375544,\n '1904': 0.06852759197324415,\n '1979': 0.06852759197324415,\n '50': 0.07437295825771321,\n '84': 0.07512282309807516,\n '177': 0.0788825794032724,\n '178': 0.07444050862851952,\n '382': 0.074643897996357,\n '420': 0.07089878892733563,\n '515': 0.07505402930402931,\n '595': 0.07941763565891474,\n '629': 0.07918743961352658,\n '774': 0.07539926402943882,\n '788': 0.07240194346289751,\n '858': 0.07702913533834586,\n '1009': 0.07253008849557521,\n '1023': 0.07865547024952015,\n '1694': 0.07471194165907018,\n '1855': 0.07005042735042732,\n '1897': 0.0744405086285195,\n '1981': 0.07471194165907018,\n '52': 0.07638303821062438,\n '67': 0.0739035166816952,\n '75': 0.07581776133209987,\n '360': 0.07265868794326238,\n '615': 0.07739282341831914,\n '680': 0.07377047704770474,\n '817': 0.07377047704770474,\n '919': 0.07377047704770474,\n '922': 0.07285244444444441,\n '927': 0.07430553037171347,\n '1001': 0.07761268939393935,\n '1118': 0.07710159924741296,\n '1337': 0.07873102785782898,\n '1377': 0.07464389799635697,\n '1410': 0.07377047704770474,\n '1644': 0.07731981132075469,\n '1696': 0.07949466537342385,\n '1849': 0.07343996415770607,\n '1861': 0.07285244444444441,\n '1951': 0.07430553037171347,\n '1965': 0.07265868794326238,\n '53': 0.11658463726884781,\n '196': 0.1116607629427793,\n '258': 0.11150884353741494,\n '368': 0.11015994623655914,\n '538': 0.11658463726884778,\n '553': 0.11242661179698221,\n '743': 0.11478851540616246,\n '1420': 0.11430822873082289,\n '1643': 0.11105555555555555,\n '1649': 0.11166076294277927,\n '1806': 0.1119658469945355,\n '1915': 0.11166076294277927,\n '1929': 0.10942456608811749,\n '1933': 0.11775718390804599,\n '54': 0.08573117154811719,\n '184': 0.08237085427135678,\n '299': 0.08106726013847677,\n '450': 0.0822056168505517,\n '472': 0.08204104104104108,\n '516': 0.0871904255319149,\n '523': 0.08466838842975212,\n '533': 0.09006483516483514,\n ...}"
     },
     "execution_count": 17,
     "metadata": {},
     "output_type": "execute_result"
    }
   ],
   "source": [
    "cc.closenessUsingEWAlgorithm(R, epsilon= 0.2)\n"
   ],
   "metadata": {
    "collapsed": false,
    "pycharm": {
     "name": "#%%\n"
    }
   }
  },
  {
   "cell_type": "code",
   "execution_count": null,
   "outputs": [],
   "source": [
    "%timeit cc.closenessUsingEWAlgorithm(R, epsilon= 0.5)\n",
    "\n"
   ],
   "metadata": {
    "collapsed": false,
    "pycharm": {
     "name": "#%%\n",
     "is_executing": false
    }
   }
  }
 ],
 "metadata": {
  "kernelspec": {
   "display_name": "Python 3",
   "language": "python",
   "name": "python3"
  },
  "language_info": {
   "codemirror_mode": {
    "name": "ipython",
    "version": 2
   },
   "file_extension": ".py",
   "mimetype": "text/x-python",
   "name": "python",
   "nbconvert_exporter": "python",
   "pygments_lexer": "ipython2",
   "version": "2.7.6"
  }
 },
 "nbformat": 4,
 "nbformat_minor": 0
}