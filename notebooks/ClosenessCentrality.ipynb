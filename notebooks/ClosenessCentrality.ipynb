{
 "cells": [
  {
   "cell_type": "markdown",
   "metadata": {
    "collapsed": true,
    "pycharm": {
     "name": "#%% md\n"
    }
   },
   "source": [
    "# Closeness Centrality"
   ]
  },
  {
   "cell_type": "code",
   "execution_count": 1,
   "outputs": [],
   "source": [
    "import networkx as nx\n"
   ],
   "metadata": {
    "collapsed": false,
    "pycharm": {
     "name": "#%%\n",
     "is_executing": false
    }
   }
  },
  {
   "cell_type": "code",
   "execution_count": 2,
   "outputs": [],
   "source": [
    "import os\n",
    "from path import Path\n",
    "PROJ_DIR = Path().getcwd().parent\n",
    "DATA_DIR = PROJ_DIR / \"data\"\n",
    "os.chdir (PROJ_DIR)"
   ],
   "metadata": {
    "collapsed": false,
    "pycharm": {
     "name": "#%%\n",
     "is_executing": false
    }
   }
  },
  {
   "cell_type": "code",
   "execution_count": 3,
   "outputs": [],
   "source": [
    "from scripts.src.ClosenessCentrality import ClosenessCentrality\n"
   ],
   "metadata": {
    "collapsed": false,
    "pycharm": {
     "name": "#%%\n",
     "is_executing": false
    }
   }
  },
  {
   "cell_type": "code",
   "execution_count": 4,
   "outputs": [],
   "source": [
    "# import networks\n",
    "P=nx.read_adjlist(DATA_DIR/\"P.adjlist\", delimiter=\",\")\n",
    "R=nx.read_adjlist(DATA_DIR/\"R.adjlist\", delimiter=\",\")"
   ],
   "metadata": {
    "collapsed": false,
    "pycharm": {
     "name": "#%%\n",
     "is_executing": false
    }
   }
  },
  {
   "cell_type": "markdown",
   "source": [
    "## P network"
   ],
   "metadata": {
    "collapsed": false
   }
  },
  {
   "cell_type": "code",
   "execution_count": 5,
   "outputs": [],
   "source": [
    "cc = ClosenessCentrality()\n",
    "expected = nx.closeness_centrality(P, wf_improved=False)"
   ],
   "metadata": {
    "collapsed": false,
    "pycharm": {
     "name": "#%%\n",
     "is_executing": false
    }
   }
  },
  {
   "cell_type": "code",
   "execution_count": 6,
   "outputs": [],
   "source": [
    "actual = cc.closenessUsingUtilities(P, networkx=True)\n",
    "assert expected == actual"
   ],
   "metadata": {
    "collapsed": false,
    "pycharm": {
     "name": "#%%\n",
     "is_executing": false
    }
   }
  },
  {
   "cell_type": "code",
   "execution_count": 7,
   "outputs": [
    {
     "name": "stdout",
     "text": [
      "Expected: {'Chieti': 0.16926070038910507, \"L'Aquila\": 0.17791411042944785, 'Pescara': 0.16353383458646617, 'Teramo': 0.18162839248434237, 'Ascoli Piceno': 0.1875, 'Campobasso': 0.1518324607329843, 'Isernia': 0.1518324607329843, 'Frosinone': 0.16893203883495145, 'Rieti': 0.19376391982182628, 'Terni': 0.19078947368421054, 'Fermo': 0.1746987951807229, 'Macerata': 0.19727891156462585, 'Matera': 0.10128055878928988, 'Potenza': 0.10081112398609501, 'Bari': 0.10116279069767442, 'Barletta-Andria-Trani': 0.11139564660691421, 'Taranto': 0.0925531914893617, 'Bolzano': 0.16171003717472118, 'Trento': 0.19247787610619468, 'Catanzaro': 0.3, 'Cosenza': 0.2926829268292683, 'Crotone': 0.23529411764705882, 'Vibo Valentia': 0.375, 'Reggio di Calabria': 0.42857142857142855, 'Catania': 0.46153846153846156, 'Messina': 0.42857142857142855, 'Avellino': 0.13657770800627944, 'Benevento': 0.13657770800627944, 'Caserta': 0.13488372093023257, 'Napoli': 0.13488372093023257, 'Salerno': 0.12219101123595505, 'Foggia': 0.12305516265912306, 'Bologna': 0.22422680412371135, 'Ferrara': 0.23641304347826086, 'ForlÃ¬-Cesena': 0.22422680412371135, 'Modena': 0.23138297872340424, \"Reggio nell'Emilia\": 0.21428571428571427, 'Mantova': 0.21641791044776118, 'Firenze': 0.21804511278195488, 'Pistoia': 0.21588089330024815, 'Prato': 0.22715404699738903, 'Rovigo': 0.22955145118733508, 'Ravenna': 0.2236503856041131, 'Padova': 0.20327102803738317, 'Venezia': 0.20232558139534884, 'Verona': 0.22774869109947643, 'Vicenza': 0.21588089330024815, 'Rimini': 0.2116788321167883, 'Arezzo': 0.22422680412371135, 'Parma': 0.21804511278195488, 'Massa Carrara': 0.20518867924528303, 'Piacenza': 0.1963882618510158, 'La Spezia': 0.1963882618510158, 'Brescia': 0.2106537530266344, 'Cremona': 0.20046082949308755, 'Genova': 0.17159763313609466, 'Bergamo': 0.1879049676025918, 'Como': 0.17296222664015903, 'Lodi': 0.18872017353579176, 'Milano': 0.174, 'Monza e della Brianza': 0.18012422360248448, 'Pavia': 0.174, 'Pesaro e Urbino': 0.2116788321167883, 'Gorizia': 0.12946428571428573, 'Trieste': 0.12946428571428573, 'Udine': 0.14821124361158433, 'Pordenone': 0.17227722772277226, 'Belluno': 0.18200836820083682, 'Treviso': 0.1963882618510158, 'Latina': 0.1457286432160804, 'Roma': 0.1638418079096045, 'Viterbo': 0.18354430379746836, 'Perugia': 0.20813397129186603, 'Savona': 0.15, 'Alessandria': 0.15875912408759124, 'Asti': 0.15236427320490367, 'Imperia': 0.13141993957703926, 'Cuneo': 0.1332312404287902, 'Livorno': 0.19954128440366972, 'Lucca': 0.20092378752886836, 'Pisa': 0.19954128440366972, 'Lecco': 0.17827868852459017, 'Sondrio': 0.1843220338983051, 'Varese': 0.16698656429942418, 'Novara': 0.1590493601462523, 'Verbano-Cusio-Ossola': 0.15732368896925858, 'Vercelli': 0.15343915343915343, 'Biella': 0.14770797962648557, 'Ancona': 0.19683257918552036, 'Torino': 0.13530326594090203, 'Aosta': 0.12946428571428573, 'Brindisi': 0.0849609375, 'Lecce': 0.07837837837837838, 'Cagliari': 0.5714285714285714, 'Oristano': 0.8, 'Sud Sardegna': 0.5714285714285714, 'Nuoro': 0.6666666666666666, 'Sassari': 0.4444444444444444, 'Agrigento': 0.2727272727272727, 'Caltanissetta': 0.35294117647058826, 'Enna': 0.34285714285714286, 'Palermo': 0.26666666666666666, 'Ragusa': 0.42857142857142855, 'Siracusa': 0.375, 'Trapani': 0.0, 'Grosseto': 0.1895424836601307, 'Siena': 0.20863309352517986} \n Actual: {'Chieti': 0.16926070038910507, \"L'Aquila\": 0.17791411042944785, 'Pescara': 0.16353383458646617, 'Teramo': 0.18162839248434237, 'Ascoli Piceno': 0.1875, 'Campobasso': 0.1518324607329843, 'Isernia': 0.1518324607329843, 'Frosinone': 0.16893203883495145, 'Rieti': 0.19376391982182628, 'Terni': 0.19078947368421054, 'Fermo': 0.1746987951807229, 'Macerata': 0.19727891156462585, 'Matera': 0.10128055878928988, 'Potenza': 0.10081112398609501, 'Bari': 0.10116279069767442, 'Barletta-Andria-Trani': 0.11139564660691421, 'Taranto': 0.0925531914893617, 'Bolzano': 0.16171003717472118, 'Trento': 0.19247787610619468, 'Catanzaro': 0.3, 'Cosenza': 0.2926829268292683, 'Crotone': 0.23529411764705882, 'Vibo Valentia': 0.375, 'Reggio di Calabria': 0.42857142857142855, 'Catania': 0.46153846153846156, 'Messina': 0.42857142857142855, 'Avellino': 0.13657770800627944, 'Benevento': 0.13657770800627944, 'Caserta': 0.13488372093023257, 'Napoli': 0.13488372093023257, 'Salerno': 0.12219101123595505, 'Foggia': 0.12305516265912306, 'Bologna': 0.22422680412371135, 'Ferrara': 0.23641304347826086, 'ForlÃ¬-Cesena': 0.22422680412371135, 'Modena': 0.23138297872340424, \"Reggio nell'Emilia\": 0.21428571428571427, 'Mantova': 0.21641791044776118, 'Firenze': 0.21804511278195488, 'Pistoia': 0.21588089330024815, 'Prato': 0.22715404699738903, 'Rovigo': 0.22955145118733508, 'Ravenna': 0.2236503856041131, 'Padova': 0.20327102803738317, 'Venezia': 0.20232558139534884, 'Verona': 0.22774869109947643, 'Vicenza': 0.21588089330024815, 'Rimini': 0.2116788321167883, 'Arezzo': 0.22422680412371135, 'Parma': 0.21804511278195488, 'Massa Carrara': 0.20518867924528303, 'Piacenza': 0.1963882618510158, 'La Spezia': 0.1963882618510158, 'Brescia': 0.2106537530266344, 'Cremona': 0.20046082949308755, 'Genova': 0.17159763313609466, 'Bergamo': 0.1879049676025918, 'Como': 0.17296222664015903, 'Lodi': 0.18872017353579176, 'Milano': 0.174, 'Monza e della Brianza': 0.18012422360248448, 'Pavia': 0.174, 'Pesaro e Urbino': 0.2116788321167883, 'Gorizia': 0.12946428571428573, 'Trieste': 0.12946428571428573, 'Udine': 0.14821124361158433, 'Pordenone': 0.17227722772277226, 'Belluno': 0.18200836820083682, 'Treviso': 0.1963882618510158, 'Latina': 0.1457286432160804, 'Roma': 0.1638418079096045, 'Viterbo': 0.18354430379746836, 'Perugia': 0.20813397129186603, 'Savona': 0.15, 'Alessandria': 0.15875912408759124, 'Asti': 0.15236427320490367, 'Imperia': 0.13141993957703926, 'Cuneo': 0.1332312404287902, 'Livorno': 0.19954128440366972, 'Lucca': 0.20092378752886836, 'Pisa': 0.19954128440366972, 'Lecco': 0.17827868852459017, 'Sondrio': 0.1843220338983051, 'Varese': 0.16698656429942418, 'Novara': 0.1590493601462523, 'Verbano-Cusio-Ossola': 0.15732368896925858, 'Vercelli': 0.15343915343915343, 'Biella': 0.14770797962648557, 'Ancona': 0.19683257918552036, 'Torino': 0.13530326594090203, 'Aosta': 0.12946428571428573, 'Brindisi': 0.0849609375, 'Lecce': 0.07837837837837838, 'Cagliari': 0.5714285714285714, 'Oristano': 0.8, 'Sud Sardegna': 0.5714285714285714, 'Nuoro': 0.6666666666666666, 'Sassari': 0.4444444444444444, 'Agrigento': 0.2727272727272727, 'Caltanissetta': 0.35294117647058826, 'Enna': 0.34285714285714286, 'Palermo': 0.26666666666666666, 'Ragusa': 0.42857142857142855, 'Siracusa': 0.375, 'Trapani': 0, 'Grosseto': 0.1895424836601307, 'Siena': 0.20863309352517986}\n"
     ],
     "output_type": "stream"
    }
   ],
   "source": [
    "print(\"Expected: {} \\n Actual: {}\".format(expected, actual))"
   ],
   "metadata": {
    "collapsed": false,
    "pycharm": {
     "name": "#%%\n",
     "is_executing": false
    }
   }
  },
  {
   "cell_type": "code",
   "execution_count": 8,
   "outputs": [],
   "source": [
    "actual = cc.closenessUsingBFS(P, networkx=True)\n",
    "assert expected == actual"
   ],
   "metadata": {
    "collapsed": false,
    "pycharm": {
     "name": "#%%\n",
     "is_executing": false
    }
   }
  },
  {
   "cell_type": "code",
   "execution_count": 9,
   "outputs": [
    {
     "name": "stdout",
     "text": [
      "Expected: {'Chieti': 0.16926070038910507, \"L'Aquila\": 0.17791411042944785, 'Pescara': 0.16353383458646617, 'Teramo': 0.18162839248434237, 'Ascoli Piceno': 0.1875, 'Campobasso': 0.1518324607329843, 'Isernia': 0.1518324607329843, 'Frosinone': 0.16893203883495145, 'Rieti': 0.19376391982182628, 'Terni': 0.19078947368421054, 'Fermo': 0.1746987951807229, 'Macerata': 0.19727891156462585, 'Matera': 0.10128055878928988, 'Potenza': 0.10081112398609501, 'Bari': 0.10116279069767442, 'Barletta-Andria-Trani': 0.11139564660691421, 'Taranto': 0.0925531914893617, 'Bolzano': 0.16171003717472118, 'Trento': 0.19247787610619468, 'Catanzaro': 0.3, 'Cosenza': 0.2926829268292683, 'Crotone': 0.23529411764705882, 'Vibo Valentia': 0.375, 'Reggio di Calabria': 0.42857142857142855, 'Catania': 0.46153846153846156, 'Messina': 0.42857142857142855, 'Avellino': 0.13657770800627944, 'Benevento': 0.13657770800627944, 'Caserta': 0.13488372093023257, 'Napoli': 0.13488372093023257, 'Salerno': 0.12219101123595505, 'Foggia': 0.12305516265912306, 'Bologna': 0.22422680412371135, 'Ferrara': 0.23641304347826086, 'ForlÃ¬-Cesena': 0.22422680412371135, 'Modena': 0.23138297872340424, \"Reggio nell'Emilia\": 0.21428571428571427, 'Mantova': 0.21641791044776118, 'Firenze': 0.21804511278195488, 'Pistoia': 0.21588089330024815, 'Prato': 0.22715404699738903, 'Rovigo': 0.22955145118733508, 'Ravenna': 0.2236503856041131, 'Padova': 0.20327102803738317, 'Venezia': 0.20232558139534884, 'Verona': 0.22774869109947643, 'Vicenza': 0.21588089330024815, 'Rimini': 0.2116788321167883, 'Arezzo': 0.22422680412371135, 'Parma': 0.21804511278195488, 'Massa Carrara': 0.20518867924528303, 'Piacenza': 0.1963882618510158, 'La Spezia': 0.1963882618510158, 'Brescia': 0.2106537530266344, 'Cremona': 0.20046082949308755, 'Genova': 0.17159763313609466, 'Bergamo': 0.1879049676025918, 'Como': 0.17296222664015903, 'Lodi': 0.18872017353579176, 'Milano': 0.174, 'Monza e della Brianza': 0.18012422360248448, 'Pavia': 0.174, 'Pesaro e Urbino': 0.2116788321167883, 'Gorizia': 0.12946428571428573, 'Trieste': 0.12946428571428573, 'Udine': 0.14821124361158433, 'Pordenone': 0.17227722772277226, 'Belluno': 0.18200836820083682, 'Treviso': 0.1963882618510158, 'Latina': 0.1457286432160804, 'Roma': 0.1638418079096045, 'Viterbo': 0.18354430379746836, 'Perugia': 0.20813397129186603, 'Savona': 0.15, 'Alessandria': 0.15875912408759124, 'Asti': 0.15236427320490367, 'Imperia': 0.13141993957703926, 'Cuneo': 0.1332312404287902, 'Livorno': 0.19954128440366972, 'Lucca': 0.20092378752886836, 'Pisa': 0.19954128440366972, 'Lecco': 0.17827868852459017, 'Sondrio': 0.1843220338983051, 'Varese': 0.16698656429942418, 'Novara': 0.1590493601462523, 'Verbano-Cusio-Ossola': 0.15732368896925858, 'Vercelli': 0.15343915343915343, 'Biella': 0.14770797962648557, 'Ancona': 0.19683257918552036, 'Torino': 0.13530326594090203, 'Aosta': 0.12946428571428573, 'Brindisi': 0.0849609375, 'Lecce': 0.07837837837837838, 'Cagliari': 0.5714285714285714, 'Oristano': 0.8, 'Sud Sardegna': 0.5714285714285714, 'Nuoro': 0.6666666666666666, 'Sassari': 0.4444444444444444, 'Agrigento': 0.2727272727272727, 'Caltanissetta': 0.35294117647058826, 'Enna': 0.34285714285714286, 'Palermo': 0.26666666666666666, 'Ragusa': 0.42857142857142855, 'Siracusa': 0.375, 'Trapani': 0.0, 'Grosseto': 0.1895424836601307, 'Siena': 0.20863309352517986} \n Actual: {'Chieti': 0.16926070038910507, \"L'Aquila\": 0.17791411042944785, 'Pescara': 0.16353383458646617, 'Teramo': 0.18162839248434237, 'Ascoli Piceno': 0.1875, 'Campobasso': 0.1518324607329843, 'Isernia': 0.1518324607329843, 'Frosinone': 0.16893203883495145, 'Rieti': 0.19376391982182628, 'Terni': 0.19078947368421054, 'Fermo': 0.1746987951807229, 'Macerata': 0.19727891156462585, 'Matera': 0.10128055878928988, 'Potenza': 0.10081112398609501, 'Bari': 0.10116279069767442, 'Barletta-Andria-Trani': 0.11139564660691421, 'Taranto': 0.0925531914893617, 'Bolzano': 0.16171003717472118, 'Trento': 0.19247787610619468, 'Catanzaro': 0.3, 'Cosenza': 0.2926829268292683, 'Crotone': 0.23529411764705882, 'Vibo Valentia': 0.375, 'Reggio di Calabria': 0.42857142857142855, 'Catania': 0.46153846153846156, 'Messina': 0.42857142857142855, 'Avellino': 0.13657770800627944, 'Benevento': 0.13657770800627944, 'Caserta': 0.13488372093023257, 'Napoli': 0.13488372093023257, 'Salerno': 0.12219101123595505, 'Foggia': 0.12305516265912306, 'Bologna': 0.22422680412371135, 'Ferrara': 0.23641304347826086, 'ForlÃ¬-Cesena': 0.22422680412371135, 'Modena': 0.23138297872340424, \"Reggio nell'Emilia\": 0.21428571428571427, 'Mantova': 0.21641791044776118, 'Firenze': 0.21804511278195488, 'Pistoia': 0.21588089330024815, 'Prato': 0.22715404699738903, 'Rovigo': 0.22955145118733508, 'Ravenna': 0.2236503856041131, 'Padova': 0.20327102803738317, 'Venezia': 0.20232558139534884, 'Verona': 0.22774869109947643, 'Vicenza': 0.21588089330024815, 'Rimini': 0.2116788321167883, 'Arezzo': 0.22422680412371135, 'Parma': 0.21804511278195488, 'Massa Carrara': 0.20518867924528303, 'Piacenza': 0.1963882618510158, 'La Spezia': 0.1963882618510158, 'Brescia': 0.2106537530266344, 'Cremona': 0.20046082949308755, 'Genova': 0.17159763313609466, 'Bergamo': 0.1879049676025918, 'Como': 0.17296222664015903, 'Lodi': 0.18872017353579176, 'Milano': 0.174, 'Monza e della Brianza': 0.18012422360248448, 'Pavia': 0.174, 'Pesaro e Urbino': 0.2116788321167883, 'Gorizia': 0.12946428571428573, 'Trieste': 0.12946428571428573, 'Udine': 0.14821124361158433, 'Pordenone': 0.17227722772277226, 'Belluno': 0.18200836820083682, 'Treviso': 0.1963882618510158, 'Latina': 0.1457286432160804, 'Roma': 0.1638418079096045, 'Viterbo': 0.18354430379746836, 'Perugia': 0.20813397129186603, 'Savona': 0.15, 'Alessandria': 0.15875912408759124, 'Asti': 0.15236427320490367, 'Imperia': 0.13141993957703926, 'Cuneo': 0.1332312404287902, 'Livorno': 0.19954128440366972, 'Lucca': 0.20092378752886836, 'Pisa': 0.19954128440366972, 'Lecco': 0.17827868852459017, 'Sondrio': 0.1843220338983051, 'Varese': 0.16698656429942418, 'Novara': 0.1590493601462523, 'Verbano-Cusio-Ossola': 0.15732368896925858, 'Vercelli': 0.15343915343915343, 'Biella': 0.14770797962648557, 'Ancona': 0.19683257918552036, 'Torino': 0.13530326594090203, 'Aosta': 0.12946428571428573, 'Brindisi': 0.0849609375, 'Lecce': 0.07837837837837838, 'Cagliari': 0.5714285714285714, 'Oristano': 0.8, 'Sud Sardegna': 0.5714285714285714, 'Nuoro': 0.6666666666666666, 'Sassari': 0.4444444444444444, 'Agrigento': 0.2727272727272727, 'Caltanissetta': 0.35294117647058826, 'Enna': 0.34285714285714286, 'Palermo': 0.26666666666666666, 'Ragusa': 0.42857142857142855, 'Siracusa': 0.375, 'Trapani': 0, 'Grosseto': 0.1895424836601307, 'Siena': 0.20863309352517986}\n"
     ],
     "output_type": "stream"
    }
   ],
   "source": [
    "print(\"Expected: {} \\n Actual: {}\".format(expected, actual))"
   ],
   "metadata": {
    "collapsed": false,
    "pycharm": {
     "name": "#%%\n",
     "is_executing": false
    }
   }
  },
  {
   "cell_type": "code",
   "execution_count": 10,
   "outputs": [],
   "source": [
    "actual = cc.closenessUsingEWAlgorithm(P, epsilon= 0.5)"
   ],
   "metadata": {
    "collapsed": false,
    "pycharm": {
     "name": "#%%\n",
     "is_executing": false
    }
   }
  },
  {
   "cell_type": "code",
   "execution_count": 11,
   "outputs": [],
   "source": [
    "actual = cc.armonicCloseness(P)\n",
    "expected = nx.harmonic_centrality(P)\n",
    "assert expected == actual"
   ],
   "metadata": {
    "collapsed": false,
    "pycharm": {
     "name": "#%%\n",
     "is_executing": false
    }
   }
  },
  {
   "cell_type": "code",
   "execution_count": 12,
   "outputs": [
    {
     "name": "stdout",
     "text": [
      "Expected: {'Chieti': 22.825541125541136, \"L'Aquila\": 23.31868686868688, 'Pescara': 20.369985569985555, 'Teramo': 23.05793650793652, 'Ascoli Piceno': 24.998412698412707, 'Campobasso': 20.95342712842712, 'Isernia': 20.95342712842712, 'Frosinone': 20.04725829725828, 'Rieti': 24.73888888888889, 'Terni': 22.98888888888889, 'Fermo': 21.22698412698412, 'Macerata': 23.33650793650794, 'Matera': 14.36346153846154, 'Potenza': 13.113461538461546, 'Bari': 13.863461538461543, 'Barletta-Andria-Trani': 15.794219669219657, 'Taranto': 12.745116239969185, 'Bolzano': 18.133420745920724, 'Trento': 24.239657564657573, 'Catanzaro': 5.566666666666667, 'Cosenza': 5.066666666666668, 'Crotone': 3.935714285714286, 'Vibo Valentia': 6.566666666666666, 'Reggio di Calabria': 6.499999999999999, 'Catania': 7.083333333333332, 'Messina': 6.499999999999999, 'Avellino': 19.734207459207443, 'Benevento': 19.734207459207443, 'Caserta': 18.710397935397914, 'Napoli': 18.710397935397914, 'Salerno': 17.119666444666436, 'Foggia': 17.2863331113331, 'Bologna': 30.262348762348743, 'Ferrara': 30.633705183705164, 'ForlÃ¬-Cesena': 27.98846708846708, 'Modena': 31.09568209568207, \"Reggio nell'Emilia\": 29.96227661227659, 'Mantova': 30.24560994560992, 'Firenze': 27.638467088467085, 'Pistoia': 29.31234876234875, 'Prato': 29.39322899322898, 'Rovigo': 29.393228993228977, 'Ravenna': 26.35638528138529, 'Padova': 26.70996780996781, 'Venezia': 26.043301143301147, 'Verona': 30.821872571872547, 'Vicenza': 28.755205905205898, 'Rimini': 24.873051948051963, 'Arezzo': 27.81471861471861, 'Parma': 31.02894327894326, 'Massa Carrara': 27.87894327894327, 'Piacenza': 29.753262015762, 'La Spezia': 25.25037185037186, 'Brescia': 29.539657564657542, 'Cremona': 29.817547730047714, 'Genova': 24.899978208066443, 'Bergamo': 28.197706460206447, 'Como': 27.98331154139976, 'Lodi': 28.447706460206447, 'Milano': 28.73331154139976, 'Monza e della Brianza': 29.659502017590235, 'Pavia': 28.73331154139976, 'Pesaro e Urbino': 24.08654401154402, 'Gorizia': 14.669025827114057, 'Trieste': 14.669025827114057, 'Udine': 17.782627095127072, 'Pordenone': 21.777752802752808, 'Belluno': 22.89441946941947, 'Treviso': 24.777824952824957, 'Latina': 16.642640692640665, 'Roma': 19.66911976911975, 'Viterbo': 21.61075036075036, 'Perugia': 24.416702741702753, 'Savona': 21.103813261901497, 'Alessandria': 25.77087675396498, 'Asti': 23.937146595234832, 'Imperia': 16.86469214909616, 'Cuneo': 18.364692149096168, 'Livorno': 24.824253524253525, 'Lucca': 25.574253524253525, 'Pisa': 24.824253524253525, 'Lecco': 27.90950201759024, 'Sondrio': 25.697706460206465, 'Varese': 26.369819477907704, 'Novara': 26.60421008729831, 'Verbano-Cusio-Ossola': 24.687543420631652, 'Vercelli': 25.27047992856816, 'Biella': 23.27805568614393, 'Ancona': 22.836507936507935, 'Torino': 20.448025482429504, 'Aosta': 17.35285953726354, 'Brindisi': 11.001082332699967, 'Lecce': 9.30258793064519, 'Cagliari': 2.8333333333333335, 'Oristano': 3.5, 'Sud Sardegna': 2.8333333333333335, 'Nuoro': 3.0, 'Sassari': 2.1666666666666665, 'Agrigento': 4.842857142857144, 'Caltanissetta': 6.483333333333333, 'Enna': 5.983333333333333, 'Palermo': 4.342857142857144, 'Ragusa': 7.033333333333333, 'Siracusa': 5.699999999999999, 'Trapani': 0, 'Grosseto': 21.09084804084804, 'Siena': 25.157514707514707} \n Actual: {'Chieti': 22.825541125541136, \"L'Aquila\": 23.31868686868688, 'Pescara': 20.369985569985555, 'Teramo': 23.05793650793652, 'Ascoli Piceno': 24.998412698412707, 'Campobasso': 20.95342712842712, 'Isernia': 20.95342712842712, 'Frosinone': 20.04725829725828, 'Rieti': 24.73888888888889, 'Terni': 22.98888888888889, 'Fermo': 21.22698412698412, 'Macerata': 23.33650793650794, 'Matera': 14.36346153846154, 'Potenza': 13.113461538461546, 'Bari': 13.863461538461543, 'Barletta-Andria-Trani': 15.794219669219657, 'Taranto': 12.745116239969185, 'Bolzano': 18.133420745920724, 'Trento': 24.239657564657573, 'Catanzaro': 5.566666666666667, 'Cosenza': 5.066666666666668, 'Crotone': 3.935714285714286, 'Vibo Valentia': 6.566666666666666, 'Reggio di Calabria': 6.499999999999999, 'Catania': 7.083333333333332, 'Messina': 6.499999999999999, 'Avellino': 19.734207459207443, 'Benevento': 19.734207459207443, 'Caserta': 18.710397935397914, 'Napoli': 18.710397935397914, 'Salerno': 17.119666444666436, 'Foggia': 17.2863331113331, 'Bologna': 30.262348762348743, 'Ferrara': 30.633705183705164, 'ForlÃ¬-Cesena': 27.98846708846708, 'Modena': 31.09568209568207, \"Reggio nell'Emilia\": 29.96227661227659, 'Mantova': 30.24560994560992, 'Firenze': 27.638467088467085, 'Pistoia': 29.31234876234875, 'Prato': 29.39322899322898, 'Rovigo': 29.393228993228977, 'Ravenna': 26.35638528138529, 'Padova': 26.70996780996781, 'Venezia': 26.043301143301147, 'Verona': 30.821872571872547, 'Vicenza': 28.755205905205898, 'Rimini': 24.873051948051963, 'Arezzo': 27.81471861471861, 'Parma': 31.02894327894326, 'Massa Carrara': 27.87894327894327, 'Piacenza': 29.753262015762, 'La Spezia': 25.25037185037186, 'Brescia': 29.539657564657542, 'Cremona': 29.817547730047714, 'Genova': 24.899978208066443, 'Bergamo': 28.197706460206447, 'Como': 27.98331154139976, 'Lodi': 28.447706460206447, 'Milano': 28.73331154139976, 'Monza e della Brianza': 29.659502017590235, 'Pavia': 28.73331154139976, 'Pesaro e Urbino': 24.08654401154402, 'Gorizia': 14.669025827114057, 'Trieste': 14.669025827114057, 'Udine': 17.782627095127072, 'Pordenone': 21.777752802752808, 'Belluno': 22.89441946941947, 'Treviso': 24.777824952824957, 'Latina': 16.642640692640665, 'Roma': 19.66911976911975, 'Viterbo': 21.61075036075036, 'Perugia': 24.416702741702753, 'Savona': 21.103813261901497, 'Alessandria': 25.77087675396498, 'Asti': 23.937146595234832, 'Imperia': 16.86469214909616, 'Cuneo': 18.364692149096168, 'Livorno': 24.824253524253525, 'Lucca': 25.574253524253525, 'Pisa': 24.824253524253525, 'Lecco': 27.90950201759024, 'Sondrio': 25.697706460206465, 'Varese': 26.369819477907704, 'Novara': 26.60421008729831, 'Verbano-Cusio-Ossola': 24.687543420631652, 'Vercelli': 25.27047992856816, 'Biella': 23.27805568614393, 'Ancona': 22.836507936507935, 'Torino': 20.448025482429504, 'Aosta': 17.35285953726354, 'Brindisi': 11.001082332699967, 'Lecce': 9.30258793064519, 'Cagliari': 2.8333333333333335, 'Oristano': 3.5, 'Sud Sardegna': 2.8333333333333335, 'Nuoro': 3.0, 'Sassari': 2.1666666666666665, 'Agrigento': 4.842857142857144, 'Caltanissetta': 6.483333333333333, 'Enna': 5.983333333333333, 'Palermo': 4.342857142857144, 'Ragusa': 7.033333333333333, 'Siracusa': 5.699999999999999, 'Trapani': 0, 'Grosseto': 21.09084804084804, 'Siena': 25.157514707514707}\n"
     ],
     "output_type": "stream"
    }
   ],
   "source": [
    "print(\"Expected: {} \\n Actual: {}\".format(expected, actual))\n",
    "\n",
    "\n",
    "\n"
   ],
   "metadata": {
    "collapsed": false,
    "pycharm": {
     "name": "#%%\n",
     "is_executing": false
    }
   }
  }
 ],
 "metadata": {
  "kernelspec": {
   "display_name": "Python 3",
   "language": "python",
   "name": "python3"
  },
  "language_info": {
   "codemirror_mode": {
    "name": "ipython",
    "version": 2
   },
   "file_extension": ".py",
   "mimetype": "text/x-python",
   "name": "python",
   "nbconvert_exporter": "python",
   "pygments_lexer": "ipython2",
   "version": "2.7.6"
  },
  "pycharm": {
   "stem_cell": {
    "cell_type": "raw",
    "source": [],
    "metadata": {
     "collapsed": false
    }
   }
  }
 },
 "nbformat": 4,
 "nbformat_minor": 0
}