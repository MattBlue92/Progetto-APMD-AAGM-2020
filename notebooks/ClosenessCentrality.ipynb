{
 "cells": [
  {
   "cell_type": "markdown",
   "metadata": {
    "collapsed": true,
    "pycharm": {
     "name": "#%% md\n"
    }
   },
   "source": [
    "# Closeness Centrality"
   ]
  },
  {
   "cell_type": "code",
   "execution_count": 1,
   "outputs": [],
   "source": [
    "def checkAsymptoticConvergence(expected, actual, epsilon):\n",
    "    result = True\n",
    "    for key in actual.keys():\n",
    "        c_hat=1/actual[key]\n",
    "        c=1/expected[key]\n",
    "        abs_error = abs(c_hat - c)\n",
    "        if abs_error>epsilon:\n",
    "            print(\"actual: {}, expected: {}, error: {}\".format(c_hat, c, abs_error))\n",
    "        result = result and abs_error< epsilon\n",
    "    return result"
   ],
   "metadata": {
    "collapsed": false,
    "pycharm": {
     "name": "#%%\n",
     "is_executing": false
    }
   }
  },
  {
   "cell_type": "code",
   "execution_count": 2,
   "outputs": [],
   "source": [
    "import networkx as nx\n",
    "\n"
   ],
   "metadata": {
    "collapsed": false,
    "pycharm": {
     "name": "#%%\n",
     "is_executing": false
    }
   }
  },
  {
   "cell_type": "code",
   "execution_count": 3,
   "outputs": [],
   "source": [
    "import os\n",
    "from path import Path\n",
    "PROJ_DIR = Path().getcwd().parent\n",
    "DATA_DIR = PROJ_DIR / \"data\"\n",
    "os.chdir (PROJ_DIR)"
   ],
   "metadata": {
    "collapsed": false,
    "pycharm": {
     "name": "#%%\n",
     "is_executing": false
    }
   }
  },
  {
   "cell_type": "code",
   "execution_count": 4,
   "outputs": [],
   "source": [
    "from scripts.src.ClosenessCentrality import ClosenessCentrality\n"
   ],
   "metadata": {
    "collapsed": false,
    "pycharm": {
     "name": "#%%\n",
     "is_executing": false
    }
   }
  },
  {
   "cell_type": "code",
   "execution_count": 5,
   "outputs": [
    {
     "data": {
      "text/plain": "2000"
     },
     "metadata": {},
     "output_type": "execute_result",
     "execution_count": 5
    }
   ],
   "source": [
    "# import networks\n",
    "P=nx.read_adjlist(DATA_DIR/\"P.adjlist\", delimiter=\",\")\n",
    "R=nx.read_adjlist(DATA_DIR/\"R.adjlist\", delimiter=\",\")\n",
    "len(R)"
   ],
   "metadata": {
    "collapsed": false,
    "pycharm": {
     "name": "#%%\n",
     "is_executing": false
    }
   }
  },
  {
   "cell_type": "markdown",
   "source": [
    "## P network"
   ],
   "metadata": {
    "collapsed": false
   }
  },
  {
   "cell_type": "code",
   "execution_count": 6,
   "outputs": [],
   "source": [
    "cc = ClosenessCentrality()\n",
    "expected = nx.closeness_centrality(P, wf_improved=False)"
   ],
   "metadata": {
    "collapsed": false,
    "pycharm": {
     "name": "#%%\n",
     "is_executing": false
    }
   }
  },
  {
   "cell_type": "code",
   "execution_count": 7,
   "outputs": [],
   "source": [
    "actual = cc.closenessUsingBFS(P, networkx=True)\n",
    "assert expected == actual"
   ],
   "metadata": {
    "collapsed": false,
    "pycharm": {
     "name": "#%%\n",
     "is_executing": false
    }
   }
  },
  {
   "cell_type": "code",
   "execution_count": 8,
   "outputs": [
    {
     "name": "stdout",
     "text": [
      "Expected: {'Chieti': 0.16926070038910507, \"L'Aquila\": 0.17791411042944785, 'Pescara': 0.16353383458646617, 'Teramo': 0.18162839248434237, 'Ascoli Piceno': 0.1875, 'Campobasso': 0.1518324607329843, 'Isernia': 0.1518324607329843, 'Frosinone': 0.16893203883495145, 'Rieti': 0.19376391982182628, 'Terni': 0.19078947368421054, 'Fermo': 0.1746987951807229, 'Macerata': 0.19727891156462585, 'Matera': 0.10128055878928988, 'Potenza': 0.10081112398609501, 'Bari': 0.10116279069767442, 'Barletta-Andria-Trani': 0.11139564660691421, 'Taranto': 0.0925531914893617, 'Bolzano': 0.16171003717472118, 'Trento': 0.19247787610619468, 'Catanzaro': 0.3, 'Cosenza': 0.2926829268292683, 'Crotone': 0.23529411764705882, 'Vibo Valentia': 0.375, 'Reggio di Calabria': 0.42857142857142855, 'Catania': 0.46153846153846156, 'Messina': 0.42857142857142855, 'Avellino': 0.13657770800627944, 'Benevento': 0.13657770800627944, 'Caserta': 0.13488372093023257, 'Napoli': 0.13488372093023257, 'Salerno': 0.12219101123595505, 'Foggia': 0.12305516265912306, 'Bologna': 0.22422680412371135, 'Ferrara': 0.23641304347826086, 'ForlÃ¬-Cesena': 0.22422680412371135, 'Modena': 0.23138297872340424, \"Reggio nell'Emilia\": 0.21428571428571427, 'Mantova': 0.21641791044776118, 'Firenze': 0.21804511278195488, 'Pistoia': 0.21588089330024815, 'Prato': 0.22715404699738903, 'Rovigo': 0.22955145118733508, 'Ravenna': 0.2236503856041131, 'Padova': 0.20327102803738317, 'Venezia': 0.20232558139534884, 'Verona': 0.22774869109947643, 'Vicenza': 0.21588089330024815, 'Rimini': 0.2116788321167883, 'Arezzo': 0.22422680412371135, 'Parma': 0.21804511278195488, 'Massa Carrara': 0.20518867924528303, 'Piacenza': 0.1963882618510158, 'La Spezia': 0.1963882618510158, 'Brescia': 0.2106537530266344, 'Cremona': 0.20046082949308755, 'Genova': 0.17159763313609466, 'Bergamo': 0.1879049676025918, 'Como': 0.17296222664015903, 'Lodi': 0.18872017353579176, 'Milano': 0.174, 'Monza e della Brianza': 0.18012422360248448, 'Pavia': 0.174, 'Pesaro e Urbino': 0.2116788321167883, 'Gorizia': 0.12946428571428573, 'Trieste': 0.12946428571428573, 'Udine': 0.14821124361158433, 'Pordenone': 0.17227722772277226, 'Belluno': 0.18200836820083682, 'Treviso': 0.1963882618510158, 'Latina': 0.1457286432160804, 'Roma': 0.1638418079096045, 'Viterbo': 0.18354430379746836, 'Perugia': 0.20813397129186603, 'Savona': 0.15, 'Alessandria': 0.15875912408759124, 'Asti': 0.15236427320490367, 'Imperia': 0.13141993957703926, 'Cuneo': 0.1332312404287902, 'Livorno': 0.19954128440366972, 'Lucca': 0.20092378752886836, 'Pisa': 0.19954128440366972, 'Lecco': 0.17827868852459017, 'Sondrio': 0.1843220338983051, 'Varese': 0.16698656429942418, 'Novara': 0.1590493601462523, 'Verbano-Cusio-Ossola': 0.15732368896925858, 'Vercelli': 0.15343915343915343, 'Biella': 0.14770797962648557, 'Ancona': 0.19683257918552036, 'Torino': 0.13530326594090203, 'Aosta': 0.12946428571428573, 'Brindisi': 0.0849609375, 'Lecce': 0.07837837837837838, 'Cagliari': 0.5714285714285714, 'Oristano': 0.8, 'Sud Sardegna': 0.5714285714285714, 'Nuoro': 0.6666666666666666, 'Sassari': 0.4444444444444444, 'Agrigento': 0.2727272727272727, 'Caltanissetta': 0.35294117647058826, 'Enna': 0.34285714285714286, 'Palermo': 0.26666666666666666, 'Ragusa': 0.42857142857142855, 'Siracusa': 0.375, 'Trapani': 0.0, 'Grosseto': 0.1895424836601307, 'Siena': 0.20863309352517986} \n Actual: {'Chieti': 0.16926070038910507, \"L'Aquila\": 0.17791411042944785, 'Pescara': 0.16353383458646617, 'Teramo': 0.18162839248434237, 'Ascoli Piceno': 0.1875, 'Campobasso': 0.1518324607329843, 'Isernia': 0.1518324607329843, 'Frosinone': 0.16893203883495145, 'Rieti': 0.19376391982182628, 'Terni': 0.19078947368421054, 'Fermo': 0.1746987951807229, 'Macerata': 0.19727891156462585, 'Matera': 0.10128055878928988, 'Potenza': 0.10081112398609501, 'Bari': 0.10116279069767442, 'Barletta-Andria-Trani': 0.11139564660691421, 'Taranto': 0.0925531914893617, 'Bolzano': 0.16171003717472118, 'Trento': 0.19247787610619468, 'Catanzaro': 0.3, 'Cosenza': 0.2926829268292683, 'Crotone': 0.23529411764705882, 'Vibo Valentia': 0.375, 'Reggio di Calabria': 0.42857142857142855, 'Catania': 0.46153846153846156, 'Messina': 0.42857142857142855, 'Avellino': 0.13657770800627944, 'Benevento': 0.13657770800627944, 'Caserta': 0.13488372093023257, 'Napoli': 0.13488372093023257, 'Salerno': 0.12219101123595505, 'Foggia': 0.12305516265912306, 'Bologna': 0.22422680412371135, 'Ferrara': 0.23641304347826086, 'ForlÃ¬-Cesena': 0.22422680412371135, 'Modena': 0.23138297872340424, \"Reggio nell'Emilia\": 0.21428571428571427, 'Mantova': 0.21641791044776118, 'Firenze': 0.21804511278195488, 'Pistoia': 0.21588089330024815, 'Prato': 0.22715404699738903, 'Rovigo': 0.22955145118733508, 'Ravenna': 0.2236503856041131, 'Padova': 0.20327102803738317, 'Venezia': 0.20232558139534884, 'Verona': 0.22774869109947643, 'Vicenza': 0.21588089330024815, 'Rimini': 0.2116788321167883, 'Arezzo': 0.22422680412371135, 'Parma': 0.21804511278195488, 'Massa Carrara': 0.20518867924528303, 'Piacenza': 0.1963882618510158, 'La Spezia': 0.1963882618510158, 'Brescia': 0.2106537530266344, 'Cremona': 0.20046082949308755, 'Genova': 0.17159763313609466, 'Bergamo': 0.1879049676025918, 'Como': 0.17296222664015903, 'Lodi': 0.18872017353579176, 'Milano': 0.174, 'Monza e della Brianza': 0.18012422360248448, 'Pavia': 0.174, 'Pesaro e Urbino': 0.2116788321167883, 'Gorizia': 0.12946428571428573, 'Trieste': 0.12946428571428573, 'Udine': 0.14821124361158433, 'Pordenone': 0.17227722772277226, 'Belluno': 0.18200836820083682, 'Treviso': 0.1963882618510158, 'Latina': 0.1457286432160804, 'Roma': 0.1638418079096045, 'Viterbo': 0.18354430379746836, 'Perugia': 0.20813397129186603, 'Savona': 0.15, 'Alessandria': 0.15875912408759124, 'Asti': 0.15236427320490367, 'Imperia': 0.13141993957703926, 'Cuneo': 0.1332312404287902, 'Livorno': 0.19954128440366972, 'Lucca': 0.20092378752886836, 'Pisa': 0.19954128440366972, 'Lecco': 0.17827868852459017, 'Sondrio': 0.1843220338983051, 'Varese': 0.16698656429942418, 'Novara': 0.1590493601462523, 'Verbano-Cusio-Ossola': 0.15732368896925858, 'Vercelli': 0.15343915343915343, 'Biella': 0.14770797962648557, 'Ancona': 0.19683257918552036, 'Torino': 0.13530326594090203, 'Aosta': 0.12946428571428573, 'Brindisi': 0.0849609375, 'Lecce': 0.07837837837837838, 'Cagliari': 0.5714285714285714, 'Oristano': 0.8, 'Sud Sardegna': 0.5714285714285714, 'Nuoro': 0.6666666666666666, 'Sassari': 0.4444444444444444, 'Agrigento': 0.2727272727272727, 'Caltanissetta': 0.35294117647058826, 'Enna': 0.34285714285714286, 'Palermo': 0.26666666666666666, 'Ragusa': 0.42857142857142855, 'Siracusa': 0.375, 'Trapani': 0, 'Grosseto': 0.1895424836601307, 'Siena': 0.20863309352517986}\n"
     ],
     "output_type": "stream"
    }
   ],
   "source": [
    "print(\"Expected: {} \\n Actual: {}\".format(expected, actual))"
   ],
   "metadata": {
    "collapsed": false,
    "pycharm": {
     "name": "#%%\n",
     "is_executing": false
    }
   }
  },
  {
   "cell_type": "code",
   "execution_count": 9,
   "outputs": [],
   "source": [
    "epsilon=0.165\n",
    "largest_cc = max(nx.connected_components(P), key=len)\n",
    "P=P.subgraph(largest_cc)\n",
    "actual = cc.closenessUsingEWAlgorithm(P,epsilon)\n",
    "expected = nx.closeness_centrality(P, wf_improved=False)\n",
    "assert checkAsymptoticConvergence(actual, expected, epsilon)"
   ],
   "metadata": {
    "collapsed": false,
    "pycharm": {
     "name": "#%%\n",
     "is_executing": false
    }
   }
  },
  {
   "cell_type": "code",
   "execution_count": 10,
   "outputs": [
    {
     "name": "stdout",
     "text": [
      "7.17 s ± 164 ms per loop (mean ± std. dev. of 7 runs, 1 loop each)\n"
     ],
     "output_type": "stream"
    }
   ],
   "source": [
    "%timeit cc.closenessUsingBFS(P, networkx=True)"
   ],
   "metadata": {
    "collapsed": false,
    "pycharm": {
     "name": "#%%\n",
     "is_executing": false
    }
   }
  },
  {
   "cell_type": "code",
   "execution_count": 11,
   "outputs": [
    {
     "name": "stdout",
     "text": [
      "144 ms ± 59.6 ms per loop (mean ± std. dev. of 7 runs, 1 loop each)\n"
     ],
     "output_type": "stream"
    }
   ],
   "source": [
    "%timeit cc.closenessUsingEWAlgorithm(P, epsilon= 0.165)"
   ],
   "metadata": {
    "collapsed": false,
    "pycharm": {
     "name": "#%%\n",
     "is_executing": false
    }
   }
  },
  {
   "cell_type": "markdown",
   "source": [
    "## R network"
   ],
   "metadata": {
    "collapsed": false,
    "pycharm": {
     "name": "#%% md\n"
    }
   }
  },
  {
   "cell_type": "code",
   "execution_count": 12,
   "outputs": [
    {
     "data": {
      "text/plain": "5"
     },
     "metadata": {},
     "output_type": "execute_result",
     "execution_count": 12
    }
   ],
   "source": [
    "epsilon=0.2\n",
    "largest_cc = max(nx.connected_components(R), key=len)\n",
    "R=R.subgraph(largest_cc)\n",
    "len(R)"
   ],
   "metadata": {
    "collapsed": false,
    "pycharm": {
     "name": "#%%\n",
     "is_executing": false
    }
   }
  },
  {
   "cell_type": "code",
   "execution_count": 13,
   "outputs": [
    {
     "traceback": [
      "\u001b[1;31m---------------------------------------------------------------------------\u001b[0m",
      "\u001b[1;31mValueError\u001b[0m                                Traceback (most recent call last)",
      "\u001b[1;32m<ipython-input-13-044d3f760d32>\u001b[0m in \u001b[0;36m<module>\u001b[1;34m\u001b[0m\n\u001b[1;32m----> 1\u001b[1;33m \u001b[0mactual\u001b[0m \u001b[1;33m=\u001b[0m \u001b[0mcc\u001b[0m\u001b[1;33m.\u001b[0m\u001b[0mclosenessUsingEWAlgorithm\u001b[0m\u001b[1;33m(\u001b[0m\u001b[0mR\u001b[0m\u001b[1;33m,\u001b[0m \u001b[0mepsilon\u001b[0m\u001b[1;33m=\u001b[0m \u001b[0mepsilon\u001b[0m\u001b[1;33m)\u001b[0m\u001b[1;33m\u001b[0m\u001b[1;33m\u001b[0m\u001b[0m\n\u001b[0m\u001b[0;32m      2\u001b[0m \u001b[0mexpected\u001b[0m \u001b[1;33m=\u001b[0m \u001b[0mnx\u001b[0m\u001b[1;33m.\u001b[0m\u001b[0mcloseness_centrality\u001b[0m\u001b[1;33m(\u001b[0m\u001b[0mR\u001b[0m\u001b[1;33m,\u001b[0m \u001b[0mwf_improved\u001b[0m\u001b[1;33m=\u001b[0m\u001b[1;32mFalse\u001b[0m\u001b[1;33m)\u001b[0m\u001b[1;33m\u001b[0m\u001b[1;33m\u001b[0m\u001b[0m\n\u001b[0;32m      3\u001b[0m \u001b[1;32massert\u001b[0m \u001b[0mcheckAsymptoticConvergence\u001b[0m\u001b[1;33m(\u001b[0m\u001b[0mactual\u001b[0m\u001b[1;33m,\u001b[0m\u001b[0mexpected\u001b[0m\u001b[1;33m,\u001b[0m \u001b[0mepsilon\u001b[0m\u001b[1;33m)\u001b[0m\u001b[1;33m\u001b[0m\u001b[1;33m\u001b[0m\u001b[0m\n\u001b[0;32m      4\u001b[0m \u001b[1;33m\u001b[0m\u001b[0m\n",
      "\u001b[1;32mE:\\Documenti\\Magistrale\\PycharmProject\\Progetto-APMD-AAGM-2020\\scripts\\src\\ClosenessCentrality.py\u001b[0m in \u001b[0;36mclosenessUsingEWAlgorithm\u001b[1;34m(self, graph, epsilon)\u001b[0m\n\u001b[0;32m     37\u001b[0m         \u001b[0mcloseness\u001b[0m \u001b[1;33m=\u001b[0m \u001b[1;33m{\u001b[0m\u001b[1;33m}\u001b[0m\u001b[1;33m\u001b[0m\u001b[1;33m\u001b[0m\u001b[0m\n\u001b[0;32m     38\u001b[0m \u001b[1;33m\u001b[0m\u001b[0m\n\u001b[1;32m---> 39\u001b[1;33m         \u001b[0msample_nodes\u001b[0m \u001b[1;33m=\u001b[0m \u001b[0mnp\u001b[0m\u001b[1;33m.\u001b[0m\u001b[0mrandom\u001b[0m\u001b[1;33m.\u001b[0m\u001b[0mchoice\u001b[0m\u001b[1;33m(\u001b[0m\u001b[0mlist\u001b[0m\u001b[1;33m(\u001b[0m\u001b[0mnodes\u001b[0m\u001b[1;33m)\u001b[0m\u001b[1;33m,\u001b[0m \u001b[0msize\u001b[0m\u001b[1;33m=\u001b[0m\u001b[0mk\u001b[0m\u001b[1;33m,\u001b[0m \u001b[0mreplace\u001b[0m\u001b[1;33m=\u001b[0m\u001b[1;32mFalse\u001b[0m\u001b[1;33m)\u001b[0m\u001b[1;33m\u001b[0m\u001b[1;33m\u001b[0m\u001b[0m\n\u001b[0m\u001b[0;32m     40\u001b[0m         \u001b[0mdict_distance\u001b[0m \u001b[1;33m=\u001b[0m \u001b[1;33m{\u001b[0m\u001b[0mw\u001b[0m\u001b[1;33m:\u001b[0m\u001b[0mself\u001b[0m\u001b[1;33m.\u001b[0m\u001b[0mdistance_dict_bfs\u001b[0m\u001b[1;33m(\u001b[0m\u001b[0mgraph\u001b[0m\u001b[1;33m,\u001b[0m\u001b[0mw\u001b[0m\u001b[1;33m)\u001b[0m \u001b[1;32mfor\u001b[0m \u001b[0mw\u001b[0m \u001b[1;32min\u001b[0m \u001b[0msample_nodes\u001b[0m\u001b[1;33m}\u001b[0m\u001b[1;33m\u001b[0m\u001b[1;33m\u001b[0m\u001b[0m\n\u001b[0;32m     41\u001b[0m \u001b[1;33m\u001b[0m\u001b[0m\n",
      "\u001b[1;32mmtrand.pyx\u001b[0m in \u001b[0;36mnumpy.random.mtrand.RandomState.choice\u001b[1;34m()\u001b[0m\n",
      "\u001b[1;31mValueError\u001b[0m: Cannot take a larger sample than population when 'replace=False'"
     ],
     "ename": "ValueError",
     "evalue": "Cannot take a larger sample than population when 'replace=False'",
     "output_type": "error"
    }
   ],
   "source": [
    "actual = cc.closenessUsingEWAlgorithm(R, epsilon= epsilon)\n",
    "expected = nx.closeness_centrality(R, wf_improved=False)\n",
    "assert checkAsymptoticConvergence(actual,expected, epsilon)"
   ],
   "metadata": {
    "collapsed": false,
    "pycharm": {
     "name": "#%%\n",
     "is_executing": false
    }
   }
  },
  {
   "cell_type": "code",
   "execution_count": null,
   "outputs": [],
   "source": [
    "%timeit cc.closenessUsingEWAlgorithm(R, epsilon= 0.5)\n",
    "\n"
   ],
   "metadata": {
    "collapsed": false,
    "pycharm": {
     "name": "#%%\n",
     "is_executing": false
    }
   }
  }
 ],
 "metadata": {
  "kernelspec": {
   "display_name": "Python 3",
   "language": "python",
   "name": "python3"
  },
  "language_info": {
   "codemirror_mode": {
    "name": "ipython",
    "version": 2
   },
   "file_extension": ".py",
   "mimetype": "text/x-python",
   "name": "python",
   "nbconvert_exporter": "python",
   "pygments_lexer": "ipython2",
   "version": "2.7.6"
  },
  "pycharm": {
   "stem_cell": {
    "cell_type": "raw",
    "source": [],
    "metadata": {
     "collapsed": false
    }
   }
  }
 },
 "nbformat": 4,
 "nbformat_minor": 0
}