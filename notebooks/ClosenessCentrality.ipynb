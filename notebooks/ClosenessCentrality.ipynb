{
 "cells": [
  {
   "cell_type": "markdown",
   "metadata": {
    "collapsed": true,
    "pycharm": {
     "name": "#%% md\n"
    }
   },
   "source": [
    "# Closeness Centrality"
   ]
  },
  {
   "cell_type": "code",
   "execution_count": 1,
   "outputs": [],
   "source": [
    "def checkAsymptoticConvergence(expected, actual, epsilon):\n",
    "    result = True\n",
    "    for key in actual.keys():\n",
    "        c_hat=1/actual[key]\n",
    "        c=1/expected[key]\n",
    "        abs_error = abs(c_hat - c)\n",
    "        if abs_error>epsilon:\n",
    "            print(\"actual: {}, expected: {}, error: {}\".format(c_hat, c, abs_error))\n",
    "        result = result and abs_error< epsilon\n",
    "    return result"
   ],
   "metadata": {
    "collapsed": false,
    "pycharm": {
     "name": "#%%\n"
    }
   }
  },
  {
   "cell_type": "code",
   "execution_count": 2,
   "outputs": [],
   "source": [
    "import networkx as nx\n",
    "import numpy as np\n"
   ],
   "metadata": {
    "collapsed": false,
    "pycharm": {
     "name": "#%%\n"
    }
   }
  },
  {
   "cell_type": "code",
   "execution_count": 3,
   "outputs": [],
   "source": [
    "import os\n",
    "from path import Path\n",
    "PROJ_DIR = Path().getcwd().parent\n",
    "DATA_DIR = PROJ_DIR / \"data\"\n",
    "os.chdir (PROJ_DIR)"
   ],
   "metadata": {
    "collapsed": false,
    "pycharm": {
     "name": "#%%\n"
    }
   }
  },
  {
   "cell_type": "code",
   "execution_count": 4,
   "outputs": [],
   "source": [
    "from scripts.src.ClosenessCentrality import ClosenessCentrality\n"
   ],
   "metadata": {
    "collapsed": false,
    "pycharm": {
     "name": "#%%\n"
    }
   }
  },
  {
   "cell_type": "code",
   "execution_count": 5,
   "outputs": [],
   "source": [
    "# import networks\n",
    "P=nx.read_adjlist(DATA_DIR/\"P.adjlist\", delimiter=\",\")\n",
    "R=nx.read_adjlist(DATA_DIR/\"R.adjlist\", delimiter=\",\")"
   ],
   "metadata": {
    "collapsed": false,
    "pycharm": {
     "name": "#%%\n"
    }
   }
  },
  {
   "cell_type": "markdown",
   "source": [
    "## P network"
   ],
   "metadata": {
    "collapsed": false
   }
  },
  {
   "cell_type": "code",
   "execution_count": 6,
   "outputs": [],
   "source": [
    "cc = ClosenessCentrality()\n",
    "expected = nx.closeness_centrality(P, wf_improved=False)"
   ],
   "metadata": {
    "collapsed": false,
    "pycharm": {
     "name": "#%%\n"
    }
   }
  },
  {
   "cell_type": "code",
   "execution_count": 7,
   "outputs": [],
   "source": [
    "actual = cc.closenessUsingBFS(P, networkx=True)\n",
    "assert expected == actual"
   ],
   "metadata": {
    "collapsed": false,
    "pycharm": {
     "name": "#%%\n"
    }
   }
  },
  {
   "cell_type": "code",
   "execution_count": 8,
   "outputs": [
    {
     "name": "stdout",
     "output_type": "stream",
     "text": [
      "Expected: {'Chieti': 0.16926070038910507, \"L'Aquila\": 0.17791411042944785, 'Pescara': 0.16353383458646617, 'Teramo': 0.18162839248434237, 'Ascoli Piceno': 0.1875, 'Campobasso': 0.1518324607329843, 'Isernia': 0.1518324607329843, 'Frosinone': 0.16893203883495145, 'Rieti': 0.19376391982182628, 'Terni': 0.19078947368421054, 'Fermo': 0.1746987951807229, 'Macerata': 0.19727891156462585, 'Matera': 0.10128055878928988, 'Potenza': 0.10081112398609501, 'Bari': 0.10116279069767442, 'Barletta-Andria-Trani': 0.11139564660691421, 'Taranto': 0.0925531914893617, 'Bolzano': 0.16171003717472118, 'Trento': 0.19247787610619468, 'Catanzaro': 0.3, 'Cosenza': 0.2926829268292683, 'Crotone': 0.23529411764705882, 'Vibo Valentia': 0.375, 'Reggio di Calabria': 0.42857142857142855, 'Catania': 0.46153846153846156, 'Messina': 0.42857142857142855, 'Avellino': 0.13657770800627944, 'Benevento': 0.13657770800627944, 'Caserta': 0.13488372093023257, 'Napoli': 0.13488372093023257, 'Salerno': 0.12219101123595505, 'Foggia': 0.12305516265912306, 'Bologna': 0.22422680412371135, 'Ferrara': 0.23641304347826086, 'Forlì-Cesena': 0.22422680412371135, 'Modena': 0.23138297872340424, \"Reggio nell'Emilia\": 0.21428571428571427, 'Mantova': 0.21641791044776118, 'Firenze': 0.21804511278195488, 'Pistoia': 0.21588089330024815, 'Prato': 0.22715404699738903, 'Rovigo': 0.22955145118733508, 'Ravenna': 0.2236503856041131, 'Padova': 0.20327102803738317, 'Venezia': 0.20232558139534884, 'Verona': 0.22774869109947643, 'Vicenza': 0.21588089330024815, 'Rimini': 0.2116788321167883, 'Arezzo': 0.22422680412371135, 'Parma': 0.21804511278195488, 'Massa Carrara': 0.20518867924528303, 'Piacenza': 0.1963882618510158, 'La Spezia': 0.1963882618510158, 'Brescia': 0.2106537530266344, 'Cremona': 0.20046082949308755, 'Genova': 0.17159763313609466, 'Bergamo': 0.1879049676025918, 'Como': 0.17296222664015903, 'Lodi': 0.18872017353579176, 'Milano': 0.174, 'Monza e della Brianza': 0.18012422360248448, 'Pavia': 0.174, 'Pesaro e Urbino': 0.2116788321167883, 'Gorizia': 0.12946428571428573, 'Trieste': 0.12946428571428573, 'Udine': 0.14821124361158433, 'Pordenone': 0.17227722772277226, 'Belluno': 0.18200836820083682, 'Treviso': 0.1963882618510158, 'Latina': 0.1457286432160804, 'Roma': 0.1638418079096045, 'Viterbo': 0.18354430379746836, 'Perugia': 0.20813397129186603, 'Savona': 0.15, 'Alessandria': 0.15875912408759124, 'Asti': 0.15236427320490367, 'Imperia': 0.13141993957703926, 'Cuneo': 0.1332312404287902, 'Livorno': 0.19954128440366972, 'Lucca': 0.20092378752886836, 'Pisa': 0.19954128440366972, 'Lecco': 0.17827868852459017, 'Sondrio': 0.1843220338983051, 'Varese': 0.16698656429942418, 'Novara': 0.1590493601462523, 'Verbano-Cusio-Ossola': 0.15732368896925858, 'Vercelli': 0.15343915343915343, 'Biella': 0.14770797962648557, 'Ancona': 0.19683257918552036, 'Torino': 0.13530326594090203, 'Aosta': 0.12946428571428573, 'Brindisi': 0.0849609375, 'Lecce': 0.07837837837837838, 'Cagliari': 0.5714285714285714, 'Oristano': 0.8, 'Sud Sardegna': 0.5714285714285714, 'Nuoro': 0.6666666666666666, 'Sassari': 0.4444444444444444, 'Agrigento': 0.2727272727272727, 'Caltanissetta': 0.35294117647058826, 'Enna': 0.34285714285714286, 'Palermo': 0.26666666666666666, 'Ragusa': 0.42857142857142855, 'Siracusa': 0.375, 'Trapani': 0.0, 'Grosseto': 0.1895424836601307, 'Siena': 0.20863309352517986} \n",
      " Actual: {'Chieti': 0.16926070038910507, \"L'Aquila\": 0.17791411042944785, 'Pescara': 0.16353383458646617, 'Teramo': 0.18162839248434237, 'Ascoli Piceno': 0.1875, 'Campobasso': 0.1518324607329843, 'Isernia': 0.1518324607329843, 'Frosinone': 0.16893203883495145, 'Rieti': 0.19376391982182628, 'Terni': 0.19078947368421054, 'Fermo': 0.1746987951807229, 'Macerata': 0.19727891156462585, 'Matera': 0.10128055878928988, 'Potenza': 0.10081112398609501, 'Bari': 0.10116279069767442, 'Barletta-Andria-Trani': 0.11139564660691421, 'Taranto': 0.0925531914893617, 'Bolzano': 0.16171003717472118, 'Trento': 0.19247787610619468, 'Catanzaro': 0.3, 'Cosenza': 0.2926829268292683, 'Crotone': 0.23529411764705882, 'Vibo Valentia': 0.375, 'Reggio di Calabria': 0.42857142857142855, 'Catania': 0.46153846153846156, 'Messina': 0.42857142857142855, 'Avellino': 0.13657770800627944, 'Benevento': 0.13657770800627944, 'Caserta': 0.13488372093023257, 'Napoli': 0.13488372093023257, 'Salerno': 0.12219101123595505, 'Foggia': 0.12305516265912306, 'Bologna': 0.22422680412371135, 'Ferrara': 0.23641304347826086, 'Forlì-Cesena': 0.22422680412371135, 'Modena': 0.23138297872340424, \"Reggio nell'Emilia\": 0.21428571428571427, 'Mantova': 0.21641791044776118, 'Firenze': 0.21804511278195488, 'Pistoia': 0.21588089330024815, 'Prato': 0.22715404699738903, 'Rovigo': 0.22955145118733508, 'Ravenna': 0.2236503856041131, 'Padova': 0.20327102803738317, 'Venezia': 0.20232558139534884, 'Verona': 0.22774869109947643, 'Vicenza': 0.21588089330024815, 'Rimini': 0.2116788321167883, 'Arezzo': 0.22422680412371135, 'Parma': 0.21804511278195488, 'Massa Carrara': 0.20518867924528303, 'Piacenza': 0.1963882618510158, 'La Spezia': 0.1963882618510158, 'Brescia': 0.2106537530266344, 'Cremona': 0.20046082949308755, 'Genova': 0.17159763313609466, 'Bergamo': 0.1879049676025918, 'Como': 0.17296222664015903, 'Lodi': 0.18872017353579176, 'Milano': 0.174, 'Monza e della Brianza': 0.18012422360248448, 'Pavia': 0.174, 'Pesaro e Urbino': 0.2116788321167883, 'Gorizia': 0.12946428571428573, 'Trieste': 0.12946428571428573, 'Udine': 0.14821124361158433, 'Pordenone': 0.17227722772277226, 'Belluno': 0.18200836820083682, 'Treviso': 0.1963882618510158, 'Latina': 0.1457286432160804, 'Roma': 0.1638418079096045, 'Viterbo': 0.18354430379746836, 'Perugia': 0.20813397129186603, 'Savona': 0.15, 'Alessandria': 0.15875912408759124, 'Asti': 0.15236427320490367, 'Imperia': 0.13141993957703926, 'Cuneo': 0.1332312404287902, 'Livorno': 0.19954128440366972, 'Lucca': 0.20092378752886836, 'Pisa': 0.19954128440366972, 'Lecco': 0.17827868852459017, 'Sondrio': 0.1843220338983051, 'Varese': 0.16698656429942418, 'Novara': 0.1590493601462523, 'Verbano-Cusio-Ossola': 0.15732368896925858, 'Vercelli': 0.15343915343915343, 'Biella': 0.14770797962648557, 'Ancona': 0.19683257918552036, 'Torino': 0.13530326594090203, 'Aosta': 0.12946428571428573, 'Brindisi': 0.0849609375, 'Lecce': 0.07837837837837838, 'Cagliari': 0.5714285714285714, 'Oristano': 0.8, 'Sud Sardegna': 0.5714285714285714, 'Nuoro': 0.6666666666666666, 'Sassari': 0.4444444444444444, 'Agrigento': 0.2727272727272727, 'Caltanissetta': 0.35294117647058826, 'Enna': 0.34285714285714286, 'Palermo': 0.26666666666666666, 'Ragusa': 0.42857142857142855, 'Siracusa': 0.375, 'Trapani': 0, 'Grosseto': 0.1895424836601307, 'Siena': 0.20863309352517986}\n"
     ]
    }
   ],
   "source": [
    "print(\"Expected: {} \\n Actual: {}\".format(expected, actual))"
   ],
   "metadata": {
    "collapsed": false,
    "pycharm": {
     "name": "#%%\n"
    }
   }
  },
  {
   "cell_type": "code",
   "execution_count": 26,
   "outputs": [
    {
     "name": "stdout",
     "output_type": "stream",
     "text": [
      "actual: 9.873563218390805, expected: 10.12825166364187, error: 0.25468844525106427\n",
      "actual: 9.919540229885058, expected: 10.16817906836056, error: 0.24863883847550206\n",
      "actual: 9.885057471264368, expected: 10.141560798548099, error: 0.25650332728373115\n",
      "actual: 8.977011494252874, expected: 9.223230490018155, error: 0.24621899576528072\n",
      "actual: 10.804597701149426, expected: 11.073200241984276, error: 0.26860254083485025\n",
      "actual: 6.183908045977012, expected: 6.002419842710228, error: 0.18148820326678372\n",
      "actual: 5.195402298850575, expected: 5.017543859649124, error: 0.17785843920145084\n",
      "actual: 8.183908045977011, expected: 8.384754990925599, error: 0.20084694494858724\n",
      "actual: 8.126436781609195, expected: 8.344827586206906, error: 0.21839080459771054\n",
      "actual: 4.32183908045977, expected: 4.152450090744101, error: 0.16938898971566907\n",
      "actual: 4.586206896551724, expected: 4.405323653962492, error: 0.18088324258923194\n",
      "actual: 4.873563218390804, expected: 4.698124621899579, error: 0.17543859649122506\n",
      "actual: 5.091954022988506, expected: 4.871143375680582, error: 0.22081064730792388\n",
      "actual: 4.747126436781609, expected: 4.578342407743497, error: 0.16878402903811196\n",
      "actual: 4.988505747126437, expected: 4.804597701149427, error: 0.18390804597701038\n",
      "actual: 5.8275862068965525, expected: 5.603145795523295, error: 0.22444041137325765\n",
      "actual: 5.32183908045977, expected: 5.124016938898975, error: 0.19782214156079547\n",
      "actual: 5.781609195402299, expected: 5.563218390804601, error: 0.2183908045976981\n",
      "actual: 5.2988505747126435, expected: 5.110707803992743, error: 0.18814277071990038\n",
      "actual: 5.74712643678161, expected: 5.523290986085908, error: 0.22383545069570143\n",
      "actual: 5.551724137931035, expected: 5.336963097398673, error: 0.21476104053236167\n",
      "actual: 5.74712643678161, expected: 5.523290986085907, error: 0.22383545069570232\n",
      "actual: 6.666666666666667, expected: 6.428312159709622, error: 0.23835450695704452\n",
      "actual: 6.2988505747126435, expected: 6.068965517241382, error: 0.22988505747126187\n",
      "actual: 6.563218390804598, expected: 6.3351482153660035, error: 0.2280701754385941\n",
      "actual: 7.609195402298851, expected: 7.359951603145803, error: 0.24924379915304762\n",
      "actual: 7.505747126436781, expected: 7.266787658802183, error: 0.23895946763459808\n",
      "actual: 5.609195402298851, expected: 5.41681790683606, error: 0.19237749546279126\n",
      "actual: 5.425287356321839, expected: 5.243799153055054, error: 0.1814882032667846\n",
      "actual: 5.988505747126437, expected: 5.789473684210529, error: 0.19903206291590791\n",
      "actual: 6.287356321839081, expected: 6.068965517241382, error: 0.218390804597699\n",
      "actual: 6.356321839080461, expected: 6.135511191772537, error: 0.22081064730792388\n",
      "actual: 6.517241379310345, expected: 6.28191167574108, error: 0.2353297035692652\n",
      "actual: 6.7701149425287355, expected: 6.561403508771933, error: 0.20871143375680212\n",
      "actual: 7.390804597701149, expected: 7.147005444646104, error: 0.24379915305504518\n",
      "actual: 7.724137931034482, expected: 7.506352087114345, error: 0.21778584392013745\n",
      "actual: 11.770114942528735, expected: 12.058076225045385, error: 0.2879612825166493\n",
      "actual: 12.75862068965517, expected: 13.042952208106488, error: 0.2843315184513173\n"
     ]
    },
    {
     "ename": "AssertionError",
     "evalue": "",
     "output_type": "error",
     "traceback": [
      "\u001B[0;31m---------------------------------------------------------------------------\u001B[0m",
      "\u001B[0;31mAssertionError\u001B[0m                            Traceback (most recent call last)",
      "\u001B[0;32m<ipython-input-26-b41e53231cea>\u001B[0m in \u001B[0;36m<module>\u001B[0;34m\u001B[0m\n\u001B[1;32m      4\u001B[0m \u001B[0mactual\u001B[0m \u001B[0;34m=\u001B[0m \u001B[0mcc\u001B[0m\u001B[0;34m.\u001B[0m\u001B[0mclosenessUsingEWAlgorithm\u001B[0m\u001B[0;34m(\u001B[0m\u001B[0mP\u001B[0m\u001B[0;34m,\u001B[0m\u001B[0mepsilon\u001B[0m\u001B[0;34m,\u001B[0m \u001B[0;36m1\u001B[0m\u001B[0;34m)\u001B[0m\u001B[0;34m\u001B[0m\u001B[0;34m\u001B[0m\u001B[0m\n\u001B[1;32m      5\u001B[0m \u001B[0mexpected\u001B[0m \u001B[0;34m=\u001B[0m \u001B[0mnx\u001B[0m\u001B[0;34m.\u001B[0m\u001B[0mcloseness_centrality\u001B[0m\u001B[0;34m(\u001B[0m\u001B[0mP\u001B[0m\u001B[0;34m,\u001B[0m \u001B[0mwf_improved\u001B[0m\u001B[0;34m=\u001B[0m\u001B[0;32mFalse\u001B[0m\u001B[0;34m)\u001B[0m\u001B[0;34m\u001B[0m\u001B[0;34m\u001B[0m\u001B[0m\n\u001B[0;32m----> 6\u001B[0;31m \u001B[0;32massert\u001B[0m \u001B[0mcheckAsymptoticConvergence\u001B[0m\u001B[0;34m(\u001B[0m\u001B[0mactual\u001B[0m\u001B[0;34m,\u001B[0m \u001B[0mexpected\u001B[0m\u001B[0;34m,\u001B[0m \u001B[0mepsilon\u001B[0m\u001B[0;34m)\u001B[0m\u001B[0;34m\u001B[0m\u001B[0;34m\u001B[0m\u001B[0m\n\u001B[0m\u001B[1;32m      7\u001B[0m \u001B[0;34m\u001B[0m\u001B[0m\n",
      "\u001B[0;31mAssertionError\u001B[0m: "
     ]
    }
   ],
   "source": [
    "epsilon=0.16\n",
    "largest_cc = max(nx.connected_components(P), key=len)\n",
    "P=P.subgraph(largest_cc)\n",
    "actual = cc.closenessUsingEWAlgorithm(P,epsilon, 1)\n",
    "expected = nx.closeness_centrality(P, wf_improved=False)\n",
    "assert checkAsymptoticConvergence(actual, expected, epsilon)"
   ],
   "metadata": {
    "collapsed": false,
    "pycharm": {
     "name": "#%%\n"
    }
   }
  },
  {
   "cell_type": "code",
   "execution_count": null,
   "outputs": [],
   "source": [
    "%timeit cc.closenessUsingBFS(P, networkx=True)"
   ],
   "metadata": {
    "collapsed": false,
    "pycharm": {
     "name": "#%%\n"
    }
   }
  },
  {
   "cell_type": "code",
   "execution_count": null,
   "outputs": [],
   "source": [
    "%timeit cc.closenessUsingEWAlgorithm(P, epsilon= 0.5)"
   ],
   "metadata": {
    "collapsed": false,
    "pycharm": {
     "name": "#%%\n"
    }
   }
  },
  {
   "cell_type": "markdown",
   "source": [
    "## R network"
   ],
   "metadata": {
    "collapsed": false,
    "pycharm": {
     "name": "#%% md\n"
    }
   }
  },
  {
   "cell_type": "code",
   "execution_count": null,
   "outputs": [],
   "source": [
    "epsilon=0.2\n",
    "largest_cc = max(nx.connected_components(R), key=len)\n",
    "R=R.subgraph(largest_cc)\n",
    "actual = cc.closenessUsingEWAlgorithm(R, epsilon= epsilon)\n",
    "expected = nx.closeness_centrality(P, wf_improved=False)\n",
    "assert checkAsymptoticConvergence(actual,expected, epsilon)"
   ],
   "metadata": {
    "collapsed": false,
    "pycharm": {
     "name": "#%%\n"
    }
   }
  },
  {
   "cell_type": "code",
   "execution_count": null,
   "outputs": [],
   "source": [
    "%timeit cc.closenessUsingEWAlgorithm(R, epsilon= 0.5)\n",
    "\n"
   ],
   "metadata": {
    "collapsed": false,
    "pycharm": {
     "name": "#%%\n"
    }
   }
  }
 ],
 "metadata": {
  "kernelspec": {
   "display_name": "Python 3",
   "language": "python",
   "name": "python3"
  },
  "language_info": {
   "codemirror_mode": {
    "name": "ipython",
    "version": 2
   },
   "file_extension": ".py",
   "mimetype": "text/x-python",
   "name": "python",
   "nbconvert_exporter": "python",
   "pygments_lexer": "ipython2",
   "version": "2.7.6"
  }
 },
 "nbformat": 4,
 "nbformat_minor": 0
}