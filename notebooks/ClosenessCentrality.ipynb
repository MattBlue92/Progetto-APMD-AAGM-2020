{
 "cells": [
  {
   "cell_type": "code",
   "execution_count": 1,
   "metadata": {
    "collapsed": true,
    "pycharm": {
     "name": "#%%\n"
    }
   },
   "outputs": [],
   "source": [
    "import networkx as nx\n",
    "import matplotlib.pyplot as plt\n",
    "from scripts.src.ClosenessCentrality import ClosenessCentrality\n",
    "\n"
   ]
  },
  {
   "cell_type": "code",
   "execution_count": 2,
   "outputs": [],
   "source": [
    "import os\n",
    "from path import Path\n",
    "PROJ_DIR = Path().getcwd().parent\n",
    "DATA_DIR = PROJ_DIR / \"data\"\n",
    "os.chdir (PROJ_DIR)\n"
   ],
   "metadata": {
    "collapsed": false,
    "pycharm": {
     "name": "#%%\n"
    }
   }
  },
  {
   "cell_type": "code",
   "execution_count": 2,
   "outputs": [],
   "source": [],
   "metadata": {
    "collapsed": false,
    "pycharm": {
     "name": "#%%\n"
    }
   }
  },
  {
   "cell_type": "code",
   "execution_count": 3,
   "outputs": [],
   "source": [
    "# import networks\n",
    "P=nx.read_adjlist(DATA_DIR/\"P.adjlist\", delimiter=\",\")\n",
    "R=nx.read_adjlist(DATA_DIR/\"R.adjlist\", delimiter=\",\")"
   ],
   "metadata": {
    "collapsed": false,
    "pycharm": {
     "name": "#%%\n"
    }
   }
  },
  {
   "cell_type": "markdown",
   "source": [
    "## P network"
   ],
   "metadata": {
    "collapsed": false
   }
  },
  {
   "cell_type": "code",
   "execution_count": 4,
   "outputs": [],
   "source": [
    "cc = ClosenessCentrality()\n",
    "expected = nx.closeness_centrality(P, wf_improved=False)"
   ],
   "metadata": {
    "collapsed": false,
    "pycharm": {
     "name": "#%%\n"
    }
   }
  },
  {
   "cell_type": "code",
   "execution_count": 5,
   "outputs": [
    {
     "ename": "AssertionError",
     "evalue": "",
     "output_type": "error",
     "traceback": [
      "\u001B[0;31m---------------------------------------------------------------------------\u001B[0m",
      "\u001B[0;31mAssertionError\u001B[0m                            Traceback (most recent call last)",
      "\u001B[0;32m<ipython-input-5-c4df18929e1c>\u001B[0m in \u001B[0;36m<module>\u001B[0;34m\u001B[0m\n\u001B[1;32m      1\u001B[0m \u001B[0mactual\u001B[0m \u001B[0;34m=\u001B[0m \u001B[0mcc\u001B[0m\u001B[0;34m.\u001B[0m\u001B[0mclosenessUsingUtilities\u001B[0m\u001B[0;34m(\u001B[0m\u001B[0mP\u001B[0m\u001B[0;34m)\u001B[0m\u001B[0;34m\u001B[0m\u001B[0;34m\u001B[0m\u001B[0m\n\u001B[0;32m----> 2\u001B[0;31m \u001B[0;32massert\u001B[0m \u001B[0mexpected\u001B[0m \u001B[0;34m==\u001B[0m \u001B[0mactual\u001B[0m\u001B[0;34m\u001B[0m\u001B[0;34m\u001B[0m\u001B[0m\n\u001B[0m",
      "\u001B[0;31mAssertionError\u001B[0m: "
     ]
    }
   ],
   "source": [
    "actual = cc.closenessUsingUtilities(P)\n",
    "assert expected == actual"
   ],
   "metadata": {
    "collapsed": false,
    "pycharm": {
     "name": "#%%\n"
    }
   }
  },
  {
   "cell_type": "code",
   "execution_count": 7,
   "outputs": [
    {
     "name": "stdout",
     "output_type": "stream",
     "text": [
      "Expected: {'Chieti': 0.16926070038910507, \"L'Aquila\": 0.17791411042944785, 'Pescara': 0.16353383458646617, 'Teramo': 0.18162839248434237, 'Ascoli Piceno': 0.1875, 'Campobasso': 0.1518324607329843, 'Isernia': 0.1518324607329843, 'Frosinone': 0.16893203883495145, 'Rieti': 0.19376391982182628, 'Terni': 0.19078947368421054, 'Fermo': 0.1746987951807229, 'Macerata': 0.19727891156462585, 'Matera': 0.10128055878928988, 'Potenza': 0.10081112398609501, 'Bari': 0.10116279069767442, 'Barletta-Andria-Trani': 0.11139564660691421, 'Taranto': 0.0925531914893617, 'Bolzano': 0.16171003717472118, 'Trento': 0.19247787610619468, 'Catanzaro': 0.3, 'Cosenza': 0.2926829268292683, 'Crotone': 0.23529411764705882, 'Vibo Valentia': 0.375, 'Reggio di Calabria': 0.42857142857142855, 'Catania': 0.46153846153846156, 'Messina': 0.42857142857142855, 'Avellino': 0.13657770800627944, 'Benevento': 0.13657770800627944, 'Caserta': 0.13488372093023257, 'Napoli': 0.13488372093023257, 'Salerno': 0.12219101123595505, 'Foggia': 0.12305516265912306, 'Bologna': 0.22422680412371135, 'Ferrara': 0.23641304347826086, 'Forlì-Cesena': 0.22422680412371135, 'Modena': 0.23138297872340424, \"Reggio nell'Emilia\": 0.21428571428571427, 'Mantova': 0.21641791044776118, 'Firenze': 0.21804511278195488, 'Pistoia': 0.21588089330024815, 'Prato': 0.22715404699738903, 'Rovigo': 0.22955145118733508, 'Ravenna': 0.2236503856041131, 'Padova': 0.20327102803738317, 'Venezia': 0.20232558139534884, 'Verona': 0.22774869109947643, 'Vicenza': 0.21588089330024815, 'Rimini': 0.2116788321167883, 'Arezzo': 0.22422680412371135, 'Parma': 0.21804511278195488, 'Massa Carrara': 0.20518867924528303, 'Piacenza': 0.1963882618510158, 'La Spezia': 0.1963882618510158, 'Brescia': 0.2106537530266344, 'Cremona': 0.20046082949308755, 'Genova': 0.17159763313609466, 'Bergamo': 0.1879049676025918, 'Como': 0.17296222664015903, 'Lodi': 0.18872017353579176, 'Milano': 0.174, 'Monza e della Brianza': 0.18012422360248448, 'Pavia': 0.174, 'Pesaro e Urbino': 0.2116788321167883, 'Gorizia': 0.12946428571428573, 'Trieste': 0.12946428571428573, 'Udine': 0.14821124361158433, 'Pordenone': 0.17227722772277226, 'Belluno': 0.18200836820083682, 'Treviso': 0.1963882618510158, 'Latina': 0.1457286432160804, 'Roma': 0.1638418079096045, 'Viterbo': 0.18354430379746836, 'Perugia': 0.20813397129186603, 'Savona': 0.15, 'Alessandria': 0.15875912408759124, 'Asti': 0.15236427320490367, 'Imperia': 0.13141993957703926, 'Cuneo': 0.1332312404287902, 'Livorno': 0.19954128440366972, 'Lucca': 0.20092378752886836, 'Pisa': 0.19954128440366972, 'Lecco': 0.17827868852459017, 'Sondrio': 0.1843220338983051, 'Varese': 0.16698656429942418, 'Novara': 0.1590493601462523, 'Verbano-Cusio-Ossola': 0.15732368896925858, 'Vercelli': 0.15343915343915343, 'Biella': 0.14770797962648557, 'Ancona': 0.19683257918552036, 'Torino': 0.13530326594090203, 'Aosta': 0.12946428571428573, 'Brindisi': 0.0849609375, 'Lecce': 0.07837837837837838, 'Cagliari': 0.5714285714285714, 'Oristano': 0.8, 'Sud Sardegna': 0.5714285714285714, 'Nuoro': 0.6666666666666666, 'Sassari': 0.4444444444444444, 'Agrigento': 0.2727272727272727, 'Caltanissetta': 0.35294117647058826, 'Enna': 0.34285714285714286, 'Palermo': 0.26666666666666666, 'Ragusa': 0.42857142857142855, 'Siracusa': 0.375, 'Trapani': 0.0, 'Grosseto': 0.1895424836601307, 'Siena': 0.20863309352517986} \n",
      " Actual: {'Chieti': 0.20622568093385213, \"L'Aquila\": 0.2167689161554192, 'Pescara': 0.19924812030075187, 'Teramo': 0.22129436325678498, 'Ascoli Piceno': 0.22844827586206898, 'Campobasso': 0.1849912739965096, 'Isernia': 0.1849912739965096, 'Frosinone': 0.2058252427184466, 'Rieti': 0.23608017817371937, 'Terni': 0.2324561403508772, 'Fermo': 0.21285140562248997, 'Macerata': 0.24036281179138322, 'Matera': 0.12339930151338765, 'Potenza': 0.12282734646581692, 'Bari': 0.12325581395348838, 'Barletta-Andria-Trani': 0.1357234314980794, 'Taranto': 0.1127659574468085, 'Bolzano': 0.1970260223048327, 'Trento': 0.2345132743362832, 'Catanzaro': 2.65, 'Cosenza': 2.5853658536585367, 'Crotone': 2.0784313725490198, 'Vibo Valentia': 3.3125, 'Reggio di Calabria': 3.7857142857142856, 'Catania': 4.076923076923077, 'Messina': 3.7857142857142856, 'Avellino': 0.1664050235478807, 'Benevento': 0.1664050235478807, 'Caserta': 0.16434108527131783, 'Napoli': 0.16434108527131783, 'Salerno': 0.14887640449438203, 'Foggia': 0.14992927864214992, 'Bologna': 0.27319587628865977, 'Ferrara': 0.28804347826086957, 'Forlì-Cesena': 0.27319587628865977, 'Modena': 0.28191489361702127, \"Reggio nell'Emilia\": 0.26108374384236455, 'Mantova': 0.263681592039801, 'Firenze': 0.2656641604010025, 'Pistoia': 0.2630272952853598, 'Prato': 0.27676240208877284, 'Rovigo': 0.2796833773087071, 'Ravenna': 0.27249357326478146, 'Padova': 0.24766355140186916, 'Venezia': 0.24651162790697675, 'Verona': 0.2774869109947644, 'Vicenza': 0.2630272952853598, 'Rimini': 0.25790754257907544, 'Arezzo': 0.27319587628865977, 'Parma': 0.2656641604010025, 'Massa Carrara': 0.25, 'Piacenza': 0.23927765237020315, 'La Spezia': 0.23927765237020315, 'Brescia': 0.2566585956416465, 'Cremona': 0.24423963133640553, 'Genova': 0.20907297830374755, 'Bergamo': 0.22894168466522677, 'Como': 0.21073558648111332, 'Lodi': 0.2299349240780911, 'Milano': 0.212, 'Monza e della Brianza': 0.2194616977225673, 'Pavia': 0.212, 'Pesaro e Urbino': 0.25790754257907544, 'Gorizia': 0.15773809523809523, 'Trieste': 0.15773809523809523, 'Udine': 0.18057921635434412, 'Pordenone': 0.2099009900990099, 'Belluno': 0.2217573221757322, 'Treviso': 0.23927765237020315, 'Latina': 0.17755443886097153, 'Roma': 0.19962335216572505, 'Viterbo': 0.22362869198312235, 'Perugia': 0.2535885167464115, 'Savona': 0.18275862068965518, 'Alessandria': 0.19343065693430658, 'Asti': 0.18563922942206654, 'Imperia': 0.16012084592145015, 'Cuneo': 0.16232771822358347, 'Livorno': 0.24311926605504589, 'Lucca': 0.24480369515011546, 'Pisa': 0.24311926605504589, 'Lecco': 0.21721311475409835, 'Sondrio': 0.2245762711864407, 'Varese': 0.2034548944337812, 'Novara': 0.19378427787934185, 'Verbano-Cusio-Ossola': 0.19168173598553345, 'Vercelli': 0.18694885361552027, 'Biella': 0.1799660441426146, 'Ancona': 0.2398190045248869, 'Torino': 0.16485225505443235, 'Aosta': 0.15773809523809523, 'Brindisi': 0.103515625, 'Lecce': 0.09549549549549549, 'Cagliari': 15.142857142857142, 'Oristano': 21.2, 'Sud Sardegna': 15.142857142857142, 'Nuoro': 17.666666666666668, 'Sassari': 11.777777777777779, 'Agrigento': 2.409090909090909, 'Caltanissetta': 3.1176470588235294, 'Enna': 3.0285714285714285, 'Palermo': 2.3555555555555556, 'Ragusa': 3.7857142857142856, 'Siracusa': 3.3125, 'Trapani': 0, 'Grosseto': 0.23093681917211328, 'Siena': 0.2541966426858513}\n"
     ]
    }
   ],
   "source": [
    "print(\"Expected: {} \\n Actual: {}\".format(expected, actual))"
   ],
   "metadata": {
    "collapsed": false,
    "pycharm": {
     "name": "#%%\n"
    }
   }
  },
  {
   "cell_type": "code",
   "execution_count": 6,
   "outputs": [
    {
     "ename": "AssertionError",
     "evalue": "",
     "output_type": "error",
     "traceback": [
      "\u001B[0;31m---------------------------------------------------------------------------\u001B[0m",
      "\u001B[0;31mAssertionError\u001B[0m                            Traceback (most recent call last)",
      "\u001B[0;32m<ipython-input-6-5d60b3b46135>\u001B[0m in \u001B[0;36m<module>\u001B[0;34m\u001B[0m\n\u001B[1;32m      1\u001B[0m \u001B[0mactual\u001B[0m \u001B[0;34m=\u001B[0m \u001B[0mcc\u001B[0m\u001B[0;34m.\u001B[0m\u001B[0mclosenessUsingBFS\u001B[0m\u001B[0;34m(\u001B[0m\u001B[0mP\u001B[0m\u001B[0;34m)\u001B[0m\u001B[0;34m\u001B[0m\u001B[0;34m\u001B[0m\u001B[0m\n\u001B[0;32m----> 2\u001B[0;31m \u001B[0;32massert\u001B[0m \u001B[0mexpected\u001B[0m \u001B[0;34m==\u001B[0m \u001B[0mactual\u001B[0m\u001B[0;34m\u001B[0m\u001B[0;34m\u001B[0m\u001B[0m\n\u001B[0m",
      "\u001B[0;31mAssertionError\u001B[0m: "
     ]
    }
   ],
   "source": [
    "actual = cc.closenessUsingBFS(P)\n",
    "assert expected == actual"
   ],
   "metadata": {
    "collapsed": false,
    "pycharm": {
     "name": "#%%\n"
    }
   }
  },
  {
   "cell_type": "code",
   "execution_count": null,
   "outputs": [],
   "source": [
    "print(\"Expected: {} \\n Actual: {}\".format(expected, actual))"
   ],
   "metadata": {
    "collapsed": false,
    "pycharm": {
     "name": "#%%\n"
    }
   }
  },
  {
   "cell_type": "code",
   "execution_count": null,
   "outputs": [],
   "source": [
    "actual = cc.closenessUsingEWAlgorithm(P, epsilon= 0.1)"
   ],
   "metadata": {
    "collapsed": false,
    "pycharm": {
     "name": "#%%\n"
    }
   }
  },
  {
   "cell_type": "code",
   "execution_count": null,
   "outputs": [],
   "source": [
    "print(\"Expected: {} \\n Actual: {}\".format(expected, actual))\n"
   ],
   "metadata": {
    "collapsed": false,
    "pycharm": {
     "name": "#%%\n"
    }
   }
  },
  {
   "cell_type": "code",
   "execution_count": null,
   "outputs": [],
   "source": [
    "actual = cc.armonicCloseness(P)\n",
    "expected = nx.harmonic_centrality(P)\n",
    "assert expected == actual"
   ],
   "metadata": {
    "collapsed": false,
    "pycharm": {
     "name": "#%%\n"
    }
   }
  },
  {
   "cell_type": "code",
   "execution_count": null,
   "outputs": [],
   "source": [
    "print(\"Expected: {} \\n Actual: {}\".format(expected, actual))"
   ],
   "metadata": {
    "collapsed": false,
    "pycharm": {
     "name": "#%%\n"
    }
   }
  },
  {
   "cell_type": "code",
   "execution_count": null,
   "outputs": [],
   "source": [
    "actual_1 = cc.closenessUsingUtilities(P)\n",
    "actual_2 = cc.closenessUsingBFS(P)\n",
    "assert actual_1 == actual_2\n",
    "\n",
    "\n"
   ],
   "metadata": {
    "collapsed": false,
    "pycharm": {
     "name": "#%%\n"
    }
   }
  }
 ],
 "metadata": {
  "kernelspec": {
   "display_name": "Python 3",
   "language": "python",
   "name": "python3"
  },
  "language_info": {
   "codemirror_mode": {
    "name": "ipython",
    "version": 2
   },
   "file_extension": ".py",
   "mimetype": "text/x-python",
   "name": "python",
   "nbconvert_exporter": "python",
   "pygments_lexer": "ipython2",
   "version": "2.7.6"
  }
 },
 "nbformat": 4,
 "nbformat_minor": 0
}