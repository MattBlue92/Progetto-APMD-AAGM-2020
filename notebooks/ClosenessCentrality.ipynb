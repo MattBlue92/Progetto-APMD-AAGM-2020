{
 "cells": [
  {
   "cell_type": "markdown",
   "metadata": {
    "collapsed": true,
    "pycharm": {
     "name": "#%% md\n"
    }
   },
   "source": [
    "# Closeness Centrality"
   ]
  },
  {
   "cell_type": "code",
   "execution_count": 1,
   "outputs": [],
   "source": [
    "def checkAsymptoticConvergence(expected, actual, epsilon, d):\n",
    "    result = True\n",
    "    for key in actual.keys():\n",
    "        c_hat=1/actual[key]\n",
    "        c=1/expected[key]\n",
    "        abs_error = abs(c_hat - c)\n",
    "        if abs_error>epsilon*d:\n",
    "            print(\"actual: {}, expected: {}, error: {}\".format(c_hat, c, abs_error))\n",
    "        result = result and abs_error< epsilon*d\n",
    "    return result"
   ],
   "metadata": {
    "collapsed": false,
    "pycharm": {
     "name": "#%%\n"
    }
   }
  },
  {
   "cell_type": "code",
   "execution_count": 2,
   "outputs": [],
   "source": [
    "import os\n",
    "import networkx as nx\n",
    "from path import Path\n",
    "PROJ_DIR = Path().getcwd().parent\n",
    "DATA_DIR = PROJ_DIR / \"data\"\n",
    "os.chdir (PROJ_DIR)"
   ],
   "metadata": {
    "collapsed": false,
    "pycharm": {
     "name": "#%%\n"
    }
   }
  },
  {
   "cell_type": "code",
   "execution_count": 3,
   "outputs": [],
   "source": [
    "from scripts.src.ClosenessCentrality import ClosenessCentralityBFS, EWAlgorithm"
   ],
   "metadata": {
    "collapsed": false,
    "pycharm": {
     "name": "#%%\n"
    }
   }
  },
  {
   "cell_type": "code",
   "execution_count": 4,
   "outputs": [],
   "source": [
    "# import networks\n",
    "P=nx.read_adjlist(DATA_DIR/\"P.adjlist\", delimiter=\",\")\n",
    "R=nx.read_adjlist(DATA_DIR/\"R.adjlist\", delimiter=\",\")"
   ],
   "metadata": {
    "collapsed": false,
    "pycharm": {
     "name": "#%%\n"
    }
   }
  },
  {
   "cell_type": "markdown",
   "source": [
    "## P network"
   ],
   "metadata": {
    "collapsed": false
   }
  },
  {
   "cell_type": "code",
   "execution_count": 5,
   "outputs": [],
   "source": [
    "largest_cc = max(nx.connected_components(P), key=len)\n",
    "P=P.subgraph(largest_cc)\n",
    "expected = nx.closeness_centrality(P, wf_improved=False)"
   ],
   "metadata": {
    "collapsed": false,
    "pycharm": {
     "name": "#%%\n"
    }
   }
  },
  {
   "cell_type": "code",
   "execution_count": 6,
   "outputs": [],
   "source": [
    "cc = ClosenessCentralityBFS()\n",
    "actual = cc.run(P)\n",
    "assert expected == actual"
   ],
   "metadata": {
    "collapsed": false,
    "pycharm": {
     "name": "#%%\n"
    }
   }
  },
  {
   "cell_type": "code",
   "execution_count": 7,
   "outputs": [
    {
     "name": "stdout",
     "output_type": "stream",
     "text": [
      "Expected: {'Chieti': 0.16926070038910507, \"L'Aquila\": 0.17791411042944785, 'Pescara': 0.16353383458646617, 'Teramo': 0.18162839248434237, 'Ascoli Piceno': 0.1875, 'Campobasso': 0.1518324607329843, 'Isernia': 0.1518324607329843, 'Frosinone': 0.16893203883495145, 'Rieti': 0.19376391982182628, 'Terni': 0.19078947368421054, 'Fermo': 0.1746987951807229, 'Macerata': 0.19727891156462585, 'Matera': 0.10128055878928988, 'Potenza': 0.10081112398609501, 'Bari': 0.10116279069767442, 'Barletta-Andria-Trani': 0.11139564660691421, 'Taranto': 0.0925531914893617, 'Bolzano': 0.16171003717472118, 'Trento': 0.19247787610619468, 'Avellino': 0.13657770800627944, 'Benevento': 0.13657770800627944, 'Caserta': 0.13488372093023257, 'Napoli': 0.13488372093023257, 'Salerno': 0.12219101123595505, 'Foggia': 0.12305516265912306, 'Bologna': 0.22422680412371135, 'Ferrara': 0.23641304347826086, 'Forlì-Cesena': 0.22422680412371135, 'Modena': 0.23138297872340424, \"Reggio nell'Emilia\": 0.21428571428571427, 'Mantova': 0.21641791044776118, 'Firenze': 0.21804511278195488, 'Pistoia': 0.21588089330024815, 'Prato': 0.22715404699738903, 'Rovigo': 0.22955145118733508, 'Ravenna': 0.2236503856041131, 'Padova': 0.20327102803738317, 'Venezia': 0.20232558139534884, 'Verona': 0.22774869109947643, 'Vicenza': 0.21588089330024815, 'Rimini': 0.2116788321167883, 'Arezzo': 0.22422680412371135, 'Parma': 0.21804511278195488, 'Massa Carrara': 0.20518867924528303, 'Piacenza': 0.1963882618510158, 'La Spezia': 0.1963882618510158, 'Brescia': 0.2106537530266344, 'Cremona': 0.20046082949308755, 'Genova': 0.17159763313609466, 'Bergamo': 0.1879049676025918, 'Como': 0.17296222664015903, 'Lodi': 0.18872017353579176, 'Milano': 0.174, 'Monza e della Brianza': 0.18012422360248448, 'Pavia': 0.174, 'Pesaro e Urbino': 0.2116788321167883, 'Gorizia': 0.12946428571428573, 'Trieste': 0.12946428571428573, 'Udine': 0.14821124361158433, 'Pordenone': 0.17227722772277226, 'Belluno': 0.18200836820083682, 'Treviso': 0.1963882618510158, 'Latina': 0.1457286432160804, 'Roma': 0.1638418079096045, 'Viterbo': 0.18354430379746836, 'Perugia': 0.20813397129186603, 'Savona': 0.15, 'Alessandria': 0.15875912408759124, 'Asti': 0.15236427320490367, 'Imperia': 0.13141993957703926, 'Cuneo': 0.1332312404287902, 'Livorno': 0.19954128440366972, 'Lucca': 0.20092378752886836, 'Pisa': 0.19954128440366972, 'Lecco': 0.17827868852459017, 'Sondrio': 0.1843220338983051, 'Varese': 0.16698656429942418, 'Novara': 0.1590493601462523, 'Verbano-Cusio-Ossola': 0.15732368896925858, 'Vercelli': 0.15343915343915343, 'Biella': 0.14770797962648557, 'Ancona': 0.19683257918552036, 'Torino': 0.13530326594090203, 'Aosta': 0.12946428571428573, 'Brindisi': 0.0849609375, 'Lecce': 0.07837837837837838, 'Grosseto': 0.1895424836601307, 'Siena': 0.20863309352517986} \n",
      " Actual: {'Chieti': 0.16926070038910507, \"L'Aquila\": 0.17791411042944785, 'Pescara': 0.16353383458646617, 'Teramo': 0.18162839248434237, 'Ascoli Piceno': 0.1875, 'Campobasso': 0.1518324607329843, 'Isernia': 0.1518324607329843, 'Frosinone': 0.16893203883495145, 'Rieti': 0.19376391982182628, 'Terni': 0.19078947368421054, 'Fermo': 0.1746987951807229, 'Macerata': 0.19727891156462585, 'Matera': 0.10128055878928988, 'Potenza': 0.10081112398609501, 'Bari': 0.10116279069767442, 'Barletta-Andria-Trani': 0.11139564660691421, 'Taranto': 0.0925531914893617, 'Bolzano': 0.16171003717472118, 'Trento': 0.19247787610619468, 'Avellino': 0.13657770800627944, 'Benevento': 0.13657770800627944, 'Caserta': 0.13488372093023257, 'Napoli': 0.13488372093023257, 'Salerno': 0.12219101123595505, 'Foggia': 0.12305516265912306, 'Bologna': 0.22422680412371135, 'Ferrara': 0.23641304347826086, 'Forlì-Cesena': 0.22422680412371135, 'Modena': 0.23138297872340424, \"Reggio nell'Emilia\": 0.21428571428571427, 'Mantova': 0.21641791044776118, 'Firenze': 0.21804511278195488, 'Pistoia': 0.21588089330024815, 'Prato': 0.22715404699738903, 'Rovigo': 0.22955145118733508, 'Ravenna': 0.2236503856041131, 'Padova': 0.20327102803738317, 'Venezia': 0.20232558139534884, 'Verona': 0.22774869109947643, 'Vicenza': 0.21588089330024815, 'Rimini': 0.2116788321167883, 'Arezzo': 0.22422680412371135, 'Parma': 0.21804511278195488, 'Massa Carrara': 0.20518867924528303, 'Piacenza': 0.1963882618510158, 'La Spezia': 0.1963882618510158, 'Brescia': 0.2106537530266344, 'Cremona': 0.20046082949308755, 'Genova': 0.17159763313609466, 'Bergamo': 0.1879049676025918, 'Como': 0.17296222664015903, 'Lodi': 0.18872017353579176, 'Milano': 0.174, 'Monza e della Brianza': 0.18012422360248448, 'Pavia': 0.174, 'Pesaro e Urbino': 0.2116788321167883, 'Gorizia': 0.12946428571428573, 'Trieste': 0.12946428571428573, 'Udine': 0.14821124361158433, 'Pordenone': 0.17227722772277226, 'Belluno': 0.18200836820083682, 'Treviso': 0.1963882618510158, 'Latina': 0.1457286432160804, 'Roma': 0.1638418079096045, 'Viterbo': 0.18354430379746836, 'Perugia': 0.20813397129186603, 'Savona': 0.15, 'Alessandria': 0.15875912408759124, 'Asti': 0.15236427320490367, 'Imperia': 0.13141993957703926, 'Cuneo': 0.1332312404287902, 'Livorno': 0.19954128440366972, 'Lucca': 0.20092378752886836, 'Pisa': 0.19954128440366972, 'Lecco': 0.17827868852459017, 'Sondrio': 0.1843220338983051, 'Varese': 0.16698656429942418, 'Novara': 0.1590493601462523, 'Verbano-Cusio-Ossola': 0.15732368896925858, 'Vercelli': 0.15343915343915343, 'Biella': 0.14770797962648557, 'Ancona': 0.19683257918552036, 'Torino': 0.13530326594090203, 'Aosta': 0.12946428571428573, 'Brindisi': 0.0849609375, 'Lecce': 0.07837837837837838, 'Grosseto': 0.1895424836601307, 'Siena': 0.20863309352517986}\n"
     ]
    }
   ],
   "source": [
    "print(\"Expected: {} \\n Actual: {}\".format(expected, actual))"
   ],
   "metadata": {
    "collapsed": false,
    "pycharm": {
     "name": "#%%\n"
    }
   }
  },
  {
   "cell_type": "code",
   "execution_count": 8,
   "outputs": [],
   "source": [
    "epsilon=0.165\n",
    "EW = EWAlgorithm(P,epsilon)\n",
    "expected = nx.closeness_centrality(P, wf_improved=False)\n",
    "actual = EW.run()\n",
    "diameter = nx.diameter(P)\n",
    "assert checkAsymptoticConvergence(actual, expected, epsilon, diameter)"
   ],
   "metadata": {
    "collapsed": false,
    "pycharm": {
     "name": "#%%\n"
    }
   }
  },
  {
   "cell_type": "code",
   "execution_count": 9,
   "outputs": [
    {
     "name": "stdout",
     "output_type": "stream",
     "text": [
      "144 ms ± 5.13 ms per loop (mean ± std. dev. of 7 runs, 10 loops each)\n"
     ]
    }
   ],
   "source": [
    "%timeit cc.run(P)"
   ],
   "metadata": {
    "collapsed": false,
    "pycharm": {
     "name": "#%%\n"
    }
   }
  },
  {
   "cell_type": "code",
   "execution_count": 10,
   "outputs": [
    {
     "name": "stdout",
     "output_type": "stream",
     "text": [
      "125 ms ± 3.01 ms per loop (mean ± std. dev. of 7 runs, 10 loops each)\n"
     ]
    }
   ],
   "source": [
    "%timeit EW.run()"
   ],
   "metadata": {
    "collapsed": false,
    "pycharm": {
     "name": "#%%\n"
    }
   }
  },
  {
   "cell_type": "markdown",
   "source": [
    "## R network"
   ],
   "metadata": {
    "collapsed": false,
    "pycharm": {
     "name": "#%% md\n"
    }
   }
  },
  {
   "cell_type": "code",
   "execution_count": 11,
   "outputs": [],
   "source": [
    "largest_cc = max(nx.connected_components(R), key=len)\n",
    "R=R.subgraph(largest_cc)"
   ],
   "metadata": {
    "collapsed": false,
    "pycharm": {
     "name": "#%%\n"
    }
   }
  },
  {
   "cell_type": "code",
   "execution_count": 12,
   "outputs": [],
   "source": [
    "expected = nx.closeness_centrality(R, wf_improved=False)"
   ],
   "metadata": {
    "collapsed": false,
    "pycharm": {
     "name": "#%%\n"
    }
   }
  },
  {
   "cell_type": "code",
   "execution_count": 13,
   "outputs": [],
   "source": [
    "epsilon=0.2\n",
    "EW = EWAlgorithm(R, epsilon)\n",
    "actual = EW.run()\n",
    "\n",
    "diameter = nx.extrema_bounding(R, compute='diameter')\n",
    "assert checkAsymptoticConvergence(actual,expected, epsilon, diameter)"
   ],
   "metadata": {
    "collapsed": false,
    "pycharm": {
     "name": "#%%\n"
    }
   }
  },
  {
   "cell_type": "code",
   "execution_count": 22,
   "outputs": [
    {
     "name": "stdout",
     "output_type": "stream",
     "text": [
      "188 ms ± 22.1 ms per loop (mean ± std. dev. of 100 runs, 1 loop each)\n"
     ]
    }
   ],
   "source": [
    "%timeit -r 100 EW.run()"
   ],
   "metadata": {
    "collapsed": false,
    "pycharm": {
     "name": "#%%\n"
    }
   }
  },
  {
   "cell_type": "code",
   "execution_count": 23,
   "outputs": [
    {
     "name": "stdout",
     "output_type": "stream",
     "text": [
      "602 ms ± 42.8 ms per loop (mean ± std. dev. of 50 runs, 1 loop each)\n"
     ]
    }
   ],
   "source": [
    "%timeit -r 50 cc.run(R)\n",
    "\n"
   ],
   "metadata": {
    "collapsed": false,
    "pycharm": {
     "name": "#%%\n"
    }
   }
  }
 ],
 "metadata": {
  "kernelspec": {
   "display_name": "Python 3",
   "language": "python",
   "name": "python3"
  },
  "language_info": {
   "codemirror_mode": {
    "name": "ipython",
    "version": 2
   },
   "file_extension": ".py",
   "mimetype": "text/x-python",
   "name": "python",
   "nbconvert_exporter": "python",
   "pygments_lexer": "ipython2",
   "version": "2.7.6"
  }
 },
 "nbformat": 4,
 "nbformat_minor": 0
}