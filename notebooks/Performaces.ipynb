{
 "cells": [
  {
   "cell_type": "markdown",
   "metadata": {
    "collapsed": true,
    "pycharm": {
     "name": "#%% md\n"
    }
   },
   "source": [
    "# Performances\n"
   ]
  },
  {
   "cell_type": "markdown",
   "source": [
    "## Counting triangles"
   ],
   "metadata": {
    "collapsed": false
   }
  },
  {
   "cell_type": "code",
   "execution_count": 1,
   "outputs": [],
   "source": [
    "import networkx as nx\n",
    "import timeit\n",
    "import pandas as pd\n",
    "import seaborn as sns\n",
    "import matplotlib.pyplot as plt"
   ],
   "metadata": {
    "collapsed": false,
    "pycharm": {
     "name": "#%%\n",
     "is_executing": false
    }
   }
  },
  {
   "cell_type": "code",
   "execution_count": 2,
   "outputs": [],
   "source": [
    "import os\n",
    "from path import Path\n",
    "PROJ_DIR = Path().getcwd().parent\n",
    "DATA_DIR = PROJ_DIR / \"data\"\n",
    "os.chdir (PROJ_DIR)\n"
   ],
   "metadata": {
    "collapsed": false,
    "pycharm": {
     "name": "#%%\n",
     "is_executing": false
    }
   }
  },
  {
   "cell_type": "code",
   "execution_count": 3,
   "outputs": [],
   "source": [
    "import scripts.src.CountingTriangles as ct\n"
   ],
   "metadata": {
    "collapsed": false,
    "pycharm": {
     "name": "#%%\n",
     "is_executing": false
    }
   }
  },
  {
   "cell_type": "code",
   "execution_count": 4,
   "outputs": [],
   "source": [
    "def generateGraph(start=100, stop=500, step=100, density=0.70):\n",
    "    listOfNetworks=[]\n",
    "    for numberOfNodes in range(start, stop, step):\n",
    "        numberOfEdges=int((density/2)*numberOfNodes*(numberOfNodes-1))\n",
    "        graph= nx.gnm_random_graph(numberOfNodes, numberOfEdges, seed=42)\n",
    "        listOfNetworks.append(graph)\n",
    "    return listOfNetworks\n",
    "\n",
    "def execution_time(listOfNetworks, counter, repeat=5):\n",
    "    times={}\n",
    "    for graph in listOfNetworks:\n",
    "        time=[]\n",
    "        for i in range(repeat):\n",
    "            starttime = timeit.default_timer()\n",
    "            counter.run(graph)\n",
    "            #time in second\n",
    "            time.append(timeit.default_timer() - starttime)\n",
    "        times[(type(counter).__name__,len(graph.nodes._nodes))]=time\n",
    "    return times"
   ],
   "metadata": {
    "collapsed": false,
    "pycharm": {
     "name": "#%%\n",
     "is_executing": false
    }
   }
  },
  {
   "cell_type": "code",
   "execution_count": 5,
   "outputs": [],
   "source": [
    "listOfNetworks=generateGraph()"
   ],
   "metadata": {
    "collapsed": false,
    "pycharm": {
     "name": "#%%\n",
     "is_executing": false
    }
   }
  },
  {
   "cell_type": "code",
   "execution_count": 6,
   "outputs": [],
   "source": [
    "listOfClasses=[ct.ObviousAlgorithm(),ct.EnumeratingNeighborPairs(), ct.DelegatingLowDegreeVertices()]\n",
    "times={}\n",
    "for myClass in listOfClasses:\n",
    "    times.update(execution_time(listOfNetworks, myClass, repeat=10))"
   ],
   "metadata": {
    "collapsed": false,
    "pycharm": {
     "name": "#%%\n",
     "is_executing": false
    }
   }
  },
  {
   "cell_type": "code",
   "execution_count": 7,
   "outputs": [],
   "source": [
    "times_dataframe= pd.DataFrame.from_dict(times)"
   ],
   "metadata": {
    "collapsed": false,
    "pycharm": {
     "name": "#%%\n",
     "is_executing": false
    }
   }
  },
  {
   "cell_type": "code",
   "execution_count": 8,
   "outputs": [],
   "source": [
    "times_dataframe = times_dataframe.unstack().reset_index().drop(\"level_2\", axis=1)\n",
    "times_dataframe=times_dataframe.rename(columns={\"level_0\": \"class\", \"level_1\":\"numberOfNodes\",0:\"time\"})"
   ],
   "metadata": {
    "collapsed": false,
    "pycharm": {
     "name": "#%%\n",
     "is_executing": false
    }
   }
  },
  {
   "cell_type": "code",
   "execution_count": 9,
   "outputs": [
    {
     "data": {
      "text/plain": "[Text(0, 0, 'ObviousAlgorithm'),\n Text(0, 0, 'EnumeratingNeighborPairs'),\n Text(0, 0, 'DelegatingLowDegreeVertices')]"
     },
     "metadata": {},
     "output_type": "execute_result",
     "execution_count": 9
    },
    {
     "data": {
      "text/plain": "<Figure size 432x288 with 1 Axes>",
      "image/png": "[encoded data removed]"
     },
     "metadata": {
      "needs_background": "light"
     },
     "output_type": "display_data"
    }
   ],
   "source": [
    "plt.title(\"Execution Times for graph with density 0.70\")\n",
    "barplot=sns.barplot(x=\"class\", y=\"time\", hue=\"numberOfNodes\", data=times_dataframe)\n",
    "barplot.set_xticklabels(barplot.get_xticklabels(), rotation=90)\n",
    "\n"
   ],
   "metadata": {
    "collapsed": false,
    "pycharm": {
     "name": "#%%\n",
     "is_executing": false
    }
   }
  }
 ],
 "metadata": {
  "kernelspec": {
   "display_name": "Python 3",
   "language": "python",
   "name": "python3"
  },
  "language_info": {
   "codemirror_mode": {
    "name": "ipython",
    "version": 2
   },
   "file_extension": ".py",
   "mimetype": "text/x-python",
   "name": "python",
   "nbconvert_exporter": "python",
   "pygments_lexer": "ipython2",
   "version": "2.7.6"
  },
  "pycharm": {
   "stem_cell": {
    "cell_type": "raw",
    "source": [],
    "metadata": {
     "collapsed": false
    }
   }
  }
 },
 "nbformat": 4,
 "nbformat_minor": 0
}