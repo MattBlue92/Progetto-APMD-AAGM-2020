{
 "cells": [
  {
   "cell_type": "markdown",
   "metadata": {
    "jupyter": {
     "outputs_hidden": true
    },
    "pycharm": {
     "name": "#%% md\n"
    }
   },
   "source": [
    "<p>\n",
    "<img src=\"http://www.cerm.unifi.it/chianti/images/logo%20unifi_positivo.jpg\" \n",
    "        alt=\"UniFI logo\" style=\"float: left; width: 20%; height: 20%;\">\n",
    "<br>\n",
    "<br>\n",
    "<div align=\"right\">\n",
    "<b>Corso di Laurea Magistrale in Informatica</b><br>\n",
    "<b>Curriculum Data Science</b><br>\n",
    "</div>\n",
    "</p>\n",
    "\n",
    "<div align=\"right\">\n",
    "Matteo Marulli<br>\n",
    "Matteo Ghera<br>\n",
    "</div>"
   ]
  },
  {
   "cell_type": "markdown",
   "metadata": {},
   "source": [
    "# Analisi dei dati del covid19 in Italia\n",
    "Questa analisi dati è stata svolta prendendo i dati rilasciati dalla protezione civile sul covid19 in Italia."
   ]
  },
  {
   "cell_type": "code",
   "execution_count": null,
   "metadata": {
    "collapsed": false,
    "jupyter": {
     "outputs_hidden": false
    },
    "pycharm": {
     "is_executing": false,
     "name": "#%%\n"
    }
   },
   "outputs": [],
   "source": [
    "import pandas as pd\n",
    "import numpy as np\n",
    "import matplotlib.pyplot as plt\n",
    "import seaborn as sns\n",
    "import os\n",
    "from path import Path\n",
    "import json\n",
    "from IPython.display import YouTubeVideo"
   ]
  },
  {
   "cell_type": "code",
   "execution_count": null,
   "metadata": {
    "collapsed": false,
    "jupyter": {
     "outputs_hidden": false
    },
    "pycharm": {
     "is_executing": false,
     "name": "#%%\n"
    }
   },
   "outputs": [],
   "source": [
    "PROJ_DIR = Path().getcwd().parent\n",
    "DATA_DIR = PROJ_DIR / \"data\"\n",
    "os.chdir (PROJ_DIR)\n",
    "\n",
    "with open(DATA_DIR/'dpc-covid19-ita-province.json') as f:\n",
    "         d= json.load(f)\n",
    "json.dumps(d)\n",
    "df_province =pd.DataFrame(d)\n",
    "\n",
    "with open(DATA_DIR/'dpc-covid19-ita-regioni.json') as f:\n",
    "         d= json.load(f)\n",
    "json.dumps(d)\n",
    "df_regioni =pd.DataFrame(d)"
   ]
  },
  {
   "cell_type": "code",
   "execution_count": null,
   "metadata": {
    "collapsed": false,
    "jupyter": {
     "outputs_hidden": false
    },
    "pycharm": {
     "is_executing": false,
     "name": "#%%\n"
    }
   },
   "outputs": [],
   "source": [
    "df_province.head()"
   ]
  },
  {
   "cell_type": "code",
   "execution_count": null,
   "metadata": {
    "collapsed": false,
    "jupyter": {
     "outputs_hidden": false
    },
    "pycharm": {
     "is_executing": false,
     "name": "#%%\n"
    }
   },
   "outputs": [],
   "source": [
    "df_regioni.head(20)"
   ]
  },
  {
   "cell_type": "markdown",
   "metadata": {},
   "source": [
    "## Descrizione dei dataset\n",
    "Il dataset **Regioni** è composto da 16 variaibili e molte variabili sono di tipo int64 e float 64.\n",
    "Le variabili prese in analisi sono:\n",
    "- *data*: è il timestamp indica quando è stato inserito il record nel database, deve essere convertito nel formato date\n",
    "- *stato*: indica lo stato in è stato rilevato il caso (tipo qualitativo e non ordinale)\n",
    "- *codice_regione*: codice istat per identificare una regione (tipo quantitativo e non ordinale)\n",
    "- *denominazione_regione*: indica il nome della regione, (tipo qualitativo e non ordinale)\n",
    "- *lat*: latidudine della regione (tipo quantitativo e ordinale)\n",
    "- *long*: longitudine della regione (tipo quantitativo e ordinale)\n",
    "- *ricoverati_con_sintomi*: numero di persone che sono state ricoverate nel giorno indicato da data (tipo quantitativo e ordianale)\n",
    "- *terapia_intesiva*: numero di persone che sono state ricoverate/spostate in terapia intensiva nel giorno indicato da data (tipo quantitativo e ordianale)\n",
    "- *totale_ospedalizzati*: numero di persone che sono state ricoverate in ospedale (somma tra quelli in tp.intensiva e ricoverati con sintomi) nel giorno indicato da data (tipo quantitativo e ordianale)\n",
    "- *isolamento_domiciliare*: numero di persone che sono insolamento_domiciliare nel giorno indicato da data (tipo quantitativo e ordianale)\n",
    "- *totale_attualmente_positivi*: numero di persone in isolamento e ricoverati in ospedale nel giorno indicato da data (tipo quantitativo e ordianale)\n",
    "- *nuovi_attualmente_positivi*: differenza di persone positive al Covid19 tra il giorno attuale e il giorno passato (tipo quantitativo e ordianale)\n",
    "- *dimessi_guariti*: persone guarite dal covid19 nella giornata indicata da data (tipo quantitativo e ordianale)\n",
    "- *deceduti*: persone morte a causa del covid19 nella giornata indicata da data (tipo quantitativo e ordianale)\n",
    "- *totale_casi*: totale casi positivi nella giornata indicata da data (tipo quantitativo e ordianale)\n",
    "- *tamponi*: numerod i campioni fatti dalla regione nella giornata indicata da data (tipo quantitativo e ordianale)\n",
    "\n",
    "Una riga in questo dataset corrisponde ad una fotografia della situazione per le regione italiane in un determinato giorno.\n",
    "\n",
    "Il dataset **Province** è composto da 12 variaibili.\n",
    "Le variabili prese in analisi sono:\n",
    "- *data*: è il timestamp indica quando è stato inserito il record nel database, deve essere convertito nel formato date (tipo qualitativo e non ordinale)\n",
    "- *stato*: indica lo stato, verrà cancellata nel preprocessing (tipo qualitativo e non ordinale)\n",
    "- *codice_regione*: codice istat per identificare una regione (tipo quantitativo e non ordinale)\n",
    "- *denominazione_regione*: indica il nome della regione (tipo qualitativo e non ordinale)\n",
    "- *lat*: latidudine della città (tipo quantitativo e ordinale)\n",
    "- *long*: longitudine della città (tipo quantitativo e ordinale)\n",
    "- *codice_provincia*: codice istat per identificare una provincia (tipo quantitativo e non ordinale)\n",
    "- *denominanzione_provincia*: indica il nome della provincia (tipo qualitativo e non ordinale)\n",
    "- *sigla_provincia*: sigla della provincia usate per le targe auto (tipo qualitativo e non ordinale)\n",
    "- *totale_casi*: persone infette da covid19 (tipo quantitativo e ordianale)\n",
    "- *note_it*: note informative in italiano (tipo qualitativo e non ordinale)\n",
    "- *note_en*: note informative in inglese (tipo qualitativo e non ordinale)\n",
    "- *casi_testati*: numero di persone sottoposte al test per covid-19\n",
    "\n",
    "\n",
    "Le colonne in comune nei due dataset sono:\n",
    "- *data*\n",
    "- *stato*\n",
    "- *note_en*\n",
    "- *note_it*\n",
    "- *codice_regione*\n",
    "- *totale_casi*\n",
    "- *denominazione_regione*\n",
    "- *lat*\n",
    "- *long*\n",
    "\n",
    "Una riga in questo dataset corrisponde ad una fotografia della situazione per le province italiane in un determinato giorno.\n",
    "\n",
    "Le colonne candidate per eseguire la *join* sono: *data* e *denominazione_regione*"
   ]
  },
  {
   "cell_type": "code",
   "execution_count": null,
   "metadata": {
    "collapsed": false,
    "jupyter": {
     "outputs_hidden": false
    },
    "pycharm": {
     "is_executing": false,
     "name": "#%%\n"
    }
   },
   "outputs": [],
   "source": [
    "set(df_regioni.columns).intersection(set(df_province.columns))"
   ]
  },
  {
   "cell_type": "markdown",
   "metadata": {
    "pycharm": {
     "name": "#%% md\n"
    }
   },
   "source": [
    "## Data preparation"
   ]
  },
  {
   "cell_type": "code",
   "execution_count": null,
   "metadata": {
    "pycharm": {
     "is_executing": false
    }
   },
   "outputs": [],
   "source": [
    "joinDF = pd.merge(df_province, df_regioni, on= ['data', 'codice_regione'])\n",
    "joinDF"
   ]
  },
  {
   "cell_type": "markdown",
   "metadata": {
    "pycharm": {
     "name": "#%% md\n"
    }
   },
   "source": [
    "## Data cleaning\n",
    "\n",
    "In questa sezioni si elimineranno le colonne che riteniamo non necessarie perchè forniscono informazioni ridondanti: *stato, codice_regione, note_en, note_it, codice_regione, codice_provincia* e *sigla_provincia*. Dopo che abbiamo eseguito la *join* sono nate delle colonne, indicate da \\_x e da \\_y, che abbiamo rimosso rimuovendo il suffisso finale. \n",
    "\n",
    "Successivamente abbiamo rinomato le colonne che avevano lo stesso nome ma valori diversi e abbiamo rimpiazzato i valori `NaN` della colonna *casi_testati* con la media dei valori nella colonna."
   ]
  },
  {
   "cell_type": "code",
   "execution_count": null,
   "metadata": {
    "pycharm": {
     "is_executing": false,
     "name": "#%%\n"
    }
   },
   "outputs": [],
   "source": [
    "joinDF.rename({\"totale_casi_x\":\"totale_casi_provincia\", \"totale_casi_y\":\"totale_casi_regioni\", \"lat_x\": \"lat_provincia\", \"lat_y\":\"lat_regione\",\"long_x\":\"long_provincia\",\"long_y\":\"long_regione\"}, axis=1, inplace=True)"
   ]
  },
  {
   "cell_type": "code",
   "execution_count": null,
   "metadata": {
    "pycharm": {
     "is_executing": false
    }
   },
   "outputs": [],
   "source": [
    "joinDF.columns = joinDF.columns.str.replace('_x','')\n",
    "joinDF.drop(columns=[\"denominazione_regione_y\"], inplace=True)\n",
    "joinDF.columns = joinDF.columns.str.replace('_y','')\n",
    "joinDF['data'] = pd.to_datetime(joinDF['data'], format='%Y-%m-%d') \n",
    "joinDF.drop(columns=['stato', 'codice_regione', 'note_en', 'note_it', 'codice_regione', 'codice_provincia','sigla_provincia'], axis=1, inplace = True)\n",
    "joinDF['casi_testati'].fillna(joinDF['casi_testati'].mean(), inplace = True)\n",
    "joinDF"
   ]
  },
  {
   "cell_type": "markdown",
   "metadata": {
    "pycharm": {
     "name": "#%% md\n"
    }
   },
   "source": [
    "## Data exploration\n",
    "\n",
    "In questa fase cercheremo di rispondere a queste domande:\n",
    "\n",
    "- Quali sono state le regioni con più ricoverati?*\n",
    "- Quali sono state le regioni che hanno avuto più vittime? E quali sono quello con meno vittime?*\n",
    "- Quali sono state le regioni con più malati?*\n",
    "- Quanti tamponi sono stati fatti e chi ne ha fatti di più? *\n",
    "- E’ stata superata la capienza nazionale dei posti letto?\n",
    "- E’ stata superata la capienza regionale dei posti letto?\n",
    "- Quanto è costata alla regione curare un malato covid in terapia intensiva?*\n",
    "- Quanto è costato allo stato curare un malato covid in terapia intensiva?*\n",
    "- Quanto soldi ha speso ogni regione per fare i tamponi per il covid?*\n",
    "- Quanto soldi ha speso lo stato per fare i tamponi per il covid?*\n",
    "- Quali sono state le regioni che hanno gestito meglio l’emergenza sanitaria?\n",
    "- Quali sono state le regioni che hanno gestito meglio l’emergenza sanitaria?\n",
    "\n",
    "Le domande precedenti possono essere eseguite anche per le province.\n",
    "\n",
    "Risorse: <br>\n",
    "https://it.businessinsider.com/terapia-intensive-coronavirus-quanto-costa-allo-stato-italiano-un-paziente-grave/ <br>\n",
    "https://www.telemessina.it/2020/03/24/come-si-effettua-e-quanto-costa-un-tampone-per-covid-19/\n"
   ]
  },
  {
   "cell_type": "code",
   "execution_count": null,
   "metadata": {},
   "outputs": [],
   "source": [
    "plt.style.use('seaborn-pastel')"
   ]
  },
  {
   "cell_type": "code",
   "execution_count": null,
   "metadata": {
    "pycharm": {
     "is_executing": false,
     "name": "#%%\n"
    }
   },
   "outputs": [],
   "source": [
    "joinDF.info(memory_usage=True)"
   ]
  },
  {
   "cell_type": "code",
   "execution_count": null,
   "metadata": {
    "pycharm": {
     "is_executing": false,
     "name": "#%%\n"
    }
   },
   "outputs": [],
   "source": [
    "joinDF.describe()"
   ]
  },
  {
   "cell_type": "code",
   "execution_count": null,
   "metadata": {
    "pycharm": {
     "is_executing": false,
     "name": "#%%\n"
    }
   },
   "outputs": [],
   "source": [
    "plt.figure(figsize=(10,5), dpi = 150)\n",
    "sns.heatmap(joinDF.corr(), annot=True, linewidths= 0.5 , cmap = 'coolwarm')"
   ]
  },
  {
   "cell_type": "markdown",
   "metadata": {
    "pycharm": {
     "name": "#%% md\n"
    }
   },
   "source": [
    "> *Quali sono state le regioni con più malati?*"
   ]
  },
  {
   "cell_type": "code",
   "execution_count": null,
   "metadata": {
    "pycharm": {
     "is_executing": false,
     "name": "#%%\n"
    }
   },
   "outputs": [],
   "source": [
    "casiPositviPerRegioni = joinDF.pivot_table('totale_positivi', index=['data'], columns=['denominazione_regione'], aggfunc='max' )\n",
    "casiPositviPerRegioni.plot(figsize=(20,14), marker='s', fontsize=22)\n",
    "plt.title('Grafico dei casi positivi per regioni', size = 22)\n",
    "plt.xlabel('Data',size = 22)\n",
    "plt.ylabel('Numero di casi positivi', size = 22 )\n",
    "plt.legend(loc=(1,0.54))"
   ]
  },
  {
   "cell_type": "markdown",
   "metadata": {
    "pycharm": {
     "name": "#%% md\n"
    }
   },
   "source": [
    "> *Quanti tamponi sono stati fatti e chi ne ha fatti di più?*"
   ]
  },
  {
   "cell_type": "code",
   "execution_count": null,
   "metadata": {
    "pycharm": {
     "is_executing": false,
     "name": "#%%\n"
    }
   },
   "outputs": [],
   "source": [
    "tamponiPerRegioni = joinDF.pivot_table('tamponi', index=['data'], columns=['denominazione_regione'], aggfunc='max' )\n",
    "tamponiPerRegioni.plot(figsize=(20,14), marker='s', fontsize=22)\n",
    "plt.title('Grafico dei tamponi fatti per regioni', size = 22)\n",
    "plt.xlabel('Data',size = 22)\n",
    "plt.ylabel('Numero di tamponi fatti', size = 22 )\n",
    "plt.legend(loc=(1,0.54))"
   ]
  },
  {
   "cell_type": "markdown",
   "metadata": {
    "pycharm": {
     "name": "#%% md\n"
    }
   },
   "source": [
    ">*Quanto soldi ha speso ogni regione per fare i tamponi per il covid?*"
   ]
  },
  {
   "cell_type": "code",
   "execution_count": null,
   "metadata": {
    "pycharm": {
     "is_executing": false,
     "name": "#%%\n"
    }
   },
   "outputs": [],
   "source": [
    "numero_tamponi_regione=np.max(tamponiPerRegioni)\n",
    "costo_tamponi_regione=numero_tamponi_regione*30\n",
    "costo_tamponi_regione.plot(kind=\"bar\", figsize=(12,6))\n",
    "plt.title(\"Costo tamponi per regione\", size=22)\n",
    "plt.ylabel(\"Costo tampone\", size=22)\n",
    "plt.xlabel(\"Regione\", size=22)\n",
    "plt.xticks(size=22)\n",
    "plt.yticks(size=22)"
   ]
  },
  {
   "cell_type": "markdown",
   "metadata": {
    "pycharm": {
     "name": "#%% md\n"
    }
   },
   "source": [
    ">*Quanto soldi ha speso lo stato per fare i tamponi per il covid?*"
   ]
  },
  {
   "cell_type": "code",
   "execution_count": null,
   "metadata": {
    "pycharm": {
     "is_executing": false,
     "name": "#%%\n"
    }
   },
   "outputs": [],
   "source": [
    "np.sum(costo_tamponi_regione)"
   ]
  },
  {
   "cell_type": "markdown",
   "metadata": {
    "pycharm": {
     "name": "#%% md\n"
    }
   },
   "source": [
    "> *Quali sono state le regioni che hanno avuto più vittime? E quali sono quello con meno vittime?*"
   ]
  },
  {
   "cell_type": "code",
   "execution_count": null,
   "metadata": {
    "pycharm": {
     "is_executing": false,
     "name": "#%%\n"
    }
   },
   "outputs": [],
   "source": [
    "decedutiPerRegioni = joinDF.pivot_table('deceduti', index=['data'], columns=['denominazione_regione'], aggfunc='max' )\n",
    "decedutiPerRegioni.plot(figsize=(20,14), marker='s', fontsize=22)\n",
    "plt.title('Grafico dei deceduti per regioni', size = 22)\n",
    "plt.xlabel('Data',size = 22)\n",
    "plt.ylabel('Numero di deceduti', size = 22 )\n",
    "plt.legend(loc=(1,0.54))"
   ]
  },
  {
   "cell_type": "markdown",
   "metadata": {
    "pycharm": {
     "name": "#%% md\n"
    }
   },
   "source": [
    ">*Quali sono state le regioni con più ricoverati?*"
   ]
  },
  {
   "cell_type": "code",
   "execution_count": null,
   "metadata": {
    "pycharm": {
     "is_executing": false
    }
   },
   "outputs": [],
   "source": [
    "ospedalizzatiPerRegioni = joinDF.pivot_table(values = 'totale_ospedalizzati', index=['data'], columns=['denominazione_regione'], aggfunc='max' )\n",
    "ospedalizzatiPerRegioni.plot(figsize=(20,14), marker='s', fontsize=22)\n",
    "plt.title('Grafico delle persone ricoverate in ospedale per regioni', size = 22)\n",
    "plt.xlabel('Data',size = 22)\n",
    "plt.ylabel('Numero di persone ricoverate', size = 22 )\n",
    "plt.legend(loc=(1,0.54))\n",
    "plt.grid()"
   ]
  },
  {
   "cell_type": "code",
   "execution_count": null,
   "metadata": {
    "pycharm": {
     "is_executing": false,
     "name": "#%%\n"
    }
   },
   "outputs": [],
   "source": [
    "#ospedalizzatiPerRegioni.boxplot(figsize=(20,14), fontsize=22)\n",
    "plt.figure(figsize = (22,16))\n",
    "sns.boxplot(data= ospedalizzatiPerRegioni)\n",
    "plt.title('Grafico delle persone ricoverate in ospedale per regioni', size = 22)\n",
    "plt.xlabel('Regioni',size = 22)\n",
    "plt.xticks(rotation=90)\n",
    "plt.ylabel('Numero di ricoverati', size = 22 )\n",
    "plt.legend(loc=(1,0.54))\n",
    "plt.grid()"
   ]
  },
  {
   "cell_type": "markdown",
   "metadata": {
    "pycharm": {
     "name": "#%% md\n"
    }
   },
   "source": [
    ">*Quanto è costata alla regione curare un malato covid in terapia intensiva?*"
   ]
  },
  {
   "cell_type": "code",
   "execution_count": null,
   "metadata": {
    "pycharm": {
     "is_executing": false
    }
   },
   "outputs": [],
   "source": [
    "terapiaIntsPerRegioni = joinDF.pivot_table(values = 'terapia_intensiva', index=['data'], columns=['denominazione_regione'], aggfunc='max' )\n",
    "terapiaIntsPerRegioni.plot(figsize=(20,14), marker='s', fontsize=22)\n",
    "plt.title(\"Grafico dell'andamento delle persone ricoverate in terapia intesivo per regioni\", size = 22)\n",
    "plt.xlabel('Data',size = 22)\n",
    "plt.ylabel('Numero di persone ricoverate in tp. intensiva', size = 22 )\n",
    "plt.legend(loc=(1,0.54))\n",
    "plt.grid()"
   ]
  },
  {
   "cell_type": "code",
   "execution_count": null,
   "metadata": {
    "pycharm": {
     "is_executing": false
    }
   },
   "outputs": [],
   "source": [
    "terapiaIntsPerRegioni.boxplot(figsize=(20,14), fontsize=22)\n",
    "plt.title('Boxplot delle persone ricoverate in terapia intensiva per regioni', size = 22)\n",
    "plt.xlabel('Data',size = 22)\n",
    "plt.xticks(rotation=90)\n",
    "plt.ylabel('Numero di ricoverati', size = 22 )\n",
    "plt.legend(loc=(1,0.54))"
   ]
  },
  {
   "cell_type": "code",
   "execution_count": null,
   "metadata": {
    "pycharm": {
     "is_executing": false,
     "name": "#%%\n"
    }
   },
   "outputs": [],
   "source": [
    "costi_medi_terapia_intensiva=terapiaIntsPerRegioni.median()*1500*14\n",
    "costi_medi_terapia_intensiva.plot(kind='barh', figsize=(20,14))\n",
    "plt.title('Quanto hanno speso mediamente le regioni per il recovero dei malati in terapia intensiva?', size = 22)\n",
    "plt.xlabel('Soldi spesi',size = 22)\n",
    "plt.xticks(size=22)\n",
    "plt.yticks(size=22)\n",
    "plt.ylabel('Regioni', size = 22 )"
   ]
  },
  {
   "cell_type": "markdown",
   "metadata": {
    "pycharm": {
     "name": "#%% md\n"
    }
   },
   "source": [
    ">*Quanto è costato mediamente allo stato curare un malato covid in terapia intensiva?*"
   ]
  },
  {
   "cell_type": "code",
   "execution_count": null,
   "metadata": {
    "pycharm": {
     "is_executing": false
    }
   },
   "outputs": [],
   "source": [
    "np.sum(costi_medi_terapia_intensiva)"
   ]
  },
  {
   "cell_type": "markdown",
   "metadata": {
    "pycharm": {
     "is_executing": false,
     "name": "#%% md\n"
    }
   },
   "source": [
    "## Data prediction con il modello SIR\n",
    "<img src=\"https://lacittanews.it/wp-content/uploads/2020/04/702635-thumb-full-720-160420merkel.jpg\" \n",
    "        alt=\"UniFI logo\" style=\"float: center; width: 40%; height: 36%;\">\n",
    "        \n",
    "\n"
   ]
  },
  {
   "cell_type": "code",
   "execution_count": null,
   "metadata": {
    "pycharm": {
     "name": "#%%\n"
    }
   },
   "outputs": [],
   "source": [
    "YouTubeVideo('aBO9gvgiuVA')"
   ]
  },
  {
   "cell_type": "code",
   "execution_count": null,
   "metadata": {},
   "outputs": [],
   "source": [
    "def SIR(y, t, n, beta, gamma):\n",
    "    S, I, R = y\n",
    "    dSdt = -(beta*S*I)/n\n",
    "    dRdt = gamma*I\n",
    "    dIdt = -dSdt -dRdt\n",
    "    return dSdt, dIdt, dRdt"
   ]
  },
  {
   "cell_type": "code",
   "execution_count": null,
   "metadata": {},
   "outputs": [],
   "source": [
    "from scipy.integrate import odeint\n",
    "\n",
    "# Total population, N.\n",
    "N = 10e6 #numero di abitanti in lombardia\n",
    "# Initial number of infected and recovered individuals, I0 and R0.\n",
    "I0, R0 = 176, 0 #si comincia con un infetto e zero guariti/morti\n",
    "# Everyone else, S0, is susceptible to infection initially.\n",
    "S0 = N - I0 - R0 # ci ricaviamo il numero di persone sane\n",
    "# Contact rate, beta, and mean recovery rate, gamma, (in 1/days).\n",
    "beta, gamma = 0.35, 1./10\n",
    "# A grid of time points (in days)\n",
    "t = np.linspace(0, 90, 91) #tempo in numero di giorni\n",
    "\n",
    "y0 = S0, I0, R0\n",
    "# Integrate the SIR equations over the time grid, t.\n",
    "ret = odeint(SIR, y0, t, args=(N, beta, gamma))\n",
    "S, I, R = ret.T"
   ]
  },
  {
   "cell_type": "code",
   "execution_count": null,
   "metadata": {},
   "outputs": [],
   "source": [
    "plt.figure(figsize=(12,8))\n",
    "plt.plot(S, lw = 4, color = 'blue', linestyle ='--', label='S(t): individui sani')\n",
    "plt.plot(I, lw = 4, color = 'red',linestyle =':', label='I(t): ammalati')\n",
    "plt.plot(R, lw = 4, color = 'green',linestyle = '-.', label='R(t): persone guarite/decedute')\n",
    "plt.title('Modello SIR per la Lombardia', size = 22)\n",
    "plt.xlabel('Giorni', size = 22)\n",
    "plt.ylabel('Numero di persone', size = 22)\n",
    "plt.legend()\n",
    "plt.grid()"
   ]
  },
  {
   "cell_type": "code",
   "execution_count": null,
   "metadata": {},
   "outputs": [],
   "source": [
    "# Total population, N.\n",
    "N = 3700000 #numero di abitanti in lombardia\n",
    "# Initial number of infected and recovered individuals, I0 and R0.\n",
    "I0, R0 = 1, 0 #si comincia con un infetto e zero guariti/morti\n",
    "# Everyone else, S0, is susceptible to infection initially.\n",
    "S0 = N - I0 - R0 # ci ricaviamo il numero di persone sane\n",
    "# Contact rate, beta, and mean recovery rate, gamma, (in 1/days).\n",
    "beta, gamma = 0.35, 1./10\n",
    "# A grid of time points (in days)\n",
    "t = np.linspace(0, 90, 91) #tempo in numero di giorni\n",
    "\n",
    "y0 = S0, I0, R0\n",
    "# Integrate the SIR equations over the time grid, t.\n",
    "ret = odeint(SIR, y0, t, args=(N, beta, gamma))\n",
    "S, I, R = ret.T"
   ]
  },
  {
   "cell_type": "code",
   "execution_count": null,
   "metadata": {},
   "outputs": [],
   "source": [
    "plt.figure(figsize=(12,8))\n",
    "plt.plot(S, lw = 4, linestyle ='--', label='S(t): individui sani')\n",
    "plt.plot(I, lw = 4, linestyle =':', label='I(t): ammalati')\n",
    "plt.plot(R, lw = 4, linestyle = '-.', label='R(t): persone guarite/decedute')\n",
    "plt.title('Modello SIR per la Toscana', size = 22)\n",
    "plt.xlabel('Giorni', size = 22)\n",
    "plt.ylabel('Numero di persone', size = 22)\n",
    "plt.legend()\n",
    "plt.grid()"
   ]
  },
  {
   "cell_type": "code",
   "execution_count": null,
   "metadata": {},
   "outputs": [],
   "source": [
    "np.linspace(0, 90, 91)"
   ]
  },
  {
   "cell_type": "markdown",
   "source": [
    "# Esperiments"
   ],
   "metadata": {
    "collapsed": false
   }
  },
  {
   "cell_type": "code",
   "execution_count": null,
   "outputs": [],
   "source": [
    "import seaborn as sns\n",
    "titanic = sns.load_dataset('titanic')\n",
    "titanic.head()"
   ],
   "metadata": {
    "collapsed": false,
    "pycharm": {
     "name": "#%%\n"
    }
   }
  },
  {
   "cell_type": "code",
   "execution_count": null,
   "outputs": [],
   "source": [
    "titanic[titanic['sex']=='male']['survived'].mean()"
   ],
   "metadata": {
    "collapsed": false,
    "pycharm": {
     "name": "#%%\n"
    }
   }
  },
  {
   "cell_type": "code",
   "execution_count": null,
   "outputs": [],
   "source": [
    "titanic.groupby('sex')[['survived']].mean()"
   ],
   "metadata": {
    "collapsed": false,
    "pycharm": {
     "name": "#%%\n"
    }
   }
  },
  {
   "cell_type": "code",
   "execution_count": null,
   "outputs": [],
   "source": [
    "titanic.pivot_table('survived', index = 'sex', aggfunc='sum')"
   ],
   "metadata": {
    "collapsed": false,
    "pycharm": {
     "name": "#%%\n"
    }
   }
  },
  {
   "cell_type": "code",
   "execution_count": null,
   "outputs": [],
   "source": [
    "titanic.groupby(['sex', 'class'])['survived'].aggregate('mean').unstack() # calcolo la media dei sopravissuti per ogni classe divisa tra maschi e femminie"
   ],
   "metadata": {
    "collapsed": false,
    "pycharm": {
     "name": "#%%\n"
    }
   }
  },
  {
   "cell_type": "code",
   "execution_count": null,
   "outputs": [],
   "source": [
    "titanic.pivot_table('survived', index='sex', columns='class')"
   ],
   "metadata": {
    "collapsed": false,
    "pycharm": {
     "name": "#%%\n"
    }
   }
  },
  {
   "cell_type": "code",
   "execution_count": null,
   "outputs": [],
   "source": [
    "age = pd.cut(titanic['age'], [0, 18, 80])\n",
    "titanic.pivot_table('survived', ['sex', age], 'class') #calcola la media dei sopravissuti per ogni classe divisi per maschi e femmini di età 0, 18 e 18,80"
   ],
   "metadata": {
    "collapsed": false,
    "pycharm": {
     "name": "#%%\n"
    }
   }
  },
  {
   "cell_type": "code",
   "execution_count": null,
   "outputs": [],
   "source": [
    "joinDF['terapia_intensiva']-joinDF['dimessi_guariti']-joinDF['deceduti']"
   ],
   "metadata": {
    "collapsed": false,
    "pycharm": {
     "name": "#%%\n"
    }
   }
  },
  {
   "cell_type": "code",
   "execution_count": null,
   "outputs": [],
   "source": [],
   "metadata": {
    "collapsed": false,
    "pycharm": {
     "name": "#%%\n"
    }
   }
  },
  {
   "cell_type": "markdown",
   "metadata": {
    "pycharm": {
     "is_executing": false,
     "name": "#%% md\n"
    }
   },
   "source": []
  },
  {
   "cell_type": "code",
   "execution_count": null,
   "metadata": {
    "pycharm": {
     "is_executing": false,
     "name": "#%%\n"
    }
   },
   "outputs": [],
   "source": [
    "import seaborn as sns\n",
    "titanic = sns.load_dataset('titanic')\n",
    "titanic.head()"
   ]
  },
  {
   "cell_type": "code",
   "execution_count": null,
   "metadata": {
    "pycharm": {
     "is_executing": false,
     "name": "#%%\n"
    }
   },
   "outputs": [],
   "source": [
    "titanic[titanic['sex']=='male']['survived'].mean()"
   ]
  },
  {
   "cell_type": "code",
   "execution_count": null,
   "metadata": {
    "pycharm": {
     "is_executing": false,
     "name": "#%%\n"
    }
   },
   "outputs": [],
   "source": [
    "titanic.groupby('sex')[['survived']].mean()"
   ]
  },
  {
   "cell_type": "code",
   "execution_count": null,
   "metadata": {},
   "outputs": [],
   "source": [
    "titanic.pivot_table('survived', index = 'sex', aggfunc='sum')"
   ]
  },
  {
   "cell_type": "code",
   "execution_count": null,
   "metadata": {
    "pycharm": {
     "is_executing": false,
     "name": "#%%\n"
    }
   },
   "outputs": [],
   "source": [
    "titanic.groupby(['sex', 'class'])['survived'].aggregate('mean').unstack() # calcolo la media dei sopravissuti per ogni classe divisa tra maschi e femminie"
   ]
  },
  {
   "cell_type": "code",
   "execution_count": null,
   "metadata": {
    "pycharm": {
     "is_executing": false,
     "name": "#%%\n"
    }
   },
   "outputs": [],
   "source": [
    "titanic.pivot_table('survived', index='sex', columns='class')"
   ]
  },
  {
   "cell_type": "code",
   "execution_count": null,
   "metadata": {
    "pycharm": {
     "is_executing": false,
     "name": "#%%\n"
    }
   },
   "outputs": [],
   "source": [
    "age = pd.cut(titanic['age'], [0, 18, 80])\n",
    "titanic.pivot_table('survived', ['sex', age], 'class') #calcola la media dei sopravissuti per ogni classe divisi per maschi e femmini di età 0, 18 e 18,80"
   ]
  },
  {
   "cell_type": "code",
   "execution_count": null,
   "metadata": {},
   "outputs": [],
   "source": [
    "joinDF['terapia_intensiva']-joinDF['dimessi_guariti']-joinDF['deceduti']"
   ]
  },
  {
   "cell_type": "code",
   "execution_count": null,
   "metadata": {},
   "outputs": [],
   "source": []
  }
 ],
 "metadata": {
  "kernelspec": {
   "display_name": "Python 3",
   "language": "python",
   "name": "python3"
  },
  "language_info": {
   "codemirror_mode": {
    "name": "ipython",
    "version": 3
   },
   "file_extension": ".py",
   "mimetype": "text/x-python",
   "name": "python",
   "nbconvert_exporter": "python",
   "pygments_lexer": "ipython3",
   "version": "3.7.6"
  }
 },
 "nbformat": 4,
 "nbformat_minor": 4
}