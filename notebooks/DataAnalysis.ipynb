{
 "cells": [
  {
   "cell_type": "code",
   "execution_count": null,
   "outputs": [],
   "source": [],
   "metadata": {
    "collapsed": false,
    "pycharm": {
     "name": "#%%\n"
    }
   }
  },
  {
   "cell_type": "markdown",
   "source": [
    "# Analisi dei dati del covid19 in Italia\n",
    "Questa analisi dati è stata svolta prendendo i dati rilasciati dalla protezione civile sul covid19 in Italia.\n",
    "\n",
    "\n",
    "- Autore: Matteo Marulli & Matteo Ghera\n",
    "- Università degli studi di Firenze\n",
    "- Corso di laurea magistrale in Informatica\n",
    "- Curriculum: Data Science"
   ],
   "metadata": {
    "collapsed": false
   }
  },
  {
   "cell_type": "code",
   "execution_count": null,
   "outputs": [],
   "source": [
    "import pandas as pd\n",
    "import numpy as np\n",
    "import matplotlib.pyplot as plt\n",
    "import seaborn as sns\n",
    "import os\n",
    "from path import Path\n",
    "import json"
   ],
   "metadata": {
    "collapsed": false,
    "pycharm": {
     "name": "#%%\n"
    }
   }
  },
  {
   "cell_type": "code",
   "execution_count": null,
   "outputs": [],
   "source": [
    "PROJ_DIR = Path().getcwd().parent\n",
    "DATA_DIR = PROJ_DIR / \"data\"\n",
    "os.chdir (PROJ_DIR)\n",
    "\n",
    "with open(DATA_DIR/'dpc-covid19-ita-province.json') as f:\n",
    "         d= json.load(f)\n",
    "json.dumps(d)\n",
    "df_province =pd.DataFrame(d)\n",
    "\n",
    "with open(DATA_DIR/'dpc-covid19-ita-regioni.json') as f:\n",
    "         d= json.load(f)\n",
    "json.dumps(d)\n",
    "df_regioni =pd.DataFrame(d)"
   ],
   "metadata": {
    "collapsed": false,
    "pycharm": {
     "name": "#%%\n"
    }
   }
  },
  {
   "cell_type": "code",
   "execution_count": null,
   "outputs": [],
   "source": [
    "df_province.head()"
   ],
   "metadata": {
    "collapsed": false,
    "pycharm": {
     "name": "#%%\n"
    }
   }
  },
  {
   "cell_type": "code",
   "execution_count": null,
   "outputs": [],
   "source": [
    "df_regioni.head()"
   ],
   "metadata": {
    "collapsed": false,
    "pycharm": {
     "name": "#%%\n"
    }
   }
  },
  {
   "cell_type": "markdown",
   "source": [
    "## Descrizione dei dataset\n",
    "Il dataset regioni è composto da 16 variaibili e molte variabili sono di tipo int64 e float 64.\n",
    "Le variabili prese in analisi sono:\n",
    "- data: è il timestamp indica quando è stato inserito il record nel database, deve essere convertito nel formato date\n",
    "- stato: indica lo stato in è stato rilevato il caso (tipo qualitativo e non ordinale)\n",
    "- codice_regione: codice istat per identificare una regione (tipo quantitativo e non ordinale)\n",
    "- denominazione_regione: indica il nome della regione, (tipo qualitativo e non ordinale)\n",
    "- lat: latidudine della regione (tipo quantitativo e ordinale)\n",
    "- long: longitudine della regione (tipo quantitativo e ordinale)\n",
    "- ricoverati_con_sintomi: numero di persone che sono state ricoverate nel giorno indicato da data (tipo quantitativo e ordianale)\n",
    "- terapia_intesiva: numero di persone che sono state ricoverate/spostate in terapia intensiva nel giorno indicato da data (tipo quantitativo e ordianale)\n",
    "- totale_ospedalizzati: numero di persone che sono state ricoverate in ospedale (somma tra quelli in tp.intensiva e ricoverati con sintomi) nel giorno indicato da data (tipo quantitativo e ordianale)\n",
    "- isolamento_domiciliare: numero di persone che sono insolamento_domiciliare nel giorno indicato da data (tipo quantitativo e ordianale)\n",
    "- totale_attualmente_positivi: numero di persone in isolamento e ricoverati in ospedale nel giorno indicato da data (tipo quantitativo e ordianale)\n",
    "- nuovi_attualmente_positivi: differenza di persone positive al Covid19 tra il giorno attuale e il giorno passato (tipo quantitativo e ordianale)\n",
    "- dimessi_guariti: persone guarite dal covid19 nella giornata indicata da data (tipo quantitativo e ordianale)\n",
    "- deceduti: persone morte a causa del covid19 nella giornata indicata da data (tipo quantitativo e ordianale)\n",
    "- totale_casi: totale casi positivi nella giornata indicata da data (tipo quantitativo e ordianale)\n",
    "- tamponi: numerod i campioni fatti dalla regione nella giornata indicata da data (tipo quantitativo e ordianale)\n",
    "\n",
    "Il dataset province è composto da 12 variaibili.\n",
    "Le variabili prese in analisi sono:\n",
    "- data: è il timestamp indica quando è stato inserito il record nel database, deve essere convertito nel formato date (tipo qualitativo e non ordinale)\n",
    "- stato: indica lo stato, verrà cancellata nel preprocessing (tipo qualitativo e non ordinale)\n",
    "- codice_regione: codice istat per identificare una regione (tipo quantitativo e non ordinale)\n",
    "- denominazione_regione: indica il nome della regione (tipo qualitativo e non ordinale)\n",
    "- lat: latidudine della città (tipo quantitativo e ordinale)\n",
    "- long: longitudine della città (tipo quantitativo e ordinale)\n",
    "- codice_provincia: codice istat per identificare una provincia (tipo quantitativo e non ordinale)\n",
    "- denominanzione_provincia: indica il nome della provincia (tipo qualitativo e non ordinale)\n",
    "- sigla_provincia: sigla della provincia usate per le targe auto (tipo qualitativo e non ordinale)\n",
    "- totale_casi: persone infette da covid19 (tipo quantitativo e ordianale)\n",
    "- note_it: note informative in italiano (tipo qualitativo e non ordinale)\n",
    "- note_en: note informative in inglese (tipo qualitativo e non ordinale)\n",
    "- casi_testati: numero di persone sottoposte al test per covid-19\n",
    "\n",
    "\n",
    "Le colonne in comune nei due dataset sono:\n",
    "- data\n",
    "- stato\n",
    "- note_en\n",
    "- note_it\n",
    "- codice_regione\n",
    "- totale_casi\n",
    "- denominazione_regione\n",
    "- lat\n",
    "- long\n",
    "\n",
    "Le colonne candidate per eseguire la join sono data e denominazione_regione"
   ],
   "metadata": {
    "collapsed": false
   }
  },
  {
   "cell_type": "code",
   "execution_count": null,
   "outputs": [],
   "source": [
    "set(df_regioni.columns).intersection(set(df_province.columns))"
   ],
   "metadata": {
    "collapsed": false,
    "pycharm": {
     "name": "#%%\n"
    }
   }
  },
  {
   "cell_type": "code",
   "execution_count": null,
   "outputs": [],
   "source": [
    "joinDF = pd.merge(df_province, df_regioni, on= ['data', 'codice_regione'])\n",
    "joinDF.drop(axis=1, columns = joinDF.filter(regex='_y').columns, inplace = True)"
   ],
   "metadata": {
    "collapsed": false,
    "pycharm": {
     "name": "#%%\n"
    }
   }
  },
  {
   "cell_type": "code",
   "execution_count": null,
   "outputs": [],
   "source": [
    "joinDF.head().T"
   ],
   "metadata": {
    "collapsed": false,
    "pycharm": {
     "name": "#%%\n"
    }
   }
  },
  {
   "cell_type": "code",
   "execution_count": null,
   "outputs": [],
   "source": [
    "joinDF.info(memory_usage=True)"
   ],
   "metadata": {
    "collapsed": false,
    "pycharm": {
     "name": "#%%\n"
    }
   }
  },
  {
   "cell_type": "code",
   "execution_count": null,
   "outputs": [],
   "source": [
    "joinDF.describe()"
   ],
   "metadata": {
    "collapsed": false,
    "pycharm": {
     "name": "#%%\n"
    }
   }
  },
  {
   "cell_type": "code",
   "execution_count": null,
   "outputs": [],
   "source": [
    "plt.figure(figsize=(10,5), dpi = 150)\n",
    "sns.heatmap(joinDF.corr(), annot=True, linewidths= 0.5 , cmap = 'coolwarm')"
   ],
   "metadata": {
    "collapsed": false,
    "pycharm": {
     "name": "#%%\n"
    }
   }
  },
  {
   "cell_type": "code",
   "execution_count": null,
   "outputs": [],
   "source": [
    "#sns.pairplot(data=joinDF)"
   ],
   "metadata": {
    "collapsed": false,
    "pycharm": {
     "name": "#%%\n"
    }
   }
  },
  {
   "cell_type": "markdown",
   "source": [
    "## Data cleaning"
   ],
   "metadata": {
    "collapsed": false
   }
  },
  {
   "cell_type": "code",
   "execution_count": null,
   "outputs": [],
   "source": [
    "joinDF.columns = joinDF.columns.str.replace('_x','')"
   ],
   "metadata": {
    "collapsed": false,
    "pycharm": {
     "name": "#%%\n"
    }
   }
  },
  {
   "cell_type": "code",
   "execution_count": null,
   "outputs": [],
   "source": [
    "joinDF['data'] = pd.to_datetime(joinDF['data'], format='%Y-%m-%d') "
   ],
   "metadata": {
    "collapsed": false,
    "pycharm": {
     "name": "#%%\n"
    }
   }
  },
  {
   "cell_type": "code",
   "execution_count": null,
   "outputs": [],
   "source": [
    "joinDF.drop(columns=['stato', 'codice_regione', 'note_en', 'note_it', 'codice_regione', 'codice_provincia','sigla_provincia'], axis=1, inplace = True)"
   ],
   "metadata": {
    "collapsed": false,
    "pycharm": {
     "name": "#%%\n"
    }
   }
  },
  {
   "cell_type": "code",
   "execution_count": null,
   "outputs": [],
   "source": [
    "joinDF['casi_testati'].fillna(joinDF['casi_testati'].mean(), inplace = True)"
   ],
   "metadata": {
    "collapsed": false,
    "pycharm": {
     "name": "#%%\n"
    }
   }
  },
  {
   "cell_type": "code",
   "execution_count": null,
   "outputs": [],
   "source": [
    "multi = pd.MultiIndex.from_tuples([(regione, data) for regione,data in zip(joinDF['denominazione_regione'],joinDF['data'])], names =['denominazione_regione', 'data'])"
   ],
   "metadata": {
    "collapsed": false,
    "pycharm": {
     "name": "#%%\n"
    }
   }
  },
  {
   "cell_type": "code",
   "execution_count": null,
   "outputs": [],
   "source": [
    "joinDF.index = multi"
   ],
   "metadata": {
    "collapsed": false,
    "pycharm": {
     "name": "#%%\n"
    }
   }
  },
  {
   "cell_type": "code",
   "execution_count": null,
   "outputs": [],
   "source": [
    "joinDF"
   ],
   "metadata": {
    "collapsed": false,
    "pycharm": {
     "name": "#%%\n"
    }
   }
  },
  {
   "cell_type": "code",
   "execution_count": null,
   "outputs": [],
   "source": [
    "joinDF.pivot_table(index = ['denominazione_regione', 'denominazione_provincia'])"
   ],
   "metadata": {
    "collapsed": false,
    "pycharm": {
     "name": "#%%\n"
    }
   }
  },
  {
   "cell_type": "code",
   "execution_count": null,
   "outputs": [],
   "source": [
    "import seaborn as sns\n",
    "titanic = sns.load_dataset('titanic')\n",
    "titanic.head()"
   ],
   "metadata": {
    "collapsed": false,
    "pycharm": {
     "name": "#%%\n"
    }
   }
  },
  {
   "cell_type": "code",
   "execution_count": null,
   "outputs": [],
   "source": [
    "titanic['survived'](sex).mean()"
   ],
   "metadata": {
    "collapsed": false,
    "pycharm": {
     "name": "#%%\n"
    }
   }
  },
  {
   "cell_type": "code",
   "execution_count": null,
   "outputs": [],
   "source": [
    "titanic[titanic['sex']=='male']['survived'].mean()"
   ],
   "metadata": {
    "collapsed": false,
    "pycharm": {
     "name": "#%%\n"
    }
   }
  },
  {
   "cell_type": "code",
   "execution_count": null,
   "outputs": [],
   "source": [
    "titanic.groupby('sex')[['survived']].mean()"
   ],
   "metadata": {
    "collapsed": false,
    "pycharm": {
     "name": "#%%\n"
    }
   }
  },
  {
   "cell_type": "code",
   "execution_count": null,
   "outputs": [],
   "source": [
    "titanic.groupby(['sex', 'class'])['survived'].aggregate('mean').unstack() # calcolo la media dei sopravissuti per ogni classe divisa tra maschi e femminie"
   ],
   "metadata": {
    "collapsed": false,
    "pycharm": {
     "name": "#%%\n"
    }
   }
  },
  {
   "cell_type": "code",
   "execution_count": null,
   "outputs": [],
   "source": [
    "titanic.pivot_table('survived', index='sex', columns='class')"
   ],
   "metadata": {
    "collapsed": false,
    "pycharm": {
     "name": "#%%\n"
    }
   }
  },
  {
   "cell_type": "code",
   "execution_count": null,
   "outputs": [],
   "source": [
    "age = pd.cut(titanic['age'], [0, 18, 80])\n",
    "titanic.pivot_table('survived', ['sex', age], 'class') #calcola la media dei sopravissuti per ogni classe divisi per maschi e femmini di età 0, 18 e 18,80"
   ],
   "metadata": {
    "collapsed": false,
    "pycharm": {
     "name": "#%%\n"
    }
   }
  },
  {
   "cell_type": "code",
   "execution_count": null,
   "outputs": [],
   "source": [
    "joinDF.pivot_table('totale_positivi', index = ['denominazione_regione', 'denominazione_provincia'], columns=['data'], aggfunc='sum')"
   ],
   "metadata": {
    "collapsed": false,
    "pycharm": {
     "name": "#%%\n"
    }
   }
  },
  {
   "cell_type": "code",
   "execution_count": null,
   "outputs": [],
   "source": [
    "plt.figure(figsize=(12,6), dpi = 200)\n",
    "joinDF.pivot_table('totale_positivi', index=['denominazione_regione', 'data'], aggfunc='sum' )"
   ],
   "metadata": {
    "collapsed": false,
    "pycharm": {
     "name": "#%%\n"
    }
   }
  },
  {
   "cell_type": "code",
   "execution_count": null,
   "outputs": [],
   "source": [
    "casiPositviPerRegioni = joinDF.pivot_table('totale_positivi', index=['data'], columns=['denominazione_regione'], aggfunc='sum' )\n",
    "casiPositviPerRegioni.plot(figsize=(14,10), marker='s', fontsize=22)\n",
    "plt.title('Grafico dei casi positivi per regioni', size = 22)\n",
    "plt.xlabel('Data',size = 22)\n",
    "plt.ylabel('Numero di casi positivi', size = 22 )\n",
    "plt.legend(loc=(1,0.35))"
   ],
   "metadata": {
    "collapsed": false,
    "pycharm": {
     "name": "#%%\n"
    }
   }
  },
  {
   "cell_type": "code",
   "execution_count": null,
   "outputs": [],
   "source": [
    "tamponiPerRegioni = joinDF.pivot_table('tamponi', index=['data'], columns=['denominazione_regione'], aggfunc='sum' )\n",
    "tamponiPerRegioni.plot(figsize=(14,10), marker='s', fontsize=22)\n",
    "plt.title('Grafico dei tamponi fatti per regioni', size = 22)\n",
    "plt.xlabel('Data',size = 22)\n",
    "plt.ylabel('Numero di tamponi fatti', size = 22 )\n",
    "plt.legend(loc=(1,0.35))"
   ],
   "metadata": {
    "collapsed": false,
    "pycharm": {
     "name": "#%%\n"
    }
   }
  },
  {
   "cell_type": "code",
   "execution_count": null,
   "outputs": [],
   "source": [
    "decedutiPerRegioni = joinDF.pivot_table('deceduti', index=['data'], columns=['denominazione_regione'], aggfunc='count' )\n",
    "decedutiPerRegioni.plot(figsize=(14,10), marker='s', fontsize=22)\n",
    "plt.title('Grafico dei deceduti per regioni', size = 22)\n",
    "plt.xlabel('Data',size = 22)\n",
    "plt.ylabel('Numero di deceduti', size = 22 )\n",
    "plt.legend(loc=(1,0.35))"
   ],
   "metadata": {
    "collapsed": false,
    "pycharm": {
     "name": "#%%\n"
    }
   }
  },
  {
   "cell_type": "code",
   "execution_count": null,
   "outputs": [],
   "source": [
    "decedutiPerRegioni['Lombardia']"
   ],
   "metadata": {
    "collapsed": false,
    "pycharm": {
     "name": "#%%\n"
    }
   }
  },
  {
   "cell_type": "code",
   "execution_count": null,
   "outputs": [],
   "source": [
    "tamponiPerRegioni"
   ],
   "metadata": {
    "collapsed": false,
    "pycharm": {
     "name": "#%%\n"
    }
   }
  },
  {
   "cell_type": "code",
   "execution_count": null,
   "outputs": [],
   "source": [
    "joinDF[joinDF['denominazione_regione']=='Abruzzo'].head(20).T"
   ],
   "metadata": {
    "collapsed": false,
    "pycharm": {
     "name": "#%%\n"
    }
   }
  }
 ],
 "metadata": {
  "kernelspec": {
   "display_name": "Python 3",
   "language": "python",
   "name": "python3"
  },
  "language_info": {
   "codemirror_mode": {
    "name": "ipython",
    "version": 3
   },
   "file_extension": ".py",
   "mimetype": "text/x-python",
   "name": "python",
   "nbconvert_exporter": "python",
   "pygments_lexer": "ipython3",
   "version": "3.7.6"
  }
 },
 "nbformat": 4,
 "nbformat_minor": 4
}