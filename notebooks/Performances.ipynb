{
 "cells": [
  {
   "cell_type": "markdown",
   "metadata": {
    "collapsed": true,
    "pycharm": {
     "name": "#%% md\n"
    }
   },
   "source": [
    "# Performances\n"
   ]
  },
  {
   "cell_type": "markdown",
   "source": [
    "## Counting triangles"
   ],
   "metadata": {
    "collapsed": false
   }
  },
  {
   "cell_type": "code",
   "execution_count": 1,
   "outputs": [],
   "source": [
    "import networkx as nx\n",
    "import timeit\n",
    "import numpy as np\n",
    "import pandas as pd\n",
    "import seaborn as sns\n",
    "import matplotlib.pyplot as plt"
   ],
   "metadata": {
    "collapsed": false,
    "pycharm": {
     "name": "#%%\n",
     "is_executing": false
    }
   }
  },
  {
   "cell_type": "code",
   "execution_count": 2,
   "outputs": [],
   "source": [
    "import os\n",
    "from path import Path\n",
    "PROJ_DIR = Path().getcwd().parent\n",
    "DATA_DIR = PROJ_DIR / \"data\"\n",
    "os.chdir (PROJ_DIR)\n"
   ],
   "metadata": {
    "collapsed": false,
    "pycharm": {
     "name": "#%%\n",
     "is_executing": false
    }
   }
  },
  {
   "cell_type": "code",
   "execution_count": 3,
   "outputs": [],
   "source": [
    "import scripts.src.CountingTriangles as ct\n",
    "from scripts.src.ClosenessCentrality import *"
   ],
   "metadata": {
    "collapsed": false,
    "pycharm": {
     "name": "#%%\n",
     "is_executing": false
    }
   }
  },
  {
   "cell_type": "code",
   "execution_count": 4,
   "outputs": [],
   "source": [
    "def generateGraph(start=100, stop=500, step=100, density=0.70):\n",
    "    listOfNetworks=[]\n",
    "    for numberOfNodes in range(start, stop, step):\n",
    "        numberOfEdges=int((density/2)*numberOfNodes*(numberOfNodes-1))\n",
    "        graph= nx.gnm_random_graph(numberOfNodes, numberOfEdges, seed=42)\n",
    "        listOfNetworks.append(graph)\n",
    "    return listOfNetworks\n",
    "\n",
    "def execution_time(listOfNetworks, counter, repeat=5):\n",
    "    times={}\n",
    "    for graph in listOfNetworks:\n",
    "        time=[]\n",
    "        for i in range(repeat):\n",
    "            starttime = timeit.default_timer()\n",
    "            counter.run(graph)\n",
    "            #time in second\n",
    "            time.append(timeit.default_timer() - starttime)\n",
    "        times[(type(counter).__name__,len(graph.nodes._nodes))]=time\n",
    "    return times\n",
    "\n",
    "def create_dataset_times(listOfNetworks):\n",
    "    listOfClasses=[ct.ObviousAlgorithm(),ct.EnumeratingNeighborPairs(), ct.DelegatingLowDegreeVertices()]\n",
    "    times={}\n",
    "    for myClass in listOfClasses:\n",
    "        current_times=execution_time(listOfNetworks, myClass, repeat=10)\n",
    "        times.update(current_times)\n",
    "    times_dataframe= pd.DataFrame.from_dict(times)\n",
    "    times_dataframe = times_dataframe.unstack().reset_index().drop(\"level_2\", axis=1)\n",
    "    times_dataframe=times_dataframe.rename(columns={\"level_0\": \"class\", \"level_1\":\"numberOfNodes\",0:\"time\"})\n",
    "    return times_dataframe\n",
    "\n",
    "def barplot(dataframe, density):\n",
    "    plt.title(\"Execution Times for graph with density {}\".format(density))\n",
    "    barplot=sns.barplot(x=\"class\", y=\"time\", hue=\"numberOfNodes\", data=dataframe)\n",
    "    barplot.set_xticklabels(barplot.get_xticklabels(), rotation=90)"
   ],
   "metadata": {
    "collapsed": false,
    "pycharm": {
     "name": "#%%\n",
     "is_executing": false
    }
   }
  },
  {
   "cell_type": "code",
   "execution_count": 5,
   "outputs": [
    {
     "data": {
      "text/plain": "<Figure size 432x288 with 1 Axes>",
      "image/png": "[encoded data removed]"
     },
     "metadata": {
      "needs_background": "light"
     },
     "output_type": "display_data"
    }
   ],
   "source": [
    "listOfNetworks=generateGraph(stop=300)\n",
    "times_dataset=create_dataset_times(listOfNetworks)\n",
    "barplot(times_dataset, 0.70)\n",
    "plt.show()"
   ],
   "metadata": {
    "collapsed": false,
    "pycharm": {
     "name": "#%%\n",
     "is_executing": false
    }
   }
  },
  {
   "cell_type": "code",
   "execution_count": null,
   "outputs": [],
   "source": [
    "listOfNetworks2=generateGraph(stop=300, density=0.35)\n",
    "times_dataset=create_dataset_times(listOfNetworks)\n",
    "barplot(times_dataset, 0.35)\n",
    "plt.show()\n"
   ],
   "metadata": {
    "collapsed": false,
    "pycharm": {
     "name": "#%%\n",
     "is_executing": true
    }
   }
  },
  {
   "cell_type": "markdown",
   "source": [
    "## Closeness Centrality"
   ],
   "metadata": {
    "collapsed": false,
    "pycharm": {
     "name": "#%% md\n"
    }
   }
  },
  {
   "cell_type": "code",
   "execution_count": null,
   "outputs": [],
   "source": [
    "def compute_error(expected, actual):\n",
    "    result=[]\n",
    "    for key in actual.keys():\n",
    "        c_hat=1/actual[key]\n",
    "        c=1/expected[key]\n",
    "        abs_error = abs(c_hat - c)\n",
    "        result.append(abs_error)\n",
    "    return np.array(result)"
   ],
   "metadata": {
    "collapsed": false,
    "pycharm": {
     "name": "#%%\n",
     "is_executing": true
    }
   }
  },
  {
   "cell_type": "code",
   "execution_count": null,
   "outputs": [],
   "source": [
    "R=nx.read_adjlist(DATA_DIR/\"R.adjlist\", delimiter=\",\")\n",
    "largest_cc = max(nx.connected_components(R), key=len)\n",
    "R=R.subgraph(largest_cc)\n",
    "len(R)"
   ],
   "metadata": {
    "collapsed": false,
    "pycharm": {
     "name": "#%%\n",
     "is_executing": true
    }
   }
  },
  {
   "cell_type": "code",
   "execution_count": null,
   "outputs": [],
   "source": [
    "if not os.path.exists(DATA_DIR/\"ErrorEW.csv\"):\n",
    "    expected = nx.closeness_centrality(R, wf_improved=False)\n",
    "    df_performance = pd.DataFrame(columns=['epsilon', 'mean_error', 'std_error'])\n",
    "    #epsilon_list = [0.2, 0.1, 0.07, 0.06, 0.05] #time of execution: 2 hours\n",
    "    epsilon_list = [0.2]\n",
    "    for e in epsilon_list:\n",
    "        print(e)\n",
    "        EW = EWAlgorithm(R, e)\n",
    "        actual = EW.run()\n",
    "        error =compute_error(expected, actual)\n",
    "        mean_error=np.mean(error)\n",
    "        std_error=np.std(error)\n",
    "        df_performance=df_performance.append({'epsilon':e,'mean_error':mean_error, 'std_error':std_error}, ignore_index=True)\n",
    "    df_performance.to_csv(DATA_DIR/\"ErrorEW.csv\")\n",
    "else:\n",
    "    df_performance=pd.read_csv(DATA_DIR/\"ErrorEW.csv\")\n",
    "    "
   ],
   "metadata": {
    "collapsed": false,
    "pycharm": {
     "name": "#%%\n",
     "is_executing": true
    }
   }
  },
  {
   "cell_type": "code",
   "execution_count": null,
   "outputs": [],
   "source": [
    "plt.title(\"Error EW algorithm\")\n",
    "plot=sns.lineplot(x=\"epsilon\", y=\"error\", marker=\"o\", data=df_performance)\n",
    "plt.errorbar(df_performance[\"epsilon\"], df_performance[\"mean_error\"], yerr=df_performance[\"std_error\"], fmt='.k')\n",
    "plt.show()\n",
    "\n",
    "\n"
   ],
   "metadata": {
    "collapsed": false,
    "pycharm": {
     "name": "#%%\n",
     "is_executing": true
    }
   }
  }
 ],
 "metadata": {
  "kernelspec": {
   "display_name": "Python 3",
   "language": "python",
   "name": "python3"
  },
  "language_info": {
   "codemirror_mode": {
    "name": "ipython",
    "version": 2
   },
   "file_extension": ".py",
   "mimetype": "text/x-python",
   "name": "python",
   "nbconvert_exporter": "python",
   "pygments_lexer": "ipython2",
   "version": "2.7.6"
  },
  "pycharm": {
   "stem_cell": {
    "cell_type": "raw",
    "source": [],
    "metadata": {
     "collapsed": false
    }
   }
  }
 },
 "nbformat": 4,
 "nbformat_minor": 0
}