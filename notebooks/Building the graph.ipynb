{
 "cells": [
  {
   "cell_type": "markdown",
   "metadata": {
    "collapsed": true,
    "pycharm": {
     "name": "#%% md\n"
    }
   },
   "source": [
    "## Building the graph"
   ]
  },
  {
   "cell_type": "code",
   "execution_count": 1,
   "outputs": [],
   "source": [
    "import pandas as pd\n",
    "import numpy as np\n",
    "import seaborn as sns\n",
    "import matplotlib.pyplot as plt"
   ],
   "metadata": {
    "collapsed": false,
    "pycharm": {
     "name": "#%%\n",
     "is_executing": false
    }
   }
  },
  {
   "cell_type": "code",
   "source": [
    "import os\n",
    "from path import Path\n",
    "PROJ_DIR = Path().getcwd().parent\n",
    "DATA_DIR = PROJ_DIR / \"data\"\n",
    "os.chdir (PROJ_DIR)"
   ],
   "metadata": {
    "collapsed": false,
    "pycharm": {
     "name": "#%% \n",
     "is_executing": false
    }
   },
   "execution_count": 2,
   "outputs": []
  },
  {
   "cell_type": "code",
   "execution_count": 10,
   "outputs": [
    {
     "data": {
      "text/plain": "                  data stato  codice_regione denominazione_regione  \\\n0  2020-02-24T18:00:00   ITA              13               Abruzzo   \n1  2020-02-24T18:00:00   ITA              13               Abruzzo   \n2  2020-02-24T18:00:00   ITA              13               Abruzzo   \n3  2020-02-24T18:00:00   ITA              13               Abruzzo   \n4  2020-02-24T18:00:00   ITA              13               Abruzzo   \n\n   codice_provincia               denominazione_provincia sigla_provincia  \\\n0                69                                Chieti              CH   \n1                66                              L'Aquila              AQ   \n2                68                               Pescara              PE   \n3                67                                Teramo              TE   \n4               979  In fase di definizione/aggiornamento                   \n\n         lat       long  totale_casi note_it note_en  \n0  42.351032  14.167546            0                  \n1  42.351222  13.398438            0                  \n2  42.464584  14.213648            0                  \n3  42.658918  13.704400            0                  \n4   0.000000   0.000000            0                  ",
      "text/html": "<div>\n<style scoped>\n    .dataframe tbody tr th:only-of-type {\n        vertical-align: middle;\n    }\n\n    .dataframe tbody tr th {\n        vertical-align: top;\n    }\n\n    .dataframe thead th {\n        text-align: right;\n    }\n</style>\n<table border=\"1\" class=\"dataframe\">\n  <thead>\n    <tr style=\"text-align: right;\">\n      <th></th>\n      <th>data</th>\n      <th>stato</th>\n      <th>codice_regione</th>\n      <th>denominazione_regione</th>\n      <th>codice_provincia</th>\n      <th>denominazione_provincia</th>\n      <th>sigla_provincia</th>\n      <th>lat</th>\n      <th>long</th>\n      <th>totale_casi</th>\n      <th>note_it</th>\n      <th>note_en</th>\n    </tr>\n  </thead>\n  <tbody>\n    <tr>\n      <th>0</th>\n      <td>2020-02-24T18:00:00</td>\n      <td>ITA</td>\n      <td>13</td>\n      <td>Abruzzo</td>\n      <td>69</td>\n      <td>Chieti</td>\n      <td>CH</td>\n      <td>42.351032</td>\n      <td>14.167546</td>\n      <td>0</td>\n      <td></td>\n      <td></td>\n    </tr>\n    <tr>\n      <th>1</th>\n      <td>2020-02-24T18:00:00</td>\n      <td>ITA</td>\n      <td>13</td>\n      <td>Abruzzo</td>\n      <td>66</td>\n      <td>L'Aquila</td>\n      <td>AQ</td>\n      <td>42.351222</td>\n      <td>13.398438</td>\n      <td>0</td>\n      <td></td>\n      <td></td>\n    </tr>\n    <tr>\n      <th>2</th>\n      <td>2020-02-24T18:00:00</td>\n      <td>ITA</td>\n      <td>13</td>\n      <td>Abruzzo</td>\n      <td>68</td>\n      <td>Pescara</td>\n      <td>PE</td>\n      <td>42.464584</td>\n      <td>14.213648</td>\n      <td>0</td>\n      <td></td>\n      <td></td>\n    </tr>\n    <tr>\n      <th>3</th>\n      <td>2020-02-24T18:00:00</td>\n      <td>ITA</td>\n      <td>13</td>\n      <td>Abruzzo</td>\n      <td>67</td>\n      <td>Teramo</td>\n      <td>TE</td>\n      <td>42.658918</td>\n      <td>13.704400</td>\n      <td>0</td>\n      <td></td>\n      <td></td>\n    </tr>\n    <tr>\n      <th>4</th>\n      <td>2020-02-24T18:00:00</td>\n      <td>ITA</td>\n      <td>13</td>\n      <td>Abruzzo</td>\n      <td>979</td>\n      <td>In fase di definizione/aggiornamento</td>\n      <td></td>\n      <td>0.000000</td>\n      <td>0.000000</td>\n      <td>0</td>\n      <td></td>\n      <td></td>\n    </tr>\n  </tbody>\n</table>\n</div>"
     },
     "metadata": {},
     "output_type": "execute_result",
     "execution_count": 10
    }
   ],
   "source": [
    "import json\n",
    "\n",
    "with open(DATA_DIR/'dpc-covid19-ita-province.json') as f:\n",
    "         d= json.load(f) \n",
    "json.dumps(d)\n",
    "covid19_dataset=pd.DataFrame(d)\n",
    "covid19_dataset.head()"
   ],
   "metadata": {
    "collapsed": false,
    "pycharm": {
     "name": "#%%\n",
     "is_executing": false
    }
   }
  }
 ],
 "metadata": {
  "kernelspec": {
   "display_name": "Python 3",
   "language": "python",
   "name": "python3"
  },
  "language_info": {
   "codemirror_mode": {
    "name": "ipython",
    "version": 2
   },
   "file_extension": ".py",
   "mimetype": "text/x-python",
   "name": "python",
   "nbconvert_exporter": "python",
   "pygments_lexer": "ipython2",
   "version": "2.7.6"
  },
  "pycharm": {
   "stem_cell": {
    "cell_type": "raw",
    "source": [],
    "metadata": {
     "collapsed": false
    }
   }
  }
 },
 "nbformat": 4,
 "nbformat_minor": 0
}