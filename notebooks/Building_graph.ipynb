{
 "cells": [
  {
   "cell_type": "markdown",
   "metadata": {
    "collapsed": true,
    "pycharm": {
     "name": "#%% md\n"
    }
   },
   "source": [
    "## Building the graph"
   ]
  },
  {
   "cell_type": "code",
   "execution_count": 1,
   "outputs": [],
   "source": [
    "import networkx as nx\n",
    "import numpy as np\n",
    "import pandas as pd"
   ],
   "metadata": {
    "collapsed": false,
    "pycharm": {
     "name": "#%%\n",
     "is_executing": false
    }
   }
  },
  {
   "cell_type": "code",
   "source": [
    "import os\n",
    "from path import Path\n",
    "PROJ_DIR = Path().getcwd().parent\n",
    "DATA_DIR = PROJ_DIR / \"data\"\n",
    "os.chdir (PROJ_DIR)"
   ],
   "metadata": {
    "collapsed": false,
    "pycharm": {
     "name": "#%% \n",
     "is_executing": false
    }
   },
   "execution_count": 2,
   "outputs": []
  },
  {
   "cell_type": "code",
   "execution_count": 3,
   "outputs": [],
   "source": [
    "from scripts.src.BuilderGraph import BuilderGraph\n",
    "from scripts.src.BuilderGraphWithMerge import BuilderGraphWithMerge"
   ],
   "metadata": {
    "collapsed": false,
    "pycharm": {
     "name": "#%%\n",
     "is_executing": false
    }
   }
  },
  {
   "cell_type": "code",
   "execution_count": 4,
   "outputs": [
    {
     "data": {
      "text/plain": "                  data stato  codice_regione denominazione_regione  \\\n0  2020-02-24T18:00:00   ITA              13               Abruzzo   \n1  2020-02-24T18:00:00   ITA              13               Abruzzo   \n2  2020-02-24T18:00:00   ITA              13               Abruzzo   \n3  2020-02-24T18:00:00   ITA              13               Abruzzo   \n4  2020-02-24T18:00:00   ITA              13               Abruzzo   \n\n   codice_provincia               denominazione_provincia sigla_provincia  \\\n0                69                                Chieti              CH   \n1                66                              L'Aquila              AQ   \n2                68                               Pescara              PE   \n3                67                                Teramo              TE   \n4               979  In fase di definizione/aggiornamento                   \n\n         lat       long  totale_casi note_it note_en  \n0  42.351032  14.167546            0                  \n1  42.351222  13.398438            0                  \n2  42.464584  14.213648            0                  \n3  42.658918  13.704400            0                  \n4   0.000000   0.000000            0                  ",
      "text/html": "<div>\n<style scoped>\n    .dataframe tbody tr th:only-of-type {\n        vertical-align: middle;\n    }\n\n    .dataframe tbody tr th {\n        vertical-align: top;\n    }\n\n    .dataframe thead th {\n        text-align: right;\n    }\n</style>\n<table border=\"1\" class=\"dataframe\">\n  <thead>\n    <tr style=\"text-align: right;\">\n      <th></th>\n      <th>data</th>\n      <th>stato</th>\n      <th>codice_regione</th>\n      <th>denominazione_regione</th>\n      <th>codice_provincia</th>\n      <th>denominazione_provincia</th>\n      <th>sigla_provincia</th>\n      <th>lat</th>\n      <th>long</th>\n      <th>totale_casi</th>\n      <th>note_it</th>\n      <th>note_en</th>\n    </tr>\n  </thead>\n  <tbody>\n    <tr>\n      <th>0</th>\n      <td>2020-02-24T18:00:00</td>\n      <td>ITA</td>\n      <td>13</td>\n      <td>Abruzzo</td>\n      <td>69</td>\n      <td>Chieti</td>\n      <td>CH</td>\n      <td>42.351032</td>\n      <td>14.167546</td>\n      <td>0</td>\n      <td></td>\n      <td></td>\n    </tr>\n    <tr>\n      <th>1</th>\n      <td>2020-02-24T18:00:00</td>\n      <td>ITA</td>\n      <td>13</td>\n      <td>Abruzzo</td>\n      <td>66</td>\n      <td>L'Aquila</td>\n      <td>AQ</td>\n      <td>42.351222</td>\n      <td>13.398438</td>\n      <td>0</td>\n      <td></td>\n      <td></td>\n    </tr>\n    <tr>\n      <th>2</th>\n      <td>2020-02-24T18:00:00</td>\n      <td>ITA</td>\n      <td>13</td>\n      <td>Abruzzo</td>\n      <td>68</td>\n      <td>Pescara</td>\n      <td>PE</td>\n      <td>42.464584</td>\n      <td>14.213648</td>\n      <td>0</td>\n      <td></td>\n      <td></td>\n    </tr>\n    <tr>\n      <th>3</th>\n      <td>2020-02-24T18:00:00</td>\n      <td>ITA</td>\n      <td>13</td>\n      <td>Abruzzo</td>\n      <td>67</td>\n      <td>Teramo</td>\n      <td>TE</td>\n      <td>42.658918</td>\n      <td>13.704400</td>\n      <td>0</td>\n      <td></td>\n      <td></td>\n    </tr>\n    <tr>\n      <th>4</th>\n      <td>2020-02-24T18:00:00</td>\n      <td>ITA</td>\n      <td>13</td>\n      <td>Abruzzo</td>\n      <td>979</td>\n      <td>In fase di definizione/aggiornamento</td>\n      <td></td>\n      <td>0.000000</td>\n      <td>0.000000</td>\n      <td>0</td>\n      <td></td>\n      <td></td>\n    </tr>\n  </tbody>\n</table>\n</div>"
     },
     "metadata": {},
     "output_type": "execute_result",
     "execution_count": 4
    }
   ],
   "source": [
    "import json\n",
    "\n",
    "with open(DATA_DIR/'dpc-covid19-ita-province.json') as f:\n",
    "         d= json.load(f) \n",
    "json.dumps(d)\n",
    "covid19_dataset=pd.DataFrame(d)\n",
    "#covid19_dataset=covid19_dataset.drop(\"In fase di definizione/aggiornamento\",0)\n",
    "covid19_dataset.head()"
   ],
   "metadata": {
    "collapsed": false,
    "pycharm": {
     "name": "#%%\n",
     "is_executing": false
    }
   }
  },
  {
   "cell_type": "code",
   "execution_count": 5,
   "outputs": [
    {
     "data": {
      "text/plain": "Index(['data', 'stato', 'codice_regione', 'denominazione_regione',\n       'codice_provincia', 'denominazione_provincia', 'sigla_provincia', 'lat',\n       'long', 'totale_casi', 'note_it', 'note_en'],\n      dtype='object')"
     },
     "metadata": {},
     "output_type": "execute_result",
     "execution_count": 5
    }
   ],
   "source": [
    "covid19_dataset.columns"
   ],
   "metadata": {
    "collapsed": false,
    "pycharm": {
     "name": "#%%\n",
     "is_executing": false
    }
   }
  },
  {
   "cell_type": "code",
   "execution_count": 6,
   "outputs": [],
   "source": [
    "covid19_dataset.drop_duplicates(subset=['denominazione_provincia'],inplace=True)\n"
   ],
   "metadata": {
    "collapsed": false,
    "pycharm": {
     "name": "#%%\n",
     "is_executing": false
    }
   }
  },
  {
   "cell_type": "code",
   "execution_count": 7,
   "outputs": [
    {
     "data": {
      "text/plain": "                   data stato  codice_regione denominazione_regione  \\\n0   2020-02-24T18:00:00   ITA              13               Abruzzo   \n1   2020-02-24T18:00:00   ITA              13               Abruzzo   \n2   2020-02-24T18:00:00   ITA              13               Abruzzo   \n3   2020-02-24T18:00:00   ITA              13               Abruzzo   \n4   2020-02-24T18:00:00   ITA              13               Abruzzo   \n5   2020-02-24T18:00:00   ITA              17            Basilicata   \n6   2020-02-24T18:00:00   ITA              17            Basilicata   \n8   2020-02-24T18:00:00   ITA              21          P.A. Bolzano   \n10  2020-02-24T18:00:00   ITA              18              Calabria   \n11  2020-02-24T18:00:00   ITA              18              Calabria   \n12  2020-02-24T18:00:00   ITA              18              Calabria   \n13  2020-02-24T18:00:00   ITA              18              Calabria   \n14  2020-02-24T18:00:00   ITA              18              Calabria   \n16  2020-02-24T18:00:00   ITA              15              Campania   \n17  2020-02-24T18:00:00   ITA              15              Campania   \n18  2020-02-24T18:00:00   ITA              15              Campania   \n19  2020-02-24T18:00:00   ITA              15              Campania   \n20  2020-02-24T18:00:00   ITA              15              Campania   \n22  2020-02-24T18:00:00   ITA               8        Emilia-Romagna   \n23  2020-02-24T18:00:00   ITA               8        Emilia-Romagna   \n\n    codice_provincia               denominazione_provincia sigla_provincia  \\\n0                 69                                Chieti              CH   \n1                 66                              L'Aquila              AQ   \n2                 68                               Pescara              PE   \n3                 67                                Teramo              TE   \n4                979  In fase di definizione/aggiornamento                   \n5                 77                                Matera              MT   \n6                 76                               Potenza              PZ   \n8                 21                               Bolzano              BZ   \n10                79                             Catanzaro              CZ   \n11                78                               Cosenza              CS   \n12               101                               Crotone              KR   \n13                80                    Reggio di Calabria              RC   \n14               102                         Vibo Valentia              VV   \n16                64                              Avellino              AV   \n17                62                             Benevento              BN   \n18                61                               Caserta              CE   \n19                63                                Napoli              NA   \n20                65                               Salerno              SA   \n22                37                               Bologna              BO   \n23                38                               Ferrara              FE   \n\n          lat       long  totale_casi note_it note_en  \n0   42.351032  14.167546            0                  \n1   42.351222  13.398438            0                  \n2   42.464584  14.213648            0                  \n3   42.658918  13.704400            0                  \n4    0.000000   0.000000            0                  \n5   40.667512  16.597924            0                  \n6   40.639471  15.805148            0                  \n8   46.499335  11.356624            0                  \n10  38.905976  16.594402            0                  \n11  39.293087  16.256097            0                  \n12  39.080369  17.125389            0                  \n13  38.109228  15.643453            0                  \n14  38.676241  16.101574            0                  \n16  40.914047  14.795288            0                  \n17  41.129700  14.781517            0                  \n18  41.074659  14.332405            0                  \n19  40.839566  14.250850            0                  \n20  40.678220  14.759403            0                  \n22  44.494367  11.341721            0                  \n23  44.835991  11.618689            0                  ",
      "text/html": "<div>\n<style scoped>\n    .dataframe tbody tr th:only-of-type {\n        vertical-align: middle;\n    }\n\n    .dataframe tbody tr th {\n        vertical-align: top;\n    }\n\n    .dataframe thead th {\n        text-align: right;\n    }\n</style>\n<table border=\"1\" class=\"dataframe\">\n  <thead>\n    <tr style=\"text-align: right;\">\n      <th></th>\n      <th>data</th>\n      <th>stato</th>\n      <th>codice_regione</th>\n      <th>denominazione_regione</th>\n      <th>codice_provincia</th>\n      <th>denominazione_provincia</th>\n      <th>sigla_provincia</th>\n      <th>lat</th>\n      <th>long</th>\n      <th>totale_casi</th>\n      <th>note_it</th>\n      <th>note_en</th>\n    </tr>\n  </thead>\n  <tbody>\n    <tr>\n      <th>0</th>\n      <td>2020-02-24T18:00:00</td>\n      <td>ITA</td>\n      <td>13</td>\n      <td>Abruzzo</td>\n      <td>69</td>\n      <td>Chieti</td>\n      <td>CH</td>\n      <td>42.351032</td>\n      <td>14.167546</td>\n      <td>0</td>\n      <td></td>\n      <td></td>\n    </tr>\n    <tr>\n      <th>1</th>\n      <td>2020-02-24T18:00:00</td>\n      <td>ITA</td>\n      <td>13</td>\n      <td>Abruzzo</td>\n      <td>66</td>\n      <td>L'Aquila</td>\n      <td>AQ</td>\n      <td>42.351222</td>\n      <td>13.398438</td>\n      <td>0</td>\n      <td></td>\n      <td></td>\n    </tr>\n    <tr>\n      <th>2</th>\n      <td>2020-02-24T18:00:00</td>\n      <td>ITA</td>\n      <td>13</td>\n      <td>Abruzzo</td>\n      <td>68</td>\n      <td>Pescara</td>\n      <td>PE</td>\n      <td>42.464584</td>\n      <td>14.213648</td>\n      <td>0</td>\n      <td></td>\n      <td></td>\n    </tr>\n    <tr>\n      <th>3</th>\n      <td>2020-02-24T18:00:00</td>\n      <td>ITA</td>\n      <td>13</td>\n      <td>Abruzzo</td>\n      <td>67</td>\n      <td>Teramo</td>\n      <td>TE</td>\n      <td>42.658918</td>\n      <td>13.704400</td>\n      <td>0</td>\n      <td></td>\n      <td></td>\n    </tr>\n    <tr>\n      <th>4</th>\n      <td>2020-02-24T18:00:00</td>\n      <td>ITA</td>\n      <td>13</td>\n      <td>Abruzzo</td>\n      <td>979</td>\n      <td>In fase di definizione/aggiornamento</td>\n      <td></td>\n      <td>0.000000</td>\n      <td>0.000000</td>\n      <td>0</td>\n      <td></td>\n      <td></td>\n    </tr>\n    <tr>\n      <th>5</th>\n      <td>2020-02-24T18:00:00</td>\n      <td>ITA</td>\n      <td>17</td>\n      <td>Basilicata</td>\n      <td>77</td>\n      <td>Matera</td>\n      <td>MT</td>\n      <td>40.667512</td>\n      <td>16.597924</td>\n      <td>0</td>\n      <td></td>\n      <td></td>\n    </tr>\n    <tr>\n      <th>6</th>\n      <td>2020-02-24T18:00:00</td>\n      <td>ITA</td>\n      <td>17</td>\n      <td>Basilicata</td>\n      <td>76</td>\n      <td>Potenza</td>\n      <td>PZ</td>\n      <td>40.639471</td>\n      <td>15.805148</td>\n      <td>0</td>\n      <td></td>\n      <td></td>\n    </tr>\n    <tr>\n      <th>8</th>\n      <td>2020-02-24T18:00:00</td>\n      <td>ITA</td>\n      <td>21</td>\n      <td>P.A. Bolzano</td>\n      <td>21</td>\n      <td>Bolzano</td>\n      <td>BZ</td>\n      <td>46.499335</td>\n      <td>11.356624</td>\n      <td>0</td>\n      <td></td>\n      <td></td>\n    </tr>\n    <tr>\n      <th>10</th>\n      <td>2020-02-24T18:00:00</td>\n      <td>ITA</td>\n      <td>18</td>\n      <td>Calabria</td>\n      <td>79</td>\n      <td>Catanzaro</td>\n      <td>CZ</td>\n      <td>38.905976</td>\n      <td>16.594402</td>\n      <td>0</td>\n      <td></td>\n      <td></td>\n    </tr>\n    <tr>\n      <th>11</th>\n      <td>2020-02-24T18:00:00</td>\n      <td>ITA</td>\n      <td>18</td>\n      <td>Calabria</td>\n      <td>78</td>\n      <td>Cosenza</td>\n      <td>CS</td>\n      <td>39.293087</td>\n      <td>16.256097</td>\n      <td>0</td>\n      <td></td>\n      <td></td>\n    </tr>\n    <tr>\n      <th>12</th>\n      <td>2020-02-24T18:00:00</td>\n      <td>ITA</td>\n      <td>18</td>\n      <td>Calabria</td>\n      <td>101</td>\n      <td>Crotone</td>\n      <td>KR</td>\n      <td>39.080369</td>\n      <td>17.125389</td>\n      <td>0</td>\n      <td></td>\n      <td></td>\n    </tr>\n    <tr>\n      <th>13</th>\n      <td>2020-02-24T18:00:00</td>\n      <td>ITA</td>\n      <td>18</td>\n      <td>Calabria</td>\n      <td>80</td>\n      <td>Reggio di Calabria</td>\n      <td>RC</td>\n      <td>38.109228</td>\n      <td>15.643453</td>\n      <td>0</td>\n      <td></td>\n      <td></td>\n    </tr>\n    <tr>\n      <th>14</th>\n      <td>2020-02-24T18:00:00</td>\n      <td>ITA</td>\n      <td>18</td>\n      <td>Calabria</td>\n      <td>102</td>\n      <td>Vibo Valentia</td>\n      <td>VV</td>\n      <td>38.676241</td>\n      <td>16.101574</td>\n      <td>0</td>\n      <td></td>\n      <td></td>\n    </tr>\n    <tr>\n      <th>16</th>\n      <td>2020-02-24T18:00:00</td>\n      <td>ITA</td>\n      <td>15</td>\n      <td>Campania</td>\n      <td>64</td>\n      <td>Avellino</td>\n      <td>AV</td>\n      <td>40.914047</td>\n      <td>14.795288</td>\n      <td>0</td>\n      <td></td>\n      <td></td>\n    </tr>\n    <tr>\n      <th>17</th>\n      <td>2020-02-24T18:00:00</td>\n      <td>ITA</td>\n      <td>15</td>\n      <td>Campania</td>\n      <td>62</td>\n      <td>Benevento</td>\n      <td>BN</td>\n      <td>41.129700</td>\n      <td>14.781517</td>\n      <td>0</td>\n      <td></td>\n      <td></td>\n    </tr>\n    <tr>\n      <th>18</th>\n      <td>2020-02-24T18:00:00</td>\n      <td>ITA</td>\n      <td>15</td>\n      <td>Campania</td>\n      <td>61</td>\n      <td>Caserta</td>\n      <td>CE</td>\n      <td>41.074659</td>\n      <td>14.332405</td>\n      <td>0</td>\n      <td></td>\n      <td></td>\n    </tr>\n    <tr>\n      <th>19</th>\n      <td>2020-02-24T18:00:00</td>\n      <td>ITA</td>\n      <td>15</td>\n      <td>Campania</td>\n      <td>63</td>\n      <td>Napoli</td>\n      <td>NA</td>\n      <td>40.839566</td>\n      <td>14.250850</td>\n      <td>0</td>\n      <td></td>\n      <td></td>\n    </tr>\n    <tr>\n      <th>20</th>\n      <td>2020-02-24T18:00:00</td>\n      <td>ITA</td>\n      <td>15</td>\n      <td>Campania</td>\n      <td>65</td>\n      <td>Salerno</td>\n      <td>SA</td>\n      <td>40.678220</td>\n      <td>14.759403</td>\n      <td>0</td>\n      <td></td>\n      <td></td>\n    </tr>\n    <tr>\n      <th>22</th>\n      <td>2020-02-24T18:00:00</td>\n      <td>ITA</td>\n      <td>8</td>\n      <td>Emilia-Romagna</td>\n      <td>37</td>\n      <td>Bologna</td>\n      <td>BO</td>\n      <td>44.494367</td>\n      <td>11.341721</td>\n      <td>0</td>\n      <td></td>\n      <td></td>\n    </tr>\n    <tr>\n      <th>23</th>\n      <td>2020-02-24T18:00:00</td>\n      <td>ITA</td>\n      <td>8</td>\n      <td>Emilia-Romagna</td>\n      <td>38</td>\n      <td>Ferrara</td>\n      <td>FE</td>\n      <td>44.835991</td>\n      <td>11.618689</td>\n      <td>0</td>\n      <td></td>\n      <td></td>\n    </tr>\n  </tbody>\n</table>\n</div>"
     },
     "metadata": {},
     "output_type": "execute_result",
     "execution_count": 7
    }
   ],
   "source": [
    "covid19_dataset.head(20)"
   ],
   "metadata": {
    "collapsed": false,
    "pycharm": {
     "name": "#%%\n",
     "is_executing": false
    }
   }
  },
  {
   "cell_type": "code",
   "execution_count": 8,
   "outputs": [
    {
     "data": {
      "text/plain": "                                  citta        lat       long\n0                                Chieti  42.351032  14.167546\n1                              L'Aquila  42.351222  13.398438\n2                               Pescara  42.464584  14.213648\n3                                Teramo  42.658918  13.704400\n4  In fase di definizione/aggiornamento   0.000000   0.000000",
      "text/html": "<div>\n<style scoped>\n    .dataframe tbody tr th:only-of-type {\n        vertical-align: middle;\n    }\n\n    .dataframe tbody tr th {\n        vertical-align: top;\n    }\n\n    .dataframe thead th {\n        text-align: right;\n    }\n</style>\n<table border=\"1\" class=\"dataframe\">\n  <thead>\n    <tr style=\"text-align: right;\">\n      <th></th>\n      <th>citta</th>\n      <th>lat</th>\n      <th>long</th>\n    </tr>\n  </thead>\n  <tbody>\n    <tr>\n      <th>0</th>\n      <td>Chieti</td>\n      <td>42.351032</td>\n      <td>14.167546</td>\n    </tr>\n    <tr>\n      <th>1</th>\n      <td>L'Aquila</td>\n      <td>42.351222</td>\n      <td>13.398438</td>\n    </tr>\n    <tr>\n      <th>2</th>\n      <td>Pescara</td>\n      <td>42.464584</td>\n      <td>14.213648</td>\n    </tr>\n    <tr>\n      <th>3</th>\n      <td>Teramo</td>\n      <td>42.658918</td>\n      <td>13.704400</td>\n    </tr>\n    <tr>\n      <th>4</th>\n      <td>In fase di definizione/aggiornamento</td>\n      <td>0.000000</td>\n      <td>0.000000</td>\n    </tr>\n  </tbody>\n</table>\n</div>"
     },
     "metadata": {},
     "output_type": "execute_result",
     "execution_count": 8
    }
   ],
   "source": [
    "provincia = covid19_dataset['denominazione_provincia']\n",
    "lat = covid19_dataset['lat']\n",
    "long = covid19_dataset['long']\n",
    "province = pd.DataFrame(data = {'citta': provincia, 'lat': lat, 'long':long})\n",
    "province.head()"
   ],
   "metadata": {
    "collapsed": false,
    "pycharm": {
     "name": "#%%\n",
     "is_executing": false
    }
   }
  },
  {
   "cell_type": "code",
   "execution_count": 9,
   "outputs": [
    {
     "data": {
      "text/plain": "<Figure size 432x288 with 1 Axes>",
      "image/png": "[encoded data removed]"
     },
     "metadata": {},
     "output_type": "display_data"
    }
   ],
   "source": [
    "builderGraph1 = BuilderGraph(0.8)\n",
    "graph = builderGraph1.buildGraph(province)\n",
    "nx.draw(graph)"
   ],
   "metadata": {
    "collapsed": false,
    "pycharm": {
     "name": "#%%\n",
     "is_executing": false
    }
   }
  },
  {
   "cell_type": "code",
   "execution_count": 10,
   "outputs": [
    {
     "data": {
      "text/plain": "True"
     },
     "metadata": {},
     "output_type": "execute_result",
     "execution_count": 10
    }
   ],
   "source": [
    "builderGraph2=BuilderGraphWithMerge(0.8)\n",
    "graph1=builderGraph2.buildGraph(province)\n",
    "nx.is_isomorphic(graph, graph1)"
   ],
   "metadata": {
    "collapsed": false,
    "pycharm": {
     "name": "#%%\n",
     "is_executing": false
    }
   }
  },
  {
   "cell_type": "code",
   "execution_count": 13,
   "outputs": [
    {
     "name": "stdout",
     "text": [
      "17.3 ms ± 4.33 ms per loop (mean ± std. dev. of 7 runs, 10 loops each)\n"
     ],
     "output_type": "stream"
    }
   ],
   "source": [
    "%timeit builderGraph1.buildGraph(province)\n"
   ],
   "metadata": {
    "collapsed": false,
    "pycharm": {
     "name": "#%%\n",
     "is_executing": false
    }
   }
  },
  {
   "cell_type": "code",
   "execution_count": 14,
   "outputs": [
    {
     "name": "stdout",
     "text": [
      "491 ms ± 18 ms per loop (mean ± std. dev. of 7 runs, 1 loop each)\n"
     ],
     "output_type": "stream"
    }
   ],
   "source": [
    "%timeit builderGraph2.buildGraph(province)\n"
   ],
   "metadata": {
    "collapsed": false,
    "pycharm": {
     "name": "#%%\n",
     "is_executing": false
    }
   }
  }
 ],
 "metadata": {
  "kernelspec": {
   "display_name": "Python 3",
   "language": "python",
   "name": "python3"
  },
  "language_info": {
   "codemirror_mode": {
    "name": "ipython",
    "version": 2
   },
   "file_extension": ".py",
   "mimetype": "text/x-python",
   "name": "python",
   "nbconvert_exporter": "python",
   "pygments_lexer": "ipython2",
   "version": "2.7.6"
  },
  "pycharm": {
   "stem_cell": {
    "cell_type": "raw",
    "source": [],
    "metadata": {
     "collapsed": false
    }
   }
  }
 },
 "nbformat": 4,
 "nbformat_minor": 0
}